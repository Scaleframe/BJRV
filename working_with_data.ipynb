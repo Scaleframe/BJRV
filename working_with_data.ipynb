{
 "cells": [
  {
   "cell_type": "markdown",
   "metadata": {},
   "source": [
    "# Hands-On With Python"
   ]
  },
  {
   "cell_type": "markdown",
   "metadata": {},
   "source": [
    "## B-J-R-V: The objective of our group is...TBD"
   ]
  },
  {
   "cell_type": "markdown",
   "metadata": {},
   "source": [
    "*In this walk-through, we will be covering four main techniques to get you comfortable manipulating data with Python.*\n",
    "\n",
    "#### Background\n",
    "I'm sure many of you are familiar with the blue and white bikes throughout Pittsburgh which are known to some as \"Healthy Rides\". Pittsburgh Bike Share, a non-profit located in the Strip District, works to maintain the Healthy Ride bike stations and bikes. The hardware and software is provided by nextbike, which allows Pittsburgh Bike Share to post the data publicly. The dataset can be obtained [here](https://healthyridepgh.com/data/). We will be focusing on the Q2 2017 data, which is already downloaded to this repository. There are two files: `rentals.csv` which provides information on individual rides and `stations.csv` which provides additional information about each bike station.\n",
    "\n",
    "#### Overview\n",
    "1. Reading data into a data frame (and previewing it)\n",
    "2. Selecting/manipulating data\n",
    "3. Aggregating data\n",
    "4. Plotting data\n",
    "\n",
    "At the end, you can try your hand at aggregating and plotting the healthy ride data on your own."
   ]
  },
  {
   "cell_type": "markdown",
   "metadata": {},
   "source": [
    "### 1. Reading data into a data frame\n",
    "Here, we import the pandas package (commonly referred to as \"pd\")."
   ]
  },
  {
   "cell_type": "code",
   "execution_count": 1,
   "metadata": {
    "collapsed": true
   },
   "outputs": [],
   "source": [
    "import pandas as pd\n",
    "import numpy as np"
   ]
  },
  {
   "cell_type": "markdown",
   "metadata": {},
   "source": [
    "Next, we read in the rentals.csv file (with the `encoding='latin-1'` parameter) and preview the data using `rentals_df.head()`"
   ]
  },
  {
   "cell_type": "code",
   "execution_count": 2,
   "metadata": {},
   "outputs": [
    {
     "data": {
      "text/html": [
       "<div>\n",
       "<style>\n",
       "    .dataframe thead tr:only-child th {\n",
       "        text-align: right;\n",
       "    }\n",
       "\n",
       "    .dataframe thead th {\n",
       "        text-align: left;\n",
       "    }\n",
       "\n",
       "    .dataframe tbody tr th {\n",
       "        vertical-align: top;\n",
       "    }\n",
       "</style>\n",
       "<table border=\"1\" class=\"dataframe\">\n",
       "  <thead>\n",
       "    <tr style=\"text-align: right;\">\n",
       "      <th></th>\n",
       "      <th>Trip id</th>\n",
       "      <th>Starttime</th>\n",
       "      <th>Stoptime</th>\n",
       "      <th>Bikeid</th>\n",
       "      <th>Tripduration</th>\n",
       "      <th>From station id</th>\n",
       "      <th>From station name</th>\n",
       "      <th>To station id</th>\n",
       "      <th>To station name</th>\n",
       "      <th>Usertype</th>\n",
       "    </tr>\n",
       "  </thead>\n",
       "  <tbody>\n",
       "    <tr>\n",
       "      <th>0</th>\n",
       "      <td>27193394</td>\n",
       "      <td>4/1/2017 0:59</td>\n",
       "      <td>4/1/2017 1:43</td>\n",
       "      <td>70024</td>\n",
       "      <td>2659</td>\n",
       "      <td>1012</td>\n",
       "      <td>North Shore Trail &amp; Fort Duquesne Bridge</td>\n",
       "      <td>1045</td>\n",
       "      <td>S 27th St &amp; Sidney St. (Southside Works)</td>\n",
       "      <td>Customer</td>\n",
       "    </tr>\n",
       "    <tr>\n",
       "      <th>1</th>\n",
       "      <td>27193815</td>\n",
       "      <td>4/1/2017 1:43</td>\n",
       "      <td>4/1/2017 1:48</td>\n",
       "      <td>70353</td>\n",
       "      <td>284</td>\n",
       "      <td>1037</td>\n",
       "      <td>Frew St &amp; Schenley Dr</td>\n",
       "      <td>1038</td>\n",
       "      <td>Boulevard of the Allies &amp; Parkview Ave</td>\n",
       "      <td>Subscriber</td>\n",
       "    </tr>\n",
       "    <tr>\n",
       "      <th>2</th>\n",
       "      <td>27194749</td>\n",
       "      <td>4/1/2017 2:35</td>\n",
       "      <td>4/1/2017 3:01</td>\n",
       "      <td>70067</td>\n",
       "      <td>1576</td>\n",
       "      <td>1010</td>\n",
       "      <td>10th St &amp; Penn Ave (David L. Lawrence Conventi...</td>\n",
       "      <td>1010</td>\n",
       "      <td>10th St &amp; Penn Ave (David L. Lawrence Conventi...</td>\n",
       "      <td>Customer</td>\n",
       "    </tr>\n",
       "    <tr>\n",
       "      <th>3</th>\n",
       "      <td>27201194</td>\n",
       "      <td>4/1/2017 5:05</td>\n",
       "      <td>4/1/2017 7:46</td>\n",
       "      <td>70191</td>\n",
       "      <td>9695</td>\n",
       "      <td>1005</td>\n",
       "      <td>Forbes Ave &amp; Grant St</td>\n",
       "      <td>1043</td>\n",
       "      <td>Coltart Ave &amp; Forbes Ave</td>\n",
       "      <td>Customer</td>\n",
       "    </tr>\n",
       "    <tr>\n",
       "      <th>4</th>\n",
       "      <td>27203670</td>\n",
       "      <td>4/1/2017 5:35</td>\n",
       "      <td>4/1/2017 5:54</td>\n",
       "      <td>70353</td>\n",
       "      <td>1164</td>\n",
       "      <td>1038</td>\n",
       "      <td>Boulevard of the Allies &amp; Parkview Ave</td>\n",
       "      <td>1047</td>\n",
       "      <td>S 22nd St &amp; E Carson St</td>\n",
       "      <td>Subscriber</td>\n",
       "    </tr>\n",
       "  </tbody>\n",
       "</table>\n",
       "</div>"
      ],
      "text/plain": [
       "    Trip id      Starttime       Stoptime  Bikeid  Tripduration  \\\n",
       "0  27193394  4/1/2017 0:59  4/1/2017 1:43   70024          2659   \n",
       "1  27193815  4/1/2017 1:43  4/1/2017 1:48   70353           284   \n",
       "2  27194749  4/1/2017 2:35  4/1/2017 3:01   70067          1576   \n",
       "3  27201194  4/1/2017 5:05  4/1/2017 7:46   70191          9695   \n",
       "4  27203670  4/1/2017 5:35  4/1/2017 5:54   70353          1164   \n",
       "\n",
       "   From station id                                  From station name  \\\n",
       "0             1012           North Shore Trail & Fort Duquesne Bridge   \n",
       "1             1037                              Frew St & Schenley Dr   \n",
       "2             1010  10th St & Penn Ave (David L. Lawrence Conventi...   \n",
       "3             1005                              Forbes Ave & Grant St   \n",
       "4             1038             Boulevard of the Allies & Parkview Ave   \n",
       "\n",
       "   To station id                                    To station name  \\\n",
       "0           1045           S 27th St & Sidney St. (Southside Works)   \n",
       "1           1038             Boulevard of the Allies & Parkview Ave   \n",
       "2           1010  10th St & Penn Ave (David L. Lawrence Conventi...   \n",
       "3           1043                           Coltart Ave & Forbes Ave   \n",
       "4           1047                            S 22nd St & E Carson St   \n",
       "\n",
       "     Usertype  \n",
       "0    Customer  \n",
       "1  Subscriber  \n",
       "2    Customer  \n",
       "3    Customer  \n",
       "4  Subscriber  "
      ]
     },
     "execution_count": 2,
     "metadata": {},
     "output_type": "execute_result"
    }
   ],
   "source": [
    "rentals_df = pd.read_csv('rentals.csv', encoding='latin-1')\n",
    "\n",
    "rentals_df.head()"
   ]
  },
  {
   "cell_type": "markdown",
   "metadata": {},
   "source": [
    "We can use the `.shape` attribute of the data frame to see the count of records and number of columns."
   ]
  },
  {
   "cell_type": "code",
   "execution_count": 3,
   "metadata": {},
   "outputs": [
    {
     "data": {
      "text/plain": [
       "(24423, 10)"
      ]
     },
     "execution_count": 3,
     "metadata": {},
     "output_type": "execute_result"
    }
   ],
   "source": [
    "rentals_df.shape"
   ]
  },
  {
   "cell_type": "code",
   "execution_count": 4,
   "metadata": {},
   "outputs": [
    {
     "name": "stdout",
     "output_type": "stream",
     "text": [
      "There are 24423 records and 10 columns in the rentals.csv file.\n"
     ]
    }
   ],
   "source": [
    "print(\"There are {} records and {} columns in the rentals.csv file.\".format(rentals_df.shape[0], rentals_df.shape[1]))"
   ]
  },
  {
   "cell_type": "markdown",
   "metadata": {},
   "source": [
    "Also, we can see what data types Python assigned to each column using `rentals_df.dtypes`"
   ]
  },
  {
   "cell_type": "code",
   "execution_count": 5,
   "metadata": {},
   "outputs": [
    {
     "data": {
      "text/plain": [
       "Trip id               int64\n",
       "Starttime            object\n",
       "Stoptime             object\n",
       "Bikeid                int64\n",
       "Tripduration          int64\n",
       "From station id       int64\n",
       "From station name    object\n",
       "To station id         int64\n",
       "To station name      object\n",
       "Usertype             object\n",
       "dtype: object"
      ]
     },
     "execution_count": 5,
     "metadata": {},
     "output_type": "execute_result"
    }
   ],
   "source": [
    "rentals_df.dtypes"
   ]
  },
  {
   "cell_type": "markdown",
   "metadata": {},
   "source": [
    "### 2. Selecting and manipulating data\n",
    "Here, we will see how to select, rename and do some basic calculations with data frames."
   ]
  },
  {
   "cell_type": "markdown",
   "metadata": {},
   "source": [
    "The data set shows us the trip duration (in seconds), but we would like to see the duration in minutes.\n",
    "\n",
    "To convert the trip duration from seconds to minutes, we create a new column `Tripduration_mins` by taking the value in `Tripduration` and dividing it by 60. Then we use the `.tail()` method to check the results.\n",
    "\n",
    "It is important to note that we are **not** looping through each element - the operation of \"divide by 60\" is applied to each element automatically."
   ]
  },
  {
   "cell_type": "code",
   "execution_count": 6,
   "metadata": {},
   "outputs": [
    {
     "data": {
      "text/html": [
       "<div>\n",
       "<style>\n",
       "    .dataframe thead tr:only-child th {\n",
       "        text-align: right;\n",
       "    }\n",
       "\n",
       "    .dataframe thead th {\n",
       "        text-align: left;\n",
       "    }\n",
       "\n",
       "    .dataframe tbody tr th {\n",
       "        vertical-align: top;\n",
       "    }\n",
       "</style>\n",
       "<table border=\"1\" class=\"dataframe\">\n",
       "  <thead>\n",
       "    <tr style=\"text-align: right;\">\n",
       "      <th></th>\n",
       "      <th>Trip id</th>\n",
       "      <th>Starttime</th>\n",
       "      <th>Stoptime</th>\n",
       "      <th>Bikeid</th>\n",
       "      <th>Tripduration</th>\n",
       "      <th>From station id</th>\n",
       "      <th>From station name</th>\n",
       "      <th>To station id</th>\n",
       "      <th>To station name</th>\n",
       "      <th>Usertype</th>\n",
       "      <th>Tripduration_mins</th>\n",
       "    </tr>\n",
       "  </thead>\n",
       "  <tbody>\n",
       "    <tr>\n",
       "      <th>24418</th>\n",
       "      <td>33295197</td>\n",
       "      <td>6/30/2017 23:38</td>\n",
       "      <td>6/30/2017 23:58</td>\n",
       "      <td>70240</td>\n",
       "      <td>1212</td>\n",
       "      <td>1023</td>\n",
       "      <td>Liberty Ave &amp; Baum Blvd</td>\n",
       "      <td>1028</td>\n",
       "      <td>Penn Ave &amp; Putnam St (Bakery Square)</td>\n",
       "      <td>Customer</td>\n",
       "      <td>20.200000</td>\n",
       "    </tr>\n",
       "    <tr>\n",
       "      <th>24419</th>\n",
       "      <td>33295206</td>\n",
       "      <td>6/30/2017 23:38</td>\n",
       "      <td>6/30/2017 23:56</td>\n",
       "      <td>70178</td>\n",
       "      <td>1030</td>\n",
       "      <td>1023</td>\n",
       "      <td>Liberty Ave &amp; Baum Blvd</td>\n",
       "      <td>1028</td>\n",
       "      <td>Penn Ave &amp; Putnam St (Bakery Square)</td>\n",
       "      <td>Customer</td>\n",
       "      <td>17.166667</td>\n",
       "    </tr>\n",
       "    <tr>\n",
       "      <th>24420</th>\n",
       "      <td>33295257</td>\n",
       "      <td>6/30/2017 23:45</td>\n",
       "      <td>7/1/2017 0:07</td>\n",
       "      <td>70490</td>\n",
       "      <td>1351</td>\n",
       "      <td>1010</td>\n",
       "      <td>10th St &amp; Penn Ave (David L. Lawrence Conventi...</td>\n",
       "      <td>1019</td>\n",
       "      <td>42nd St &amp; Butler St</td>\n",
       "      <td>Customer</td>\n",
       "      <td>22.516667</td>\n",
       "    </tr>\n",
       "    <tr>\n",
       "      <th>24421</th>\n",
       "      <td>33295318</td>\n",
       "      <td>6/30/2017 23:55</td>\n",
       "      <td>7/1/2017 0:02</td>\n",
       "      <td>70019</td>\n",
       "      <td>424</td>\n",
       "      <td>1049</td>\n",
       "      <td>S 12th St &amp; E Carson St</td>\n",
       "      <td>1045</td>\n",
       "      <td>S 27th St &amp; Sidney St. (Southside Works)</td>\n",
       "      <td>Customer</td>\n",
       "      <td>7.066667</td>\n",
       "    </tr>\n",
       "    <tr>\n",
       "      <th>24422</th>\n",
       "      <td>33295336</td>\n",
       "      <td>6/30/2017 23:58</td>\n",
       "      <td>7/1/2017 0:15</td>\n",
       "      <td>70400</td>\n",
       "      <td>1008</td>\n",
       "      <td>1021</td>\n",
       "      <td>Taylor St &amp; Liberty Ave</td>\n",
       "      <td>1024</td>\n",
       "      <td>S Negley Ave &amp; Baum Blvd</td>\n",
       "      <td>Customer</td>\n",
       "      <td>16.800000</td>\n",
       "    </tr>\n",
       "  </tbody>\n",
       "</table>\n",
       "</div>"
      ],
      "text/plain": [
       "        Trip id        Starttime         Stoptime  Bikeid  Tripduration  \\\n",
       "24418  33295197  6/30/2017 23:38  6/30/2017 23:58   70240          1212   \n",
       "24419  33295206  6/30/2017 23:38  6/30/2017 23:56   70178          1030   \n",
       "24420  33295257  6/30/2017 23:45    7/1/2017 0:07   70490          1351   \n",
       "24421  33295318  6/30/2017 23:55    7/1/2017 0:02   70019           424   \n",
       "24422  33295336  6/30/2017 23:58    7/1/2017 0:15   70400          1008   \n",
       "\n",
       "       From station id                                  From station name  \\\n",
       "24418             1023                            Liberty Ave & Baum Blvd   \n",
       "24419             1023                            Liberty Ave & Baum Blvd   \n",
       "24420             1010  10th St & Penn Ave (David L. Lawrence Conventi...   \n",
       "24421             1049                            S 12th St & E Carson St   \n",
       "24422             1021                            Taylor St & Liberty Ave   \n",
       "\n",
       "       To station id                           To station name  Usertype  \\\n",
       "24418           1028      Penn Ave & Putnam St (Bakery Square)  Customer   \n",
       "24419           1028      Penn Ave & Putnam St (Bakery Square)  Customer   \n",
       "24420           1019                       42nd St & Butler St  Customer   \n",
       "24421           1045  S 27th St & Sidney St. (Southside Works)  Customer   \n",
       "24422           1024                  S Negley Ave & Baum Blvd  Customer   \n",
       "\n",
       "       Tripduration_mins  \n",
       "24418          20.200000  \n",
       "24419          17.166667  \n",
       "24420          22.516667  \n",
       "24421           7.066667  \n",
       "24422          16.800000  "
      ]
     },
     "execution_count": 6,
     "metadata": {},
     "output_type": "execute_result"
    }
   ],
   "source": [
    "rentals_df['Tripduration_mins'] = rentals_df['Tripduration'] / 60\n",
    "\n",
    "rentals_df.tail()"
   ]
  },
  {
   "cell_type": "markdown",
   "metadata": {},
   "source": [
    "Now, we want to create another column that just has the date of the `Starttime` date time column - so that we can see how many rides occur on a given day.\n",
    "\n",
    "To do this, we use the `pd.to_datetime` function, which requires a string column and date time format as parameters. We now have a date time object that we can format into any [string format](https://docs.python.org/3/library/datetime.html#strftime-and-strptime-behavior) we want."
   ]
  },
  {
   "cell_type": "code",
   "execution_count": 7,
   "metadata": {},
   "outputs": [
    {
     "data": {
      "text/html": [
       "<div>\n",
       "<style>\n",
       "    .dataframe thead tr:only-child th {\n",
       "        text-align: right;\n",
       "    }\n",
       "\n",
       "    .dataframe thead th {\n",
       "        text-align: left;\n",
       "    }\n",
       "\n",
       "    .dataframe tbody tr th {\n",
       "        vertical-align: top;\n",
       "    }\n",
       "</style>\n",
       "<table border=\"1\" class=\"dataframe\">\n",
       "  <thead>\n",
       "    <tr style=\"text-align: right;\">\n",
       "      <th></th>\n",
       "      <th>Trip id</th>\n",
       "      <th>Starttime</th>\n",
       "      <th>Stoptime</th>\n",
       "      <th>Bikeid</th>\n",
       "      <th>Tripduration</th>\n",
       "      <th>From station id</th>\n",
       "      <th>From station name</th>\n",
       "      <th>To station id</th>\n",
       "      <th>To station name</th>\n",
       "      <th>Usertype</th>\n",
       "      <th>Tripduration_mins</th>\n",
       "      <th>Starttime_dt</th>\n",
       "      <th>Startdate</th>\n",
       "    </tr>\n",
       "  </thead>\n",
       "  <tbody>\n",
       "    <tr>\n",
       "      <th>0</th>\n",
       "      <td>27193394</td>\n",
       "      <td>4/1/2017 0:59</td>\n",
       "      <td>4/1/2017 1:43</td>\n",
       "      <td>70024</td>\n",
       "      <td>2659</td>\n",
       "      <td>1012</td>\n",
       "      <td>North Shore Trail &amp; Fort Duquesne Bridge</td>\n",
       "      <td>1045</td>\n",
       "      <td>S 27th St &amp; Sidney St. (Southside Works)</td>\n",
       "      <td>Customer</td>\n",
       "      <td>44.316667</td>\n",
       "      <td>2017-04-01 00:59:00</td>\n",
       "      <td>04/01/2017</td>\n",
       "    </tr>\n",
       "    <tr>\n",
       "      <th>1</th>\n",
       "      <td>27193815</td>\n",
       "      <td>4/1/2017 1:43</td>\n",
       "      <td>4/1/2017 1:48</td>\n",
       "      <td>70353</td>\n",
       "      <td>284</td>\n",
       "      <td>1037</td>\n",
       "      <td>Frew St &amp; Schenley Dr</td>\n",
       "      <td>1038</td>\n",
       "      <td>Boulevard of the Allies &amp; Parkview Ave</td>\n",
       "      <td>Subscriber</td>\n",
       "      <td>4.733333</td>\n",
       "      <td>2017-04-01 01:43:00</td>\n",
       "      <td>04/01/2017</td>\n",
       "    </tr>\n",
       "    <tr>\n",
       "      <th>2</th>\n",
       "      <td>27194749</td>\n",
       "      <td>4/1/2017 2:35</td>\n",
       "      <td>4/1/2017 3:01</td>\n",
       "      <td>70067</td>\n",
       "      <td>1576</td>\n",
       "      <td>1010</td>\n",
       "      <td>10th St &amp; Penn Ave (David L. Lawrence Conventi...</td>\n",
       "      <td>1010</td>\n",
       "      <td>10th St &amp; Penn Ave (David L. Lawrence Conventi...</td>\n",
       "      <td>Customer</td>\n",
       "      <td>26.266667</td>\n",
       "      <td>2017-04-01 02:35:00</td>\n",
       "      <td>04/01/2017</td>\n",
       "    </tr>\n",
       "    <tr>\n",
       "      <th>3</th>\n",
       "      <td>27201194</td>\n",
       "      <td>4/1/2017 5:05</td>\n",
       "      <td>4/1/2017 7:46</td>\n",
       "      <td>70191</td>\n",
       "      <td>9695</td>\n",
       "      <td>1005</td>\n",
       "      <td>Forbes Ave &amp; Grant St</td>\n",
       "      <td>1043</td>\n",
       "      <td>Coltart Ave &amp; Forbes Ave</td>\n",
       "      <td>Customer</td>\n",
       "      <td>161.583333</td>\n",
       "      <td>2017-04-01 05:05:00</td>\n",
       "      <td>04/01/2017</td>\n",
       "    </tr>\n",
       "    <tr>\n",
       "      <th>4</th>\n",
       "      <td>27203670</td>\n",
       "      <td>4/1/2017 5:35</td>\n",
       "      <td>4/1/2017 5:54</td>\n",
       "      <td>70353</td>\n",
       "      <td>1164</td>\n",
       "      <td>1038</td>\n",
       "      <td>Boulevard of the Allies &amp; Parkview Ave</td>\n",
       "      <td>1047</td>\n",
       "      <td>S 22nd St &amp; E Carson St</td>\n",
       "      <td>Subscriber</td>\n",
       "      <td>19.400000</td>\n",
       "      <td>2017-04-01 05:35:00</td>\n",
       "      <td>04/01/2017</td>\n",
       "    </tr>\n",
       "  </tbody>\n",
       "</table>\n",
       "</div>"
      ],
      "text/plain": [
       "    Trip id      Starttime       Stoptime  Bikeid  Tripduration  \\\n",
       "0  27193394  4/1/2017 0:59  4/1/2017 1:43   70024          2659   \n",
       "1  27193815  4/1/2017 1:43  4/1/2017 1:48   70353           284   \n",
       "2  27194749  4/1/2017 2:35  4/1/2017 3:01   70067          1576   \n",
       "3  27201194  4/1/2017 5:05  4/1/2017 7:46   70191          9695   \n",
       "4  27203670  4/1/2017 5:35  4/1/2017 5:54   70353          1164   \n",
       "\n",
       "   From station id                                  From station name  \\\n",
       "0             1012           North Shore Trail & Fort Duquesne Bridge   \n",
       "1             1037                              Frew St & Schenley Dr   \n",
       "2             1010  10th St & Penn Ave (David L. Lawrence Conventi...   \n",
       "3             1005                              Forbes Ave & Grant St   \n",
       "4             1038             Boulevard of the Allies & Parkview Ave   \n",
       "\n",
       "   To station id                                    To station name  \\\n",
       "0           1045           S 27th St & Sidney St. (Southside Works)   \n",
       "1           1038             Boulevard of the Allies & Parkview Ave   \n",
       "2           1010  10th St & Penn Ave (David L. Lawrence Conventi...   \n",
       "3           1043                           Coltart Ave & Forbes Ave   \n",
       "4           1047                            S 22nd St & E Carson St   \n",
       "\n",
       "     Usertype  Tripduration_mins        Starttime_dt   Startdate  \n",
       "0    Customer          44.316667 2017-04-01 00:59:00  04/01/2017  \n",
       "1  Subscriber           4.733333 2017-04-01 01:43:00  04/01/2017  \n",
       "2    Customer          26.266667 2017-04-01 02:35:00  04/01/2017  \n",
       "3    Customer         161.583333 2017-04-01 05:05:00  04/01/2017  \n",
       "4  Subscriber          19.400000 2017-04-01 05:35:00  04/01/2017  "
      ]
     },
     "execution_count": 7,
     "metadata": {},
     "output_type": "execute_result"
    }
   ],
   "source": [
    "# Parse the date time object from a string\n",
    "rentals_df['Starttime_dt'] = pd.to_datetime(rentals_df['Starttime'], format='%m/%d/%Y %H:%M')\n",
    "\n",
    "# Format the date time object as a string\n",
    "rentals_df['Startdate'] = rentals_df['Starttime_dt'].dt.strftime('%m/%d/%Y')\n",
    "\n",
    "rentals_df.head()"
   ]
  },
  {
   "cell_type": "markdown",
   "metadata": {},
   "source": [
    "Our data frame is getting a bit crowded. For the purposes of the rest of this analysis, we don't need all of these columns. \n",
    "\n",
    "Let's drop a few of the columns we used in calculations and no longer need."
   ]
  },
  {
   "cell_type": "code",
   "execution_count": 8,
   "metadata": {},
   "outputs": [
    {
     "data": {
      "text/html": [
       "<div>\n",
       "<style>\n",
       "    .dataframe thead tr:only-child th {\n",
       "        text-align: right;\n",
       "    }\n",
       "\n",
       "    .dataframe thead th {\n",
       "        text-align: left;\n",
       "    }\n",
       "\n",
       "    .dataframe tbody tr th {\n",
       "        vertical-align: top;\n",
       "    }\n",
       "</style>\n",
       "<table border=\"1\" class=\"dataframe\">\n",
       "  <thead>\n",
       "    <tr style=\"text-align: right;\">\n",
       "      <th></th>\n",
       "      <th>From station name</th>\n",
       "      <th>To station name</th>\n",
       "      <th>Usertype</th>\n",
       "      <th>Tripduration_mins</th>\n",
       "      <th>Starttime_dt</th>\n",
       "      <th>Startdate</th>\n",
       "    </tr>\n",
       "  </thead>\n",
       "  <tbody>\n",
       "    <tr>\n",
       "      <th>0</th>\n",
       "      <td>North Shore Trail &amp; Fort Duquesne Bridge</td>\n",
       "      <td>S 27th St &amp; Sidney St. (Southside Works)</td>\n",
       "      <td>Customer</td>\n",
       "      <td>44.316667</td>\n",
       "      <td>2017-04-01 00:59:00</td>\n",
       "      <td>04/01/2017</td>\n",
       "    </tr>\n",
       "    <tr>\n",
       "      <th>1</th>\n",
       "      <td>Frew St &amp; Schenley Dr</td>\n",
       "      <td>Boulevard of the Allies &amp; Parkview Ave</td>\n",
       "      <td>Subscriber</td>\n",
       "      <td>4.733333</td>\n",
       "      <td>2017-04-01 01:43:00</td>\n",
       "      <td>04/01/2017</td>\n",
       "    </tr>\n",
       "    <tr>\n",
       "      <th>2</th>\n",
       "      <td>10th St &amp; Penn Ave (David L. Lawrence Conventi...</td>\n",
       "      <td>10th St &amp; Penn Ave (David L. Lawrence Conventi...</td>\n",
       "      <td>Customer</td>\n",
       "      <td>26.266667</td>\n",
       "      <td>2017-04-01 02:35:00</td>\n",
       "      <td>04/01/2017</td>\n",
       "    </tr>\n",
       "    <tr>\n",
       "      <th>3</th>\n",
       "      <td>Forbes Ave &amp; Grant St</td>\n",
       "      <td>Coltart Ave &amp; Forbes Ave</td>\n",
       "      <td>Customer</td>\n",
       "      <td>161.583333</td>\n",
       "      <td>2017-04-01 05:05:00</td>\n",
       "      <td>04/01/2017</td>\n",
       "    </tr>\n",
       "    <tr>\n",
       "      <th>4</th>\n",
       "      <td>Boulevard of the Allies &amp; Parkview Ave</td>\n",
       "      <td>S 22nd St &amp; E Carson St</td>\n",
       "      <td>Subscriber</td>\n",
       "      <td>19.400000</td>\n",
       "      <td>2017-04-01 05:35:00</td>\n",
       "      <td>04/01/2017</td>\n",
       "    </tr>\n",
       "  </tbody>\n",
       "</table>\n",
       "</div>"
      ],
      "text/plain": [
       "                                   From station name  \\\n",
       "0           North Shore Trail & Fort Duquesne Bridge   \n",
       "1                              Frew St & Schenley Dr   \n",
       "2  10th St & Penn Ave (David L. Lawrence Conventi...   \n",
       "3                              Forbes Ave & Grant St   \n",
       "4             Boulevard of the Allies & Parkview Ave   \n",
       "\n",
       "                                     To station name    Usertype  \\\n",
       "0           S 27th St & Sidney St. (Southside Works)    Customer   \n",
       "1             Boulevard of the Allies & Parkview Ave  Subscriber   \n",
       "2  10th St & Penn Ave (David L. Lawrence Conventi...    Customer   \n",
       "3                           Coltart Ave & Forbes Ave    Customer   \n",
       "4                            S 22nd St & E Carson St  Subscriber   \n",
       "\n",
       "   Tripduration_mins        Starttime_dt   Startdate  \n",
       "0          44.316667 2017-04-01 00:59:00  04/01/2017  \n",
       "1           4.733333 2017-04-01 01:43:00  04/01/2017  \n",
       "2          26.266667 2017-04-01 02:35:00  04/01/2017  \n",
       "3         161.583333 2017-04-01 05:05:00  04/01/2017  \n",
       "4          19.400000 2017-04-01 05:35:00  04/01/2017  "
      ]
     },
     "execution_count": 8,
     "metadata": {},
     "output_type": "execute_result"
    }
   ],
   "source": [
    "rentals_df.drop(['Trip id', 'Bikeid', 'Starttime', 'Stoptime', 'Tripduration', 'From station id', 'To station id'], \\\n",
    "                axis=1, inplace=True)\n",
    "\n",
    "rentals_df.head()"
   ]
  },
  {
   "cell_type": "markdown",
   "metadata": {},
   "source": [
    "### 3. Aggregating data\n",
    "Here, we will see how to group data in preparation for plotting."
   ]
  },
  {
   "cell_type": "markdown",
   "metadata": {},
   "source": [
    "First, we want to filter the data so that we are only working with rides that occurred in June of 2017.\n",
    "\n",
    "The syntax to make this happens leverages the date time object we created earlier. To break down what's happening here, first we're identifying which date time objects are greater than 2017-06-01 (which is technically June 1st at 00:00:00) using this snippet `rentals_df['Starttime_dt'] > '2017-06-01'`. This creates a boolean value (True/False) for each record, which is then used to select each record, which is stored as a new data frame called `june_rides`."
   ]
  },
  {
   "cell_type": "code",
   "execution_count": 9,
   "metadata": {
    "scrolled": true
   },
   "outputs": [
    {
     "data": {
      "text/html": [
       "<div>\n",
       "<style>\n",
       "    .dataframe thead tr:only-child th {\n",
       "        text-align: right;\n",
       "    }\n",
       "\n",
       "    .dataframe thead th {\n",
       "        text-align: left;\n",
       "    }\n",
       "\n",
       "    .dataframe tbody tr th {\n",
       "        vertical-align: top;\n",
       "    }\n",
       "</style>\n",
       "<table border=\"1\" class=\"dataframe\">\n",
       "  <thead>\n",
       "    <tr style=\"text-align: right;\">\n",
       "      <th></th>\n",
       "      <th>From station name</th>\n",
       "      <th>To station name</th>\n",
       "      <th>Usertype</th>\n",
       "      <th>Tripduration_mins</th>\n",
       "      <th>Starttime_dt</th>\n",
       "      <th>Startdate</th>\n",
       "    </tr>\n",
       "  </thead>\n",
       "  <tbody>\n",
       "    <tr>\n",
       "      <th>14647</th>\n",
       "      <td>Liberty Ave &amp; Baum Blvd</td>\n",
       "      <td>S Negley Ave &amp; Baum Blvd</td>\n",
       "      <td>Subscriber</td>\n",
       "      <td>2.950000</td>\n",
       "      <td>2017-06-01 00:10:00</td>\n",
       "      <td>06/01/2017</td>\n",
       "    </tr>\n",
       "    <tr>\n",
       "      <th>14648</th>\n",
       "      <td>Penn Ave &amp; S Whitfield St</td>\n",
       "      <td>42nd St &amp; Butler St</td>\n",
       "      <td>Subscriber</td>\n",
       "      <td>11.050000</td>\n",
       "      <td>2017-06-01 00:25:00</td>\n",
       "      <td>06/01/2017</td>\n",
       "    </tr>\n",
       "    <tr>\n",
       "      <th>14649</th>\n",
       "      <td>Centre Ave &amp; PPG Paints Arena</td>\n",
       "      <td>Ross St &amp; Sixth Ave (Steel Plaza T Station)</td>\n",
       "      <td>Customer</td>\n",
       "      <td>65.200000</td>\n",
       "      <td>2017-06-01 01:11:00</td>\n",
       "      <td>06/01/2017</td>\n",
       "    </tr>\n",
       "    <tr>\n",
       "      <th>14650</th>\n",
       "      <td>Centre Ave &amp; PPG Paints Arena</td>\n",
       "      <td>Ross St &amp; Sixth Ave (Steel Plaza T Station)</td>\n",
       "      <td>Customer</td>\n",
       "      <td>63.266667</td>\n",
       "      <td>2017-06-01 01:13:00</td>\n",
       "      <td>06/01/2017</td>\n",
       "    </tr>\n",
       "    <tr>\n",
       "      <th>14651</th>\n",
       "      <td>Centre Ave &amp; PPG Paints Arena</td>\n",
       "      <td>Ross St &amp; Sixth Ave (Steel Plaza T Station)</td>\n",
       "      <td>Customer</td>\n",
       "      <td>60.583333</td>\n",
       "      <td>2017-06-01 01:16:00</td>\n",
       "      <td>06/01/2017</td>\n",
       "    </tr>\n",
       "  </tbody>\n",
       "</table>\n",
       "</div>"
      ],
      "text/plain": [
       "                   From station name  \\\n",
       "14647        Liberty Ave & Baum Blvd   \n",
       "14648      Penn Ave & S Whitfield St   \n",
       "14649  Centre Ave & PPG Paints Arena   \n",
       "14650  Centre Ave & PPG Paints Arena   \n",
       "14651  Centre Ave & PPG Paints Arena   \n",
       "\n",
       "                                   To station name    Usertype  \\\n",
       "14647                     S Negley Ave & Baum Blvd  Subscriber   \n",
       "14648                          42nd St & Butler St  Subscriber   \n",
       "14649  Ross St & Sixth Ave (Steel Plaza T Station)    Customer   \n",
       "14650  Ross St & Sixth Ave (Steel Plaza T Station)    Customer   \n",
       "14651  Ross St & Sixth Ave (Steel Plaza T Station)    Customer   \n",
       "\n",
       "       Tripduration_mins        Starttime_dt   Startdate  \n",
       "14647           2.950000 2017-06-01 00:10:00  06/01/2017  \n",
       "14648          11.050000 2017-06-01 00:25:00  06/01/2017  \n",
       "14649          65.200000 2017-06-01 01:11:00  06/01/2017  \n",
       "14650          63.266667 2017-06-01 01:13:00  06/01/2017  \n",
       "14651          60.583333 2017-06-01 01:16:00  06/01/2017  "
      ]
     },
     "execution_count": 9,
     "metadata": {},
     "output_type": "execute_result"
    }
   ],
   "source": [
    "june_rides = rentals_df[rentals_df['Starttime_dt'] > '2017-06-01']\n",
    "june_rides.head()"
   ]
  },
  {
   "cell_type": "markdown",
   "metadata": {},
   "source": [
    "Because we would like to create a histogram that visualizes the count of rides per day, we select the `Starttime_dt` column from our `june_rides` data frame. Now we have a data frame with a listing of all of the individual date time objects that represent the start time of each ride in June of 2017."
   ]
  },
  {
   "cell_type": "code",
   "execution_count": 10,
   "metadata": {},
   "outputs": [
    {
     "data": {
      "text/html": [
       "<div>\n",
       "<style>\n",
       "    .dataframe thead tr:only-child th {\n",
       "        text-align: right;\n",
       "    }\n",
       "\n",
       "    .dataframe thead th {\n",
       "        text-align: left;\n",
       "    }\n",
       "\n",
       "    .dataframe tbody tr th {\n",
       "        vertical-align: top;\n",
       "    }\n",
       "</style>\n",
       "<table border=\"1\" class=\"dataframe\">\n",
       "  <thead>\n",
       "    <tr style=\"text-align: right;\">\n",
       "      <th></th>\n",
       "      <th>Starttime_dt</th>\n",
       "    </tr>\n",
       "  </thead>\n",
       "  <tbody>\n",
       "    <tr>\n",
       "      <th>14647</th>\n",
       "      <td>2017-06-01 00:10:00</td>\n",
       "    </tr>\n",
       "    <tr>\n",
       "      <th>14648</th>\n",
       "      <td>2017-06-01 00:25:00</td>\n",
       "    </tr>\n",
       "    <tr>\n",
       "      <th>14649</th>\n",
       "      <td>2017-06-01 01:11:00</td>\n",
       "    </tr>\n",
       "    <tr>\n",
       "      <th>14650</th>\n",
       "      <td>2017-06-01 01:13:00</td>\n",
       "    </tr>\n",
       "    <tr>\n",
       "      <th>14651</th>\n",
       "      <td>2017-06-01 01:16:00</td>\n",
       "    </tr>\n",
       "  </tbody>\n",
       "</table>\n",
       "</div>"
      ],
      "text/plain": [
       "             Starttime_dt\n",
       "14647 2017-06-01 00:10:00\n",
       "14648 2017-06-01 00:25:00\n",
       "14649 2017-06-01 01:11:00\n",
       "14650 2017-06-01 01:13:00\n",
       "14651 2017-06-01 01:16:00"
      ]
     },
     "execution_count": 10,
     "metadata": {},
     "output_type": "execute_result"
    }
   ],
   "source": [
    "june_start_dates = june_rides[['Starttime_dt']]\n",
    "june_start_dates.head()"
   ]
  },
  {
   "cell_type": "markdown",
   "metadata": {},
   "source": [
    "In order to get a count of the number of rides that occurred on each day, we use the combination of a `.groupby()` and `.count()` functions. Let's break it down by individual pieces.\n",
    "\n",
    "First, the snippet \n",
    "```python\n",
    "june_start_dates['Starttime_dt'].dt.date\n",
    "``` \n",
    "parses the date (e.g. 2017-06-01) from the date time object (e.g. 2017-06-01 01:11:00) in the `Starttime_dt` column. This is the value that we will be using to `.groupby()`.\n",
    "\n",
    "Then, the `.count()` will count up all occurrences of the previously calculated values, which will be stored in the `count_of_rides` data frame."
   ]
  },
  {
   "cell_type": "code",
   "execution_count": 11,
   "metadata": {
    "scrolled": false
   },
   "outputs": [
    {
     "data": {
      "text/html": [
       "<div>\n",
       "<style>\n",
       "    .dataframe thead tr:only-child th {\n",
       "        text-align: right;\n",
       "    }\n",
       "\n",
       "    .dataframe thead th {\n",
       "        text-align: left;\n",
       "    }\n",
       "\n",
       "    .dataframe tbody tr th {\n",
       "        vertical-align: top;\n",
       "    }\n",
       "</style>\n",
       "<table border=\"1\" class=\"dataframe\">\n",
       "  <thead>\n",
       "    <tr style=\"text-align: right;\">\n",
       "      <th></th>\n",
       "      <th>Starttime_dt</th>\n",
       "    </tr>\n",
       "    <tr>\n",
       "      <th>Starttime_dt</th>\n",
       "      <th></th>\n",
       "    </tr>\n",
       "  </thead>\n",
       "  <tbody>\n",
       "    <tr>\n",
       "      <th>2017-06-01</th>\n",
       "      <td>338</td>\n",
       "    </tr>\n",
       "    <tr>\n",
       "      <th>2017-06-02</th>\n",
       "      <td>388</td>\n",
       "    </tr>\n",
       "    <tr>\n",
       "      <th>2017-06-03</th>\n",
       "      <td>548</td>\n",
       "    </tr>\n",
       "    <tr>\n",
       "      <th>2017-06-04</th>\n",
       "      <td>245</td>\n",
       "    </tr>\n",
       "    <tr>\n",
       "      <th>2017-06-05</th>\n",
       "      <td>213</td>\n",
       "    </tr>\n",
       "  </tbody>\n",
       "</table>\n",
       "</div>"
      ],
      "text/plain": [
       "              Starttime_dt\n",
       "Starttime_dt              \n",
       "2017-06-01             338\n",
       "2017-06-02             388\n",
       "2017-06-03             548\n",
       "2017-06-04             245\n",
       "2017-06-05             213"
      ]
     },
     "execution_count": 11,
     "metadata": {},
     "output_type": "execute_result"
    }
   ],
   "source": [
    "count_of_rides = june_start_dates.groupby(june_start_dates['Starttime_dt'].dt.date).count()\n",
    "count_of_rides.head()"
   ]
  },
  {
   "cell_type": "code",
   "execution_count": 12,
   "metadata": {},
   "outputs": [
    {
     "data": {
      "text/plain": [
       "14647    3\n",
       "14648    3\n",
       "14649    3\n",
       "14650    3\n",
       "14651    3\n",
       "14652    3\n",
       "14653    3\n",
       "14654    3\n",
       "14655    3\n",
       "14656    3\n",
       "14657    3\n",
       "14658    3\n",
       "14659    3\n",
       "14660    3\n",
       "14661    3\n",
       "14662    3\n",
       "14663    3\n",
       "14664    3\n",
       "14665    3\n",
       "14666    3\n",
       "14667    3\n",
       "14668    3\n",
       "14669    3\n",
       "14670    3\n",
       "14671    3\n",
       "14672    3\n",
       "14673    3\n",
       "14674    3\n",
       "14675    3\n",
       "14676    3\n",
       "        ..\n",
       "24393    4\n",
       "24394    4\n",
       "24395    4\n",
       "24396    4\n",
       "24397    4\n",
       "24398    4\n",
       "24399    4\n",
       "24400    4\n",
       "24401    4\n",
       "24402    4\n",
       "24403    4\n",
       "24404    4\n",
       "24405    4\n",
       "24406    4\n",
       "24407    4\n",
       "24408    4\n",
       "24409    4\n",
       "24410    4\n",
       "24411    4\n",
       "24412    4\n",
       "24413    4\n",
       "24414    4\n",
       "24415    4\n",
       "24416    4\n",
       "24417    4\n",
       "24418    4\n",
       "24419    4\n",
       "24420    4\n",
       "24421    4\n",
       "24422    4\n",
       "Name: Starttime_dt, Length: 9776, dtype: int64"
      ]
     },
     "execution_count": 12,
     "metadata": {},
     "output_type": "execute_result"
    }
   ],
   "source": [
    "june_start_dates['Starttime_dt'].dt.dayofweek"
   ]
  },
  {
   "cell_type": "markdown",
   "metadata": {},
   "source": [
    "### 4. Plotting data\n",
    "Here, we will see how to plot our prepared data as a histogram."
   ]
  },
  {
   "cell_type": "markdown",
   "metadata": {},
   "source": [
    "First, we tell Python that we want to see the plot `inline` by using the magic `%matplotlib inline`."
   ]
  },
  {
   "cell_type": "code",
   "execution_count": 13,
   "metadata": {
    "collapsed": true
   },
   "outputs": [],
   "source": [
    "%matplotlib inline\n",
    "import matplotlib.pyplot as plt"
   ]
  },
  {
   "cell_type": "markdown",
   "metadata": {},
   "source": [
    "We update the index of the `count_of_rides` data frame. Then, by using our aggregated data frame, we simply call the `.plot()` function with the `kind=bar` parameter to visualize the count of rides per date in June of 2017."
   ]
  },
  {
   "cell_type": "code",
   "execution_count": 14,
   "metadata": {},
   "outputs": [
    {
     "data": {
      "text/plain": [
       "<matplotlib.axes._subplots.AxesSubplot at 0x1766a71d1d0>"
      ]
     },
     "execution_count": 14,
     "metadata": {},
     "output_type": "execute_result"
    },
    {
     "data": {
      "image/png": "[encoded data removed]",
      "text/plain": [
       "<matplotlib.figure.Figure at 0x1766a7146a0>"
      ]
     },
     "metadata": {},
     "output_type": "display_data"
    }
   ],
   "source": [
    "count_of_rides.index.name = 'Ride Start Date'\n",
    "\n",
    "count_of_rides.plot(kind=\"bar\", title='Frequency of Healthy Rides (June 2017)',figsize=(15,4))"
   ]
  },
  {
   "cell_type": "markdown",
   "metadata": {},
   "source": [
    "### Try it yourself\n",
    "We want to figure out what the most popular rides are from Q2 of 2017.\n",
    "\n",
    "Also, we want to focus on rides which start & stop at ***different*** stations.\n",
    "\n",
    "Lastly, we are only interested in rides that occurred more than 100 times.\n",
    "\n",
    "*Hint: One solution leverages the* `.groupby()` *function, the* `.size()` *function, the* `.reset_index()` *function and some tricky filtering techniques.*\n",
    "\n",
    "**BONUS:** Plot a histogram of each unique from station name in the resulting data frame, with a sum of all originating rides from each station.\n",
    "\n",
    "*Hint: One solution again leverages the* `.groupby()` *function and the* `.sum()` *function.*\n",
    "\n",
    "Look at the \"solution.png\" file in this repository to check your result."
   ]
  },
  {
   "cell_type": "code",
   "execution_count": 15,
   "metadata": {},
   "outputs": [
    {
     "data": {
      "text/html": [
       "<div>\n",
       "<style>\n",
       "    .dataframe thead tr:only-child th {\n",
       "        text-align: right;\n",
       "    }\n",
       "\n",
       "    .dataframe thead th {\n",
       "        text-align: left;\n",
       "    }\n",
       "\n",
       "    .dataframe tbody tr th {\n",
       "        vertical-align: top;\n",
       "    }\n",
       "</style>\n",
       "<table border=\"1\" class=\"dataframe\">\n",
       "  <thead>\n",
       "    <tr style=\"text-align: right;\">\n",
       "      <th></th>\n",
       "      <th>From station name</th>\n",
       "      <th>To station name</th>\n",
       "      <th>Usertype</th>\n",
       "      <th>Tripduration_mins</th>\n",
       "      <th>Starttime_dt</th>\n",
       "      <th>Startdate</th>\n",
       "    </tr>\n",
       "  </thead>\n",
       "  <tbody>\n",
       "    <tr>\n",
       "      <th>0</th>\n",
       "      <td>North Shore Trail &amp; Fort Duquesne Bridge</td>\n",
       "      <td>S 27th St &amp; Sidney St. (Southside Works)</td>\n",
       "      <td>Customer</td>\n",
       "      <td>44.316667</td>\n",
       "      <td>2017-04-01 00:59:00</td>\n",
       "      <td>04/01/2017</td>\n",
       "    </tr>\n",
       "    <tr>\n",
       "      <th>1</th>\n",
       "      <td>Frew St &amp; Schenley Dr</td>\n",
       "      <td>Boulevard of the Allies &amp; Parkview Ave</td>\n",
       "      <td>Subscriber</td>\n",
       "      <td>4.733333</td>\n",
       "      <td>2017-04-01 01:43:00</td>\n",
       "      <td>04/01/2017</td>\n",
       "    </tr>\n",
       "    <tr>\n",
       "      <th>3</th>\n",
       "      <td>Forbes Ave &amp; Grant St</td>\n",
       "      <td>Coltart Ave &amp; Forbes Ave</td>\n",
       "      <td>Customer</td>\n",
       "      <td>161.583333</td>\n",
       "      <td>2017-04-01 05:05:00</td>\n",
       "      <td>04/01/2017</td>\n",
       "    </tr>\n",
       "    <tr>\n",
       "      <th>4</th>\n",
       "      <td>Boulevard of the Allies &amp; Parkview Ave</td>\n",
       "      <td>S 22nd St &amp; E Carson St</td>\n",
       "      <td>Subscriber</td>\n",
       "      <td>19.400000</td>\n",
       "      <td>2017-04-01 05:35:00</td>\n",
       "      <td>04/01/2017</td>\n",
       "    </tr>\n",
       "    <tr>\n",
       "      <th>5</th>\n",
       "      <td>42nd &amp; Penn Ave.</td>\n",
       "      <td>Penn Ave &amp; S Whitfield St</td>\n",
       "      <td>Subscriber</td>\n",
       "      <td>9.916667</td>\n",
       "      <td>2017-04-01 08:42:00</td>\n",
       "      <td>04/01/2017</td>\n",
       "    </tr>\n",
       "  </tbody>\n",
       "</table>\n",
       "</div>"
      ],
      "text/plain": [
       "                          From station name  \\\n",
       "0  North Shore Trail & Fort Duquesne Bridge   \n",
       "1                     Frew St & Schenley Dr   \n",
       "3                     Forbes Ave & Grant St   \n",
       "4    Boulevard of the Allies & Parkview Ave   \n",
       "5                          42nd & Penn Ave.   \n",
       "\n",
       "                            To station name    Usertype  Tripduration_mins  \\\n",
       "0  S 27th St & Sidney St. (Southside Works)    Customer          44.316667   \n",
       "1    Boulevard of the Allies & Parkview Ave  Subscriber           4.733333   \n",
       "3                  Coltart Ave & Forbes Ave    Customer         161.583333   \n",
       "4                   S 22nd St & E Carson St  Subscriber          19.400000   \n",
       "5                 Penn Ave & S Whitfield St  Subscriber           9.916667   \n",
       "\n",
       "         Starttime_dt   Startdate  \n",
       "0 2017-04-01 00:59:00  04/01/2017  \n",
       "1 2017-04-01 01:43:00  04/01/2017  \n",
       "3 2017-04-01 05:05:00  04/01/2017  \n",
       "4 2017-04-01 05:35:00  04/01/2017  \n",
       "5 2017-04-01 08:42:00  04/01/2017  "
      ]
     },
     "execution_count": 15,
     "metadata": {},
     "output_type": "execute_result"
    }
   ],
   "source": [
    "diff_station_rides=rentals_df[rentals_df['From station name']!=rentals_df['To station name']]\n",
    "diff_station_rides.head()"
   ]
  },
  {
   "cell_type": "code",
   "execution_count": 16,
   "metadata": {},
   "outputs": [
    {
     "data": {
      "text/plain": [
       "(17337, 6)"
      ]
     },
     "execution_count": 16,
     "metadata": {},
     "output_type": "execute_result"
    }
   ],
   "source": [
    "diff_station_rides.shape"
   ]
  },
  {
   "cell_type": "code",
   "execution_count": 17,
   "metadata": {
    "scrolled": true
   },
   "outputs": [
    {
     "data": {
      "text/html": [
       "<div>\n",
       "<style>\n",
       "    .dataframe thead tr:only-child th {\n",
       "        text-align: right;\n",
       "    }\n",
       "\n",
       "    .dataframe thead th {\n",
       "        text-align: left;\n",
       "    }\n",
       "\n",
       "    .dataframe tbody tr th {\n",
       "        vertical-align: top;\n",
       "    }\n",
       "</style>\n",
       "<table border=\"1\" class=\"dataframe\">\n",
       "  <thead>\n",
       "    <tr style=\"text-align: right;\">\n",
       "      <th></th>\n",
       "      <th></th>\n",
       "      <th>Ride counts</th>\n",
       "    </tr>\n",
       "    <tr>\n",
       "      <th>From station name</th>\n",
       "      <th>To station name</th>\n",
       "      <th></th>\n",
       "    </tr>\n",
       "  </thead>\n",
       "  <tbody>\n",
       "    <tr>\n",
       "      <th>10th St &amp; Penn Ave (David L. Lawrence Convention Center)</th>\n",
       "      <th>21st St &amp; Penn Ave</th>\n",
       "      <td>153</td>\n",
       "    </tr>\n",
       "    <tr>\n",
       "      <th rowspan=\"3\" valign=\"top\">21st St &amp; Penn Ave</th>\n",
       "      <th>10th St &amp; Penn Ave (David L. Lawrence Convention Center)</th>\n",
       "      <td>132</td>\n",
       "    </tr>\n",
       "    <tr>\n",
       "      <th>Forbes Ave &amp; Market Square</th>\n",
       "      <td>127</td>\n",
       "    </tr>\n",
       "    <tr>\n",
       "      <th>Liberty Ave &amp; Stanwix St</th>\n",
       "      <td>134</td>\n",
       "    </tr>\n",
       "    <tr>\n",
       "      <th rowspan=\"2\" valign=\"top\">Boulevard of the Allies &amp; Parkview Ave</th>\n",
       "      <th>Fifth Ave &amp; S Bouquet St</th>\n",
       "      <td>121</td>\n",
       "    </tr>\n",
       "    <tr>\n",
       "      <th>Frew St &amp; Schenley Dr</th>\n",
       "      <td>143</td>\n",
       "    </tr>\n",
       "    <tr>\n",
       "      <th>First Ave &amp; B St (T Station)</th>\n",
       "      <th>S 27th St &amp; Sidney St. (Southside Works)</th>\n",
       "      <td>109</td>\n",
       "    </tr>\n",
       "    <tr>\n",
       "      <th rowspan=\"2\" valign=\"top\">Forbes Ave &amp; Market Square</th>\n",
       "      <th>21st St &amp; Penn Ave</th>\n",
       "      <td>106</td>\n",
       "    </tr>\n",
       "    <tr>\n",
       "      <th>Liberty Ave &amp; Stanwix St</th>\n",
       "      <td>108</td>\n",
       "    </tr>\n",
       "    <tr>\n",
       "      <th>Frew St &amp; Schenley Dr</th>\n",
       "      <th>Boulevard of the Allies &amp; Parkview Ave</th>\n",
       "      <td>109</td>\n",
       "    </tr>\n",
       "    <tr>\n",
       "      <th>S 12th St &amp; E Carson St</th>\n",
       "      <th>S 27th St &amp; Sidney St. (Southside Works)</th>\n",
       "      <td>123</td>\n",
       "    </tr>\n",
       "  </tbody>\n",
       "</table>\n",
       "</div>"
      ],
      "text/plain": [
       "                                                                                                       Ride counts\n",
       "From station name                                  To station name                                                \n",
       "10th St & Penn Ave (David L. Lawrence Conventio... 21st St & Penn Ave                                          153\n",
       "21st St & Penn Ave                                 10th St & Penn Ave (David L. Lawrence Conventio...          132\n",
       "                                                   Forbes Ave & Market Square                                  127\n",
       "                                                   Liberty Ave & Stanwix St                                    134\n",
       "Boulevard of the Allies & Parkview Ave             Fifth Ave & S Bouquet St                                    121\n",
       "                                                   Frew St & Schenley Dr                                       143\n",
       "First Ave & B St (T Station)                       S 27th St & Sidney St. (Southside Works)                    109\n",
       "Forbes Ave & Market Square                         21st St & Penn Ave                                          106\n",
       "                                                   Liberty Ave & Stanwix St                                    108\n",
       "Frew St & Schenley Dr                              Boulevard of the Allies & Parkview Ave                      109\n",
       "S 12th St & E Carson St                            S 27th St & Sidney St. (Southside Works)                    123"
      ]
     },
     "execution_count": 17,
     "metadata": {},
     "output_type": "execute_result"
    }
   ],
   "source": [
    "morethan100_rides=diff_station_rides.groupby(['From station name', 'To station name']).count()\n",
    "morethan100_rides=morethan100_rides.drop(['Tripduration_mins','Starttime_dt','Startdate'],axis=1)\n",
    "morethan100_rides.columns=['Ride counts']\n",
    "morethan100_rides=morethan100_rides[morethan100_rides['Ride counts']>100]\n",
    "morethan100_rides.head(15)"
   ]
  },
  {
   "cell_type": "code",
   "execution_count": 18,
   "metadata": {},
   "outputs": [
    {
     "data": {
      "text/plain": [
       "From station name\n",
       "10th St & Penn Ave (David L. Lawrence Convention Center)    153\n",
       "21st St & Penn Ave                                          393\n",
       "Boulevard of the Allies & Parkview Ave                      264\n",
       "First Ave & B St (T Station)                                109\n",
       "Forbes Ave & Market Square                                  214\n",
       "Name: Ride counts, dtype: int64"
      ]
     },
     "execution_count": 18,
     "metadata": {},
     "output_type": "execute_result"
    }
   ],
   "source": [
    "aggregated_rides=morethan100_rides.groupby(['From station name'])['Ride counts'].sum()\n",
    "aggregated_rides.head()"
   ]
  },
  {
   "cell_type": "code",
   "execution_count": 19,
   "metadata": {},
   "outputs": [
    {
     "data": {
      "text/plain": [
       "<matplotlib.axes._subplots.AxesSubplot at 0x1766a986630>"
      ]
     },
     "execution_count": 19,
     "metadata": {},
     "output_type": "execute_result"
    },
    {
     "data": {
      "image/png": "[encoded data removed]",
      "text/plain": [
       "<matplotlib.figure.Figure at 0x17668b106a0>"
      ]
     },
     "metadata": {},
     "output_type": "display_data"
    }
   ],
   "source": [
    "aggregated_rides.plot(kind='bar',figsize=(12,4))"
   ]
  },
  {
   "cell_type": "markdown",
   "metadata": {
    "collapsed": true
   },
   "source": [
    "### We are trying to use the &lt;BikeID, TripDuration&gt; data to calculate a probability distribution of bike usage in the city, by bike"
   ]
  },
  {
   "cell_type": "code",
   "execution_count": 20,
   "metadata": {
    "collapsed": true
   },
   "outputs": [],
   "source": [
    "import scipy.stats.kde as sckde\n",
    "from scipy.stats.kde import gaussian_kde"
   ]
  },
  {
   "cell_type": "code",
   "execution_count": 21,
   "metadata": {
    "collapsed": true
   },
   "outputs": [],
   "source": [
    "from skimage.measure import shannon_entropy\n",
    "import scipy as sc\n",
    "from scipy.interpolate import UnivariateSpline"
   ]
  },
  {
   "cell_type": "code",
   "execution_count": 22,
   "metadata": {
    "collapsed": true
   },
   "outputs": [],
   "source": [
    "import seaborn as sns\n",
    "sns.set(color_codes=True)"
   ]
  },
  {
   "cell_type": "code",
   "execution_count": 23,
   "metadata": {
    "collapsed": true
   },
   "outputs": [],
   "source": [
    "# Entropy of Pandas series\n",
    "def ent(data):\n",
    "    \"\"\"\n",
    "    Function that computes the entropy of a Pandas series.\n",
    "    \"\"\"\n",
    "    if isinstance(data, np.ndarray):\n",
    "        _, counts = np.unique(data, return_counts=True)\n",
    "    else:\n",
    "        counts = data.value_counts()\n",
    "    p_data= counts/len(data) # calculates the probabilities\n",
    "    entropy=sc.stats.entropy(p_data,base=2)  # input probabilities to get the entropy \n",
    "    return entropy"
   ]
  },
  {
   "cell_type": "code",
   "execution_count": 24,
   "metadata": {
    "collapsed": true
   },
   "outputs": [],
   "source": [
    "def display_distribution(data, title_, axlabel_):\n",
    "    \"\"\"\n",
    "    Function that takes a Pandas series containing values drawn from a distribution \n",
    "    and plots the probability distribution and rug plot\n",
    "    \"\"\"\n",
    "    plt.figure(figsize=(15,6))\n",
    "    ax=sns.distplot(data, hist=True, rug=True, kde=True, axlabel=axlabel_, \\\n",
    "                 kde_kws={\"color\": \"r\", \"lw\": 3, \"label\": \"KDE\"}, \\\n",
    "                 hist_kws={\"histtype\": \"step\", \"linewidth\": 1, \\\n",
    "                           \"alpha\": 1, \"color\": \"g\", \"label\": \"Histogram\"})\n",
    "    plt.title(title_)\n",
    "    plt.ylabel('Counts')\n",
    "\n",
    "    ax2=ax.twinx()\n",
    "\n",
    "    # Switch so count axis is on right, frequency on left\n",
    "    ax2.yaxis.tick_left()\n",
    "    ax.yaxis.tick_right()\n",
    "    # Also switch the labels over\n",
    "    ax.yaxis.set_label_position('right')\n",
    "    ax2.yaxis.set_label_position('left')\n",
    "\n",
    "    ax2.set_ylabel('Probability')\n",
    "    \n",
    "    summary_text=\"mean=\"+str(np.mean(data))+\"\\nsigma=\"+str(np.std(data))\n",
    "    plt.figtext(0.2,0.8,summary_text)"
   ]
  },
  {
   "cell_type": "code",
   "execution_count": 25,
   "metadata": {
    "collapsed": true
   },
   "outputs": [],
   "source": [
    "rentals_df = pd.read_csv('rentals.csv', encoding='latin-1')"
   ]
  },
  {
   "cell_type": "code",
   "execution_count": 26,
   "metadata": {},
   "outputs": [],
   "source": [
    "rentals_df.drop(['Trip id', 'Starttime', 'Stoptime', 'From station id', 'To station id', 'From station name', \\\n",
    "                 'To station name', 'Usertype'], axis=1, inplace=True)"
   ]
  },
  {
   "cell_type": "code",
   "execution_count": 27,
   "metadata": {},
   "outputs": [
    {
     "data": {
      "text/html": [
       "<div>\n",
       "<style>\n",
       "    .dataframe thead tr:only-child th {\n",
       "        text-align: right;\n",
       "    }\n",
       "\n",
       "    .dataframe thead th {\n",
       "        text-align: left;\n",
       "    }\n",
       "\n",
       "    .dataframe tbody tr th {\n",
       "        vertical-align: top;\n",
       "    }\n",
       "</style>\n",
       "<table border=\"1\" class=\"dataframe\">\n",
       "  <thead>\n",
       "    <tr style=\"text-align: right;\">\n",
       "      <th></th>\n",
       "      <th>Bikeid</th>\n",
       "      <th>Tripduration</th>\n",
       "    </tr>\n",
       "  </thead>\n",
       "  <tbody>\n",
       "    <tr>\n",
       "      <th>0</th>\n",
       "      <td>70024</td>\n",
       "      <td>2659</td>\n",
       "    </tr>\n",
       "    <tr>\n",
       "      <th>1</th>\n",
       "      <td>70353</td>\n",
       "      <td>284</td>\n",
       "    </tr>\n",
       "    <tr>\n",
       "      <th>2</th>\n",
       "      <td>70067</td>\n",
       "      <td>1576</td>\n",
       "    </tr>\n",
       "    <tr>\n",
       "      <th>3</th>\n",
       "      <td>70191</td>\n",
       "      <td>9695</td>\n",
       "    </tr>\n",
       "    <tr>\n",
       "      <th>4</th>\n",
       "      <td>70353</td>\n",
       "      <td>1164</td>\n",
       "    </tr>\n",
       "  </tbody>\n",
       "</table>\n",
       "</div>"
      ],
      "text/plain": [
       "   Bikeid  Tripduration\n",
       "0   70024          2659\n",
       "1   70353           284\n",
       "2   70067          1576\n",
       "3   70191          9695\n",
       "4   70353          1164"
      ]
     },
     "execution_count": 27,
     "metadata": {},
     "output_type": "execute_result"
    }
   ],
   "source": [
    "rentals_df.head()"
   ]
  },
  {
   "cell_type": "code",
   "execution_count": 28,
   "metadata": {},
   "outputs": [],
   "source": [
    "grouped_bikes=rentals_df.groupby(['Bikeid']).sum()\n",
    "grouped_bikes=grouped_bikes.rename(columns={'Tripduration':'TripDurationPerBike'})\n",
    "grouped_bikes['RentalCountPerBike']=rentals_df.groupby(['Bikeid']).count()"
   ]
  },
  {
   "cell_type": "code",
   "execution_count": 29,
   "metadata": {
    "scrolled": true
   },
   "outputs": [
    {
     "data": {
      "text/html": [
       "<div>\n",
       "<style>\n",
       "    .dataframe thead tr:only-child th {\n",
       "        text-align: right;\n",
       "    }\n",
       "\n",
       "    .dataframe thead th {\n",
       "        text-align: left;\n",
       "    }\n",
       "\n",
       "    .dataframe tbody tr th {\n",
       "        vertical-align: top;\n",
       "    }\n",
       "</style>\n",
       "<table border=\"1\" class=\"dataframe\">\n",
       "  <thead>\n",
       "    <tr style=\"text-align: right;\">\n",
       "      <th></th>\n",
       "      <th>TripDurationPerBike</th>\n",
       "      <th>RentalCountPerBike</th>\n",
       "    </tr>\n",
       "    <tr>\n",
       "      <th>Bikeid</th>\n",
       "      <th></th>\n",
       "      <th></th>\n",
       "    </tr>\n",
       "  </thead>\n",
       "  <tbody>\n",
       "    <tr>\n",
       "      <th>20438</th>\n",
       "      <td>97911</td>\n",
       "      <td>26</td>\n",
       "    </tr>\n",
       "    <tr>\n",
       "      <th>70000</th>\n",
       "      <td>373312</td>\n",
       "      <td>55</td>\n",
       "    </tr>\n",
       "    <tr>\n",
       "      <th>70001</th>\n",
       "      <td>96613</td>\n",
       "      <td>35</td>\n",
       "    </tr>\n",
       "    <tr>\n",
       "      <th>70002</th>\n",
       "      <td>218100</td>\n",
       "      <td>63</td>\n",
       "    </tr>\n",
       "    <tr>\n",
       "      <th>70003</th>\n",
       "      <td>294582</td>\n",
       "      <td>71</td>\n",
       "    </tr>\n",
       "  </tbody>\n",
       "</table>\n",
       "</div>"
      ],
      "text/plain": [
       "        TripDurationPerBike  RentalCountPerBike\n",
       "Bikeid                                         \n",
       "20438                 97911                  26\n",
       "70000                373312                  55\n",
       "70001                 96613                  35\n",
       "70002                218100                  63\n",
       "70003                294582                  71"
      ]
     },
     "execution_count": 29,
     "metadata": {},
     "output_type": "execute_result"
    }
   ],
   "source": [
    "grouped_bikes.head()"
   ]
  },
  {
   "cell_type": "code",
   "execution_count": 30,
   "metadata": {
    "collapsed": true
   },
   "outputs": [],
   "source": [
    "num_unique_bikes=rentals_df['Bikeid'].unique().shape[0]"
   ]
  },
  {
   "cell_type": "code",
   "execution_count": 31,
   "metadata": {
    "scrolled": true
   },
   "outputs": [
    {
     "data": {
      "text/html": [
       "<div>\n",
       "<style>\n",
       "    .dataframe thead tr:only-child th {\n",
       "        text-align: right;\n",
       "    }\n",
       "\n",
       "    .dataframe thead th {\n",
       "        text-align: left;\n",
       "    }\n",
       "\n",
       "    .dataframe tbody tr th {\n",
       "        vertical-align: top;\n",
       "    }\n",
       "</style>\n",
       "<table border=\"1\" class=\"dataframe\">\n",
       "  <thead>\n",
       "    <tr style=\"text-align: right;\">\n",
       "      <th></th>\n",
       "      <th>TripDurationPerBike</th>\n",
       "      <th>RentalCountPerBike</th>\n",
       "    </tr>\n",
       "    <tr>\n",
       "      <th>Bikeid</th>\n",
       "      <th></th>\n",
       "      <th></th>\n",
       "    </tr>\n",
       "  </thead>\n",
       "  <tbody>\n",
       "    <tr>\n",
       "      <th>70087</th>\n",
       "      <td>754274</td>\n",
       "      <td>71</td>\n",
       "    </tr>\n",
       "    <tr>\n",
       "      <th>70051</th>\n",
       "      <td>638283</td>\n",
       "      <td>56</td>\n",
       "    </tr>\n",
       "    <tr>\n",
       "      <th>70192</th>\n",
       "      <td>577867</td>\n",
       "      <td>86</td>\n",
       "    </tr>\n",
       "    <tr>\n",
       "      <th>70339</th>\n",
       "      <td>539621</td>\n",
       "      <td>73</td>\n",
       "    </tr>\n",
       "    <tr>\n",
       "      <th>70111</th>\n",
       "      <td>508253</td>\n",
       "      <td>56</td>\n",
       "    </tr>\n",
       "    <tr>\n",
       "      <th>70133</th>\n",
       "      <td>502715</td>\n",
       "      <td>60</td>\n",
       "    </tr>\n",
       "    <tr>\n",
       "      <th>70390</th>\n",
       "      <td>480506</td>\n",
       "      <td>86</td>\n",
       "    </tr>\n",
       "    <tr>\n",
       "      <th>70056</th>\n",
       "      <td>477249</td>\n",
       "      <td>65</td>\n",
       "    </tr>\n",
       "    <tr>\n",
       "      <th>70354</th>\n",
       "      <td>439607</td>\n",
       "      <td>68</td>\n",
       "    </tr>\n",
       "    <tr>\n",
       "      <th>70337</th>\n",
       "      <td>435932</td>\n",
       "      <td>57</td>\n",
       "    </tr>\n",
       "    <tr>\n",
       "      <th>70171</th>\n",
       "      <td>432949</td>\n",
       "      <td>64</td>\n",
       "    </tr>\n",
       "    <tr>\n",
       "      <th>70265</th>\n",
       "      <td>427262</td>\n",
       "      <td>58</td>\n",
       "    </tr>\n",
       "    <tr>\n",
       "      <th>70142</th>\n",
       "      <td>426500</td>\n",
       "      <td>69</td>\n",
       "    </tr>\n",
       "    <tr>\n",
       "      <th>70040</th>\n",
       "      <td>411801</td>\n",
       "      <td>69</td>\n",
       "    </tr>\n",
       "    <tr>\n",
       "      <th>70260</th>\n",
       "      <td>410881</td>\n",
       "      <td>61</td>\n",
       "    </tr>\n",
       "    <tr>\n",
       "      <th>70459</th>\n",
       "      <td>406363</td>\n",
       "      <td>63</td>\n",
       "    </tr>\n",
       "    <tr>\n",
       "      <th>70009</th>\n",
       "      <td>403330</td>\n",
       "      <td>62</td>\n",
       "    </tr>\n",
       "    <tr>\n",
       "      <th>70007</th>\n",
       "      <td>402857</td>\n",
       "      <td>73</td>\n",
       "    </tr>\n",
       "    <tr>\n",
       "      <th>70012</th>\n",
       "      <td>397753</td>\n",
       "      <td>63</td>\n",
       "    </tr>\n",
       "    <tr>\n",
       "      <th>70266</th>\n",
       "      <td>385570</td>\n",
       "      <td>85</td>\n",
       "    </tr>\n",
       "    <tr>\n",
       "      <th>70317</th>\n",
       "      <td>385292</td>\n",
       "      <td>63</td>\n",
       "    </tr>\n",
       "    <tr>\n",
       "      <th>70399</th>\n",
       "      <td>375514</td>\n",
       "      <td>73</td>\n",
       "    </tr>\n",
       "    <tr>\n",
       "      <th>70351</th>\n",
       "      <td>375061</td>\n",
       "      <td>68</td>\n",
       "    </tr>\n",
       "    <tr>\n",
       "      <th>70000</th>\n",
       "      <td>373312</td>\n",
       "      <td>55</td>\n",
       "    </tr>\n",
       "    <tr>\n",
       "      <th>70129</th>\n",
       "      <td>372391</td>\n",
       "      <td>58</td>\n",
       "    </tr>\n",
       "    <tr>\n",
       "      <th>70195</th>\n",
       "      <td>371555</td>\n",
       "      <td>64</td>\n",
       "    </tr>\n",
       "    <tr>\n",
       "      <th>70141</th>\n",
       "      <td>370203</td>\n",
       "      <td>65</td>\n",
       "    </tr>\n",
       "    <tr>\n",
       "      <th>70487</th>\n",
       "      <td>365056</td>\n",
       "      <td>64</td>\n",
       "    </tr>\n",
       "    <tr>\n",
       "      <th>70291</th>\n",
       "      <td>364674</td>\n",
       "      <td>64</td>\n",
       "    </tr>\n",
       "    <tr>\n",
       "      <th>70044</th>\n",
       "      <td>362691</td>\n",
       "      <td>57</td>\n",
       "    </tr>\n",
       "    <tr>\n",
       "      <th>...</th>\n",
       "      <td>...</td>\n",
       "      <td>...</td>\n",
       "    </tr>\n",
       "    <tr>\n",
       "      <th>70134</th>\n",
       "      <td>71635</td>\n",
       "      <td>35</td>\n",
       "    </tr>\n",
       "    <tr>\n",
       "      <th>70280</th>\n",
       "      <td>71198</td>\n",
       "      <td>51</td>\n",
       "    </tr>\n",
       "    <tr>\n",
       "      <th>70296</th>\n",
       "      <td>71004</td>\n",
       "      <td>19</td>\n",
       "    </tr>\n",
       "    <tr>\n",
       "      <th>70032</th>\n",
       "      <td>70918</td>\n",
       "      <td>46</td>\n",
       "    </tr>\n",
       "    <tr>\n",
       "      <th>70473</th>\n",
       "      <td>70799</td>\n",
       "      <td>28</td>\n",
       "    </tr>\n",
       "    <tr>\n",
       "      <th>70055</th>\n",
       "      <td>70308</td>\n",
       "      <td>38</td>\n",
       "    </tr>\n",
       "    <tr>\n",
       "      <th>70328</th>\n",
       "      <td>68221</td>\n",
       "      <td>33</td>\n",
       "    </tr>\n",
       "    <tr>\n",
       "      <th>70305</th>\n",
       "      <td>68184</td>\n",
       "      <td>35</td>\n",
       "    </tr>\n",
       "    <tr>\n",
       "      <th>70028</th>\n",
       "      <td>66464</td>\n",
       "      <td>21</td>\n",
       "    </tr>\n",
       "    <tr>\n",
       "      <th>70106</th>\n",
       "      <td>64189</td>\n",
       "      <td>36</td>\n",
       "    </tr>\n",
       "    <tr>\n",
       "      <th>70429</th>\n",
       "      <td>63874</td>\n",
       "      <td>35</td>\n",
       "    </tr>\n",
       "    <tr>\n",
       "      <th>70153</th>\n",
       "      <td>63175</td>\n",
       "      <td>28</td>\n",
       "    </tr>\n",
       "    <tr>\n",
       "      <th>70432</th>\n",
       "      <td>62674</td>\n",
       "      <td>33</td>\n",
       "    </tr>\n",
       "    <tr>\n",
       "      <th>70172</th>\n",
       "      <td>61296</td>\n",
       "      <td>30</td>\n",
       "    </tr>\n",
       "    <tr>\n",
       "      <th>70208</th>\n",
       "      <td>57134</td>\n",
       "      <td>39</td>\n",
       "    </tr>\n",
       "    <tr>\n",
       "      <th>70300</th>\n",
       "      <td>57084</td>\n",
       "      <td>22</td>\n",
       "    </tr>\n",
       "    <tr>\n",
       "      <th>70312</th>\n",
       "      <td>54545</td>\n",
       "      <td>25</td>\n",
       "    </tr>\n",
       "    <tr>\n",
       "      <th>70063</th>\n",
       "      <td>52033</td>\n",
       "      <td>25</td>\n",
       "    </tr>\n",
       "    <tr>\n",
       "      <th>70372</th>\n",
       "      <td>47339</td>\n",
       "      <td>17</td>\n",
       "    </tr>\n",
       "    <tr>\n",
       "      <th>70075</th>\n",
       "      <td>46425</td>\n",
       "      <td>26</td>\n",
       "    </tr>\n",
       "    <tr>\n",
       "      <th>70361</th>\n",
       "      <td>44212</td>\n",
       "      <td>18</td>\n",
       "    </tr>\n",
       "    <tr>\n",
       "      <th>70052</th>\n",
       "      <td>39784</td>\n",
       "      <td>10</td>\n",
       "    </tr>\n",
       "    <tr>\n",
       "      <th>70447</th>\n",
       "      <td>35434</td>\n",
       "      <td>15</td>\n",
       "    </tr>\n",
       "    <tr>\n",
       "      <th>70386</th>\n",
       "      <td>29176</td>\n",
       "      <td>15</td>\n",
       "    </tr>\n",
       "    <tr>\n",
       "      <th>70307</th>\n",
       "      <td>22733</td>\n",
       "      <td>12</td>\n",
       "    </tr>\n",
       "    <tr>\n",
       "      <th>70345</th>\n",
       "      <td>19041</td>\n",
       "      <td>18</td>\n",
       "    </tr>\n",
       "    <tr>\n",
       "      <th>70496</th>\n",
       "      <td>13058</td>\n",
       "      <td>14</td>\n",
       "    </tr>\n",
       "    <tr>\n",
       "      <th>70096</th>\n",
       "      <td>12112</td>\n",
       "      <td>5</td>\n",
       "    </tr>\n",
       "    <tr>\n",
       "      <th>70098</th>\n",
       "      <td>5832</td>\n",
       "      <td>4</td>\n",
       "    </tr>\n",
       "    <tr>\n",
       "      <th>99976</th>\n",
       "      <td>120</td>\n",
       "      <td>1</td>\n",
       "    </tr>\n",
       "  </tbody>\n",
       "</table>\n",
       "<p>454 rows × 2 columns</p>\n",
       "</div>"
      ],
      "text/plain": [
       "        TripDurationPerBike  RentalCountPerBike\n",
       "Bikeid                                         \n",
       "70087                754274                  71\n",
       "70051                638283                  56\n",
       "70192                577867                  86\n",
       "70339                539621                  73\n",
       "70111                508253                  56\n",
       "70133                502715                  60\n",
       "70390                480506                  86\n",
       "70056                477249                  65\n",
       "70354                439607                  68\n",
       "70337                435932                  57\n",
       "70171                432949                  64\n",
       "70265                427262                  58\n",
       "70142                426500                  69\n",
       "70040                411801                  69\n",
       "70260                410881                  61\n",
       "70459                406363                  63\n",
       "70009                403330                  62\n",
       "70007                402857                  73\n",
       "70012                397753                  63\n",
       "70266                385570                  85\n",
       "70317                385292                  63\n",
       "70399                375514                  73\n",
       "70351                375061                  68\n",
       "70000                373312                  55\n",
       "70129                372391                  58\n",
       "70195                371555                  64\n",
       "70141                370203                  65\n",
       "70487                365056                  64\n",
       "70291                364674                  64\n",
       "70044                362691                  57\n",
       "...                     ...                 ...\n",
       "70134                 71635                  35\n",
       "70280                 71198                  51\n",
       "70296                 71004                  19\n",
       "70032                 70918                  46\n",
       "70473                 70799                  28\n",
       "70055                 70308                  38\n",
       "70328                 68221                  33\n",
       "70305                 68184                  35\n",
       "70028                 66464                  21\n",
       "70106                 64189                  36\n",
       "70429                 63874                  35\n",
       "70153                 63175                  28\n",
       "70432                 62674                  33\n",
       "70172                 61296                  30\n",
       "70208                 57134                  39\n",
       "70300                 57084                  22\n",
       "70312                 54545                  25\n",
       "70063                 52033                  25\n",
       "70372                 47339                  17\n",
       "70075                 46425                  26\n",
       "70361                 44212                  18\n",
       "70052                 39784                  10\n",
       "70447                 35434                  15\n",
       "70386                 29176                  15\n",
       "70307                 22733                  12\n",
       "70345                 19041                  18\n",
       "70496                 13058                  14\n",
       "70096                 12112                   5\n",
       "70098                  5832                   4\n",
       "99976                   120                   1\n",
       "\n",
       "[454 rows x 2 columns]"
      ]
     },
     "execution_count": 31,
     "metadata": {},
     "output_type": "execute_result"
    }
   ],
   "source": [
    "grouped_bikes.sort_values('TripDurationPerBike',ascending=[False])"
   ]
  },
  {
   "cell_type": "code",
   "execution_count": 32,
   "metadata": {
    "collapsed": true
   },
   "outputs": [],
   "source": [
    "p, x = np.histogram(grouped_bikes['TripDurationPerBike'], bins=num_unique_bikes//10)"
   ]
  },
  {
   "cell_type": "markdown",
   "metadata": {},
   "source": [
    "### Plot the probaboility distributions"
   ]
  },
  {
   "cell_type": "code",
   "execution_count": 33,
   "metadata": {},
   "outputs": [
    {
     "data": {
      "image/png": "[encoded data removed]",
      "text/plain": [
       "<matplotlib.figure.Figure at 0x1766bbe26a0>"
      ]
     },
     "metadata": {},
     "output_type": "display_data"
    }
   ],
   "source": [
    "x = x[:-1] + (x[1] - x[0])/2   # convert bin edges to centers\n",
    "f = UnivariateSpline(x, p, s=num_unique_bikes//10)\n",
    "plt.plot(x, f(x))\n",
    "plt.show()"
   ]
  },
  {
   "cell_type": "code",
   "execution_count": 34,
   "metadata": {
    "scrolled": true
   },
   "outputs": [
    {
     "data": {
      "image/png": "[encoded data removed]",
      "text/plain": [
       "<matplotlib.figure.Figure at 0x1766cce1240>"
      ]
     },
     "metadata": {},
     "output_type": "display_data"
    }
   ],
   "source": [
    "display_distribution(grouped_bikes['TripDurationPerBike'], \\\n",
    "                     title_=\"Probability Distribution of Trip Duration in Q3\", \\\n",
    "                     axlabel_=\"Trip Duration in s\")"
   ]
  },
  {
   "cell_type": "code",
   "execution_count": 35,
   "metadata": {},
   "outputs": [
    {
     "data": {
      "image/png": "[encoded data removed]",
      "text/plain": [
       "<matplotlib.figure.Figure at 0x1766d4c06a0>"
      ]
     },
     "metadata": {},
     "output_type": "display_data"
    }
   ],
   "source": [
    "display_distribution(grouped_bikes['RentalCountPerBike'], \\\n",
    "                     title_=\"Probability Distribution of Rental Counts in Q3\", \\\n",
    "                     axlabel_=\"Rental Counts\")"
   ]
  },
  {
   "cell_type": "code",
   "execution_count": null,
   "metadata": {
    "collapsed": true
   },
   "outputs": [],
   "source": []
  }
 ],
 "metadata": {
  "anaconda-cloud": {},
  "kernelspec": {
   "display_name": "Python 3",
   "language": "python",
   "name": "python3"
  },
  "language_info": {
   "codemirror_mode": {
    "name": "ipython",
    "version": 3
   },
   "file_extension": ".py",
   "mimetype": "text/x-python",
   "name": "python",
   "nbconvert_exporter": "python",
   "pygments_lexer": "ipython3",
   "version": "3.5.3"
  }
 },
 "nbformat": 4,
 "nbformat_minor": 1
}
