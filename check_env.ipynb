{
 "cells": [
  {
   "cell_type": "markdown",
   "metadata": {},
   "source": [
    "# Hands-On With Python\n",
    "## Run the cells by clicking \"Cell\" then \"Run All\""
   ]
  },
  {
   "cell_type": "code",
   "execution_count": 1,
   "metadata": {},
   "outputs": [
    {
     "name": "stdout",
     "output_type": "stream",
     "text": [
      "Using python in /Users/rajsinha/anaconda/envs/tensorflow\n",
      "3.5.3 | packaged by conda-forge | (default, May 12 2017, 15:35:12) \n",
      "[GCC 4.2.1 Compatible Apple LLVM 6.1.0 (clang-602.0.53)]\n",
      "\n",
      "\u001b[42m[ OK ]\u001b[0m scipy version 0.19.1\n",
      "\u001b[42m[ OK ]\u001b[0m pandas version 0.20.3\n",
      "\u001b[42m[ OK ]\u001b[0m numpy version 1.13.1\n",
      "\u001b[42m[ OK ]\u001b[0m sklearn version 0.19.0\n",
      "\u001b[42m[ OK ]\u001b[0m matplotlib version 2.0.2\n",
      "\u001b[42m[ OK ]\u001b[0m IPython version 6.1.0\n"
     ]
    }
   ],
   "source": [
    "from __future__ import print_function\n",
    "from distutils.version import LooseVersion as Version\n",
    "import sys\n",
    "\n",
    "OK = '\\x1b[42m[ OK ]\\x1b[0m'\n",
    "FAIL = \"\\x1b[41m[FAIL]\\x1b[0m\"\n",
    "\n",
    "try:\n",
    "    import importlib\n",
    "except ImportError:\n",
    "    print(FAIL, \"Python version 3.4 (or 2.7) is required,\"\n",
    "                \" but %s is installed.\" % sys.version)\n",
    "\n",
    "# function for checking import version\n",
    "def import_version(pkg, min_ver, fail_msg=\"\"):\n",
    "    mod = None\n",
    "    try:\n",
    "        mod = importlib.import_module(pkg)\n",
    "        if pkg in {'PIL'}:\n",
    "            ver = mod.VERSION\n",
    "        else:\n",
    "            ver = mod.__version__\n",
    "        if Version(ver) < min_ver:\n",
    "            print(FAIL, \"%s version %s or higher required, but %s installed.\"\n",
    "                  % (lib, min_ver, ver))\n",
    "        else:\n",
    "            print(OK, '%s version %s' % (pkg, ver))\n",
    "    except ImportError:\n",
    "        print(FAIL, '%s not installed. %s' % (pkg, fail_msg))\n",
    "    return mod\n",
    "\n",
    "\n",
    "# first check the python version\n",
    "print('Using python in', sys.prefix)\n",
    "print(sys.version)\n",
    "pyversion = Version(sys.version)\n",
    "if pyversion >= \"3\":\n",
    "    if pyversion < \"3.4\":\n",
    "        print(FAIL, \"Python version 3.4 (or 2.7) is required,\"\n",
    "                    \" but %s is installed.\" % sys.version)\n",
    "elif pyversion >= \"2\":\n",
    "    if pyversion < \"2.7\":\n",
    "        print(FAIL, \"Python version 2.7 is required,\"\n",
    "                    \" but %s is installed.\" % sys.version)\n",
    "else:\n",
    "    print(FAIL, \"Unknown Python version: %s\" % sys.version)\n",
    "\n",
    "\n",
    "print()\n",
    "\n",
    "requirements = {'numpy': \"1.6.1\", 'scipy': \"0.9\", 'matplotlib': \"1.0\",\n",
    "                'IPython': \"3.0\", 'sklearn': \"0.18\", 'pandas': \"0.18\"}\n",
    "\n",
    "# now the dependencies\n",
    "for lib, required_version in list(requirements.items()):\n",
    "    import_version(lib, required_version)\n"
   ]
  },
  {
   "cell_type": "code",
   "execution_count": null,
   "metadata": {
    "collapsed": true
   },
   "outputs": [],
   "source": []
  }
 ],
 "metadata": {
  "anaconda-cloud": {},
  "kernelspec": {
   "display_name": "Python 3",
   "language": "python",
   "name": "python3"
  },
  "language_info": {
   "codemirror_mode": {
    "name": "ipython",
    "version": 3
   },
   "file_extension": ".py",
   "mimetype": "text/x-python",
   "name": "python",
   "nbconvert_exporter": "python",
   "pygments_lexer": "ipython3",
   "version": "3.5.3"
  }
 },
 "nbformat": 4,
 "nbformat_minor": 1
}
