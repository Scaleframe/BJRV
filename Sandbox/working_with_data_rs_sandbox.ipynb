{
 "cells": [
  {
   "cell_type": "code",
   "execution_count": null,
   "metadata": {
    "collapsed": true
   },
   "outputs": [],
   "source": [
    "# Hands-On With Python"
   ]
  },
  {
   "cell_type": "markdown",
   "metadata": {},
   "source": [
    "## B-J-R-V: The objective of our group is...TBD"
   ]
  },
  {
   "cell_type": "markdown",
   "metadata": {},
   "source": [
    "*In this walk-through, we will be covering four main techniques to get you comfortable manipulating data with Python.*\n",
    "\n",
    "#### Background\n",
    "I'm sure many of you are familiar with the blue and white bikes throughout Pittsburgh which are known to some as \"Healthy Rides\". Pittsburgh Bike Share, a non-profit located in the Strip District, works to maintain the Healthy Ride bike stations and bikes. The hardware and software is provided by nextbike, which allows Pittsburgh Bike Share to post the data publicly. The dataset can be obtained [here](https://healthyridepgh.com/data/). We will be focusing on the Q2 2017 data, which is already downloaded to this repository. There are two files: `rentals.csv` which provides information on individual rides and `stations.csv` which provides additional information about each bike station.\n",
    "\n",
    "#### Overview\n",
    "1. Reading data into a data frame (and previewing it)\n",
    "2. Selecting/manipulating data\n",
    "3. Aggregating data\n",
    "4. Plotting data\n",
    "\n",
    "At the end, you can try your hand at aggregating and plotting the healthy ride data on your own."
   ]
  },
  {
   "cell_type": "markdown",
   "metadata": {},
   "source": [
    "### 1. Reading data into a data frame\n",
    "Here, we import the pandas package (commonly referred to as \"pd\")."
   ]
  },
  {
   "cell_type": "code",
   "execution_count": 1,
   "metadata": {
    "collapsed": true
   },
   "outputs": [],
   "source": [
    "import pandas as pd\n",
    "import numpy as np"
   ]
  },
  {
   "cell_type": "markdown",
   "metadata": {},
   "source": [
    "Next, we read in the rentals.csv file (with the `encoding='latin-1'` parameter) and preview the data using `rentals_df.head()`"
   ]
  },
  {
   "cell_type": "code",
   "execution_count": 2,
   "metadata": {},
   "outputs": [
    {
     "data": {
      "text/html": [
       "<div>\n",
       "<style>\n",
       "    .dataframe thead tr:only-child th {\n",
       "        text-align: right;\n",
       "    }\n",
       "\n",
       "    .dataframe thead th {\n",
       "        text-align: left;\n",
       "    }\n",
       "\n",
       "    .dataframe tbody tr th {\n",
       "        vertical-align: top;\n",
       "    }\n",
       "</style>\n",
       "<table border=\"1\" class=\"dataframe\">\n",
       "  <thead>\n",
       "    <tr style=\"text-align: right;\">\n",
       "      <th></th>\n",
       "      <th>Trip id</th>\n",
       "      <th>Starttime</th>\n",
       "      <th>Stoptime</th>\n",
       "      <th>Bikeid</th>\n",
       "      <th>Tripduration</th>\n",
       "      <th>From station id</th>\n",
       "      <th>From station name</th>\n",
       "      <th>To station id</th>\n",
       "      <th>To station name</th>\n",
       "      <th>Usertype</th>\n",
       "    </tr>\n",
       "  </thead>\n",
       "  <tbody>\n",
       "    <tr>\n",
       "      <th>0</th>\n",
       "      <td>27193394</td>\n",
       "      <td>4/1/2017 0:59</td>\n",
       "      <td>4/1/2017 1:43</td>\n",
       "      <td>70024</td>\n",
       "      <td>2659</td>\n",
       "      <td>1012</td>\n",
       "      <td>North Shore Trail &amp; Fort Duquesne Bridge</td>\n",
       "      <td>1045</td>\n",
       "      <td>S 27th St &amp; Sidney St. (Southside Works)</td>\n",
       "      <td>Customer</td>\n",
       "    </tr>\n",
       "    <tr>\n",
       "      <th>1</th>\n",
       "      <td>27193815</td>\n",
       "      <td>4/1/2017 1:43</td>\n",
       "      <td>4/1/2017 1:48</td>\n",
       "      <td>70353</td>\n",
       "      <td>284</td>\n",
       "      <td>1037</td>\n",
       "      <td>Frew St &amp; Schenley Dr</td>\n",
       "      <td>1038</td>\n",
       "      <td>Boulevard of the Allies &amp; Parkview Ave</td>\n",
       "      <td>Subscriber</td>\n",
       "    </tr>\n",
       "    <tr>\n",
       "      <th>2</th>\n",
       "      <td>27194749</td>\n",
       "      <td>4/1/2017 2:35</td>\n",
       "      <td>4/1/2017 3:01</td>\n",
       "      <td>70067</td>\n",
       "      <td>1576</td>\n",
       "      <td>1010</td>\n",
       "      <td>10th St &amp; Penn Ave (David L. Lawrence Conventi...</td>\n",
       "      <td>1010</td>\n",
       "      <td>10th St &amp; Penn Ave (David L. Lawrence Conventi...</td>\n",
       "      <td>Customer</td>\n",
       "    </tr>\n",
       "    <tr>\n",
       "      <th>3</th>\n",
       "      <td>27201194</td>\n",
       "      <td>4/1/2017 5:05</td>\n",
       "      <td>4/1/2017 7:46</td>\n",
       "      <td>70191</td>\n",
       "      <td>9695</td>\n",
       "      <td>1005</td>\n",
       "      <td>Forbes Ave &amp; Grant St</td>\n",
       "      <td>1043</td>\n",
       "      <td>Coltart Ave &amp; Forbes Ave</td>\n",
       "      <td>Customer</td>\n",
       "    </tr>\n",
       "    <tr>\n",
       "      <th>4</th>\n",
       "      <td>27203670</td>\n",
       "      <td>4/1/2017 5:35</td>\n",
       "      <td>4/1/2017 5:54</td>\n",
       "      <td>70353</td>\n",
       "      <td>1164</td>\n",
       "      <td>1038</td>\n",
       "      <td>Boulevard of the Allies &amp; Parkview Ave</td>\n",
       "      <td>1047</td>\n",
       "      <td>S 22nd St &amp; E Carson St</td>\n",
       "      <td>Subscriber</td>\n",
       "    </tr>\n",
       "  </tbody>\n",
       "</table>\n",
       "</div>"
      ],
      "text/plain": [
       "    Trip id      Starttime       Stoptime  Bikeid  Tripduration  \\\n",
       "0  27193394  4/1/2017 0:59  4/1/2017 1:43   70024          2659   \n",
       "1  27193815  4/1/2017 1:43  4/1/2017 1:48   70353           284   \n",
       "2  27194749  4/1/2017 2:35  4/1/2017 3:01   70067          1576   \n",
       "3  27201194  4/1/2017 5:05  4/1/2017 7:46   70191          9695   \n",
       "4  27203670  4/1/2017 5:35  4/1/2017 5:54   70353          1164   \n",
       "\n",
       "   From station id                                  From station name  \\\n",
       "0             1012           North Shore Trail & Fort Duquesne Bridge   \n",
       "1             1037                              Frew St & Schenley Dr   \n",
       "2             1010  10th St & Penn Ave (David L. Lawrence Conventi...   \n",
       "3             1005                              Forbes Ave & Grant St   \n",
       "4             1038             Boulevard of the Allies & Parkview Ave   \n",
       "\n",
       "   To station id                                    To station name  \\\n",
       "0           1045           S 27th St & Sidney St. (Southside Works)   \n",
       "1           1038             Boulevard of the Allies & Parkview Ave   \n",
       "2           1010  10th St & Penn Ave (David L. Lawrence Conventi...   \n",
       "3           1043                           Coltart Ave & Forbes Ave   \n",
       "4           1047                            S 22nd St & E Carson St   \n",
       "\n",
       "     Usertype  \n",
       "0    Customer  \n",
       "1  Subscriber  \n",
       "2    Customer  \n",
       "3    Customer  \n",
       "4  Subscriber  "
      ]
     },
     "execution_count": 2,
     "metadata": {},
     "output_type": "execute_result"
    }
   ],
   "source": [
    "rentals_df = pd.read_csv('rentals.csv', encoding='latin-1')\n",
    "\n",
    "rentals_df.head()"
   ]
  },
  {
   "cell_type": "markdown",
   "metadata": {},
   "source": [
    "We can use the `.shape` attribute of the data frame to see the count of records and number of columns."
   ]
  },
  {
   "cell_type": "code",
   "execution_count": 3,
   "metadata": {},
   "outputs": [
    {
     "data": {
      "text/plain": [
       "(24423, 10)"
      ]
     },
     "execution_count": 3,
     "metadata": {},
     "output_type": "execute_result"
    }
   ],
   "source": [
    "rentals_df.shape"
   ]
  },
  {
   "cell_type": "code",
   "execution_count": 4,
   "metadata": {},
   "outputs": [
    {
     "name": "stdout",
     "output_type": "stream",
     "text": [
      "There are 24423 records and 10 columns in the rentals.csv file.\n"
     ]
    }
   ],
   "source": [
    "print(\"There are {} records and {} columns in the rentals.csv file.\".format(rentals_df.shape[0], rentals_df.shape[1]))"
   ]
  },
  {
   "cell_type": "markdown",
   "metadata": {},
   "source": [
    "Also, we can see what data types Python assigned to each column using `rentals_df.dtypes`"
   ]
  },
  {
   "cell_type": "code",
   "execution_count": 5,
   "metadata": {},
   "outputs": [
    {
     "data": {
      "text/plain": [
       "Trip id               int64\n",
       "Starttime            object\n",
       "Stoptime             object\n",
       "Bikeid                int64\n",
       "Tripduration          int64\n",
       "From station id       int64\n",
       "From station name    object\n",
       "To station id         int64\n",
       "To station name      object\n",
       "Usertype             object\n",
       "dtype: object"
      ]
     },
     "execution_count": 5,
     "metadata": {},
     "output_type": "execute_result"
    }
   ],
   "source": [
    "rentals_df.dtypes"
   ]
  },
  {
   "cell_type": "markdown",
   "metadata": {},
   "source": [
    "### 2. Selecting and manipulating data\n",
    "Here, we will see how to select, rename and do some basic calculations with data frames."
   ]
  },
  {
   "cell_type": "markdown",
   "metadata": {},
   "source": [
    "The data set shows us the trip duration (in seconds), but we would like to see the duration in minutes.\n",
    "\n",
    "To convert the trip duration from seconds to minutes, we create a new column `Tripduration_mins` by taking the value in `Tripduration` and dividing it by 60. Then we use the `.tail()` method to check the results.\n",
    "\n",
    "It is important to note that we are **not** looping through each element - the operation of \"divide by 60\" is applied to each element automatically."
   ]
  },
  {
   "cell_type": "code",
   "execution_count": 161,
   "metadata": {},
   "outputs": [
    {
     "data": {
      "text/html": [
       "<div>\n",
       "<style>\n",
       "    .dataframe thead tr:only-child th {\n",
       "        text-align: right;\n",
       "    }\n",
       "\n",
       "    .dataframe thead th {\n",
       "        text-align: left;\n",
       "    }\n",
       "\n",
       "    .dataframe tbody tr th {\n",
       "        vertical-align: top;\n",
       "    }\n",
       "</style>\n",
       "<table border=\"1\" class=\"dataframe\">\n",
       "  <thead>\n",
       "    <tr style=\"text-align: right;\">\n",
       "      <th></th>\n",
       "      <th>Trip id</th>\n",
       "      <th>Starttime</th>\n",
       "      <th>Stoptime</th>\n",
       "      <th>Bikeid</th>\n",
       "      <th>Tripduration</th>\n",
       "      <th>From station id</th>\n",
       "      <th>From station name</th>\n",
       "      <th>To station id</th>\n",
       "      <th>To station name</th>\n",
       "      <th>Usertype</th>\n",
       "      <th>Starttime_dt</th>\n",
       "      <th>Stoptime_dt</th>\n",
       "      <th>hours</th>\n",
       "      <th>daylight</th>\n",
       "      <th>DayOfTheWeek</th>\n",
       "      <th>WeekDay</th>\n",
       "      <th>Starttime_cat</th>\n",
       "      <th>Tripduration_mins</th>\n",
       "    </tr>\n",
       "  </thead>\n",
       "  <tbody>\n",
       "    <tr>\n",
       "      <th>24418</th>\n",
       "      <td>33295197</td>\n",
       "      <td>6/30/2017 23:38</td>\n",
       "      <td>6/30/2017 23:58</td>\n",
       "      <td>70240</td>\n",
       "      <td>1212</td>\n",
       "      <td>1023</td>\n",
       "      <td>Liberty Ave &amp; Baum Blvd</td>\n",
       "      <td>1028</td>\n",
       "      <td>Penn Ave &amp; Putnam St (Bakery Square)</td>\n",
       "      <td>Customer</td>\n",
       "      <td>2017-06-30 23:38:00</td>\n",
       "      <td>2017-06-30 23:58:00</td>\n",
       "      <td>23</td>\n",
       "      <td>0</td>\n",
       "      <td>4</td>\n",
       "      <td>1</td>\n",
       "      <td>2</td>\n",
       "      <td>20.200000</td>\n",
       "    </tr>\n",
       "    <tr>\n",
       "      <th>24419</th>\n",
       "      <td>33295206</td>\n",
       "      <td>6/30/2017 23:38</td>\n",
       "      <td>6/30/2017 23:56</td>\n",
       "      <td>70178</td>\n",
       "      <td>1030</td>\n",
       "      <td>1023</td>\n",
       "      <td>Liberty Ave &amp; Baum Blvd</td>\n",
       "      <td>1028</td>\n",
       "      <td>Penn Ave &amp; Putnam St (Bakery Square)</td>\n",
       "      <td>Customer</td>\n",
       "      <td>2017-06-30 23:38:00</td>\n",
       "      <td>2017-06-30 23:56:00</td>\n",
       "      <td>23</td>\n",
       "      <td>0</td>\n",
       "      <td>4</td>\n",
       "      <td>1</td>\n",
       "      <td>2</td>\n",
       "      <td>17.166667</td>\n",
       "    </tr>\n",
       "    <tr>\n",
       "      <th>24420</th>\n",
       "      <td>33295257</td>\n",
       "      <td>6/30/2017 23:45</td>\n",
       "      <td>7/1/2017 0:07</td>\n",
       "      <td>70490</td>\n",
       "      <td>1351</td>\n",
       "      <td>1010</td>\n",
       "      <td>10th St &amp; Penn Ave (David L. Lawrence Conventi...</td>\n",
       "      <td>1019</td>\n",
       "      <td>42nd St &amp; Butler St</td>\n",
       "      <td>Customer</td>\n",
       "      <td>2017-06-30 23:45:00</td>\n",
       "      <td>2017-07-01 00:07:00</td>\n",
       "      <td>23</td>\n",
       "      <td>0</td>\n",
       "      <td>4</td>\n",
       "      <td>1</td>\n",
       "      <td>2</td>\n",
       "      <td>22.516667</td>\n",
       "    </tr>\n",
       "    <tr>\n",
       "      <th>24421</th>\n",
       "      <td>33295318</td>\n",
       "      <td>6/30/2017 23:55</td>\n",
       "      <td>7/1/2017 0:02</td>\n",
       "      <td>70019</td>\n",
       "      <td>424</td>\n",
       "      <td>1049</td>\n",
       "      <td>S 12th St &amp; E Carson St</td>\n",
       "      <td>1045</td>\n",
       "      <td>S 27th St &amp; Sidney St. (Southside Works)</td>\n",
       "      <td>Customer</td>\n",
       "      <td>2017-06-30 23:55:00</td>\n",
       "      <td>2017-07-01 00:02:00</td>\n",
       "      <td>23</td>\n",
       "      <td>0</td>\n",
       "      <td>4</td>\n",
       "      <td>1</td>\n",
       "      <td>2</td>\n",
       "      <td>7.066667</td>\n",
       "    </tr>\n",
       "    <tr>\n",
       "      <th>24422</th>\n",
       "      <td>33295336</td>\n",
       "      <td>6/30/2017 23:58</td>\n",
       "      <td>7/1/2017 0:15</td>\n",
       "      <td>70400</td>\n",
       "      <td>1008</td>\n",
       "      <td>1021</td>\n",
       "      <td>Taylor St &amp; Liberty Ave</td>\n",
       "      <td>1024</td>\n",
       "      <td>S Negley Ave &amp; Baum Blvd</td>\n",
       "      <td>Customer</td>\n",
       "      <td>2017-06-30 23:58:00</td>\n",
       "      <td>2017-07-01 00:15:00</td>\n",
       "      <td>23</td>\n",
       "      <td>0</td>\n",
       "      <td>4</td>\n",
       "      <td>1</td>\n",
       "      <td>2</td>\n",
       "      <td>16.800000</td>\n",
       "    </tr>\n",
       "  </tbody>\n",
       "</table>\n",
       "</div>"
      ],
      "text/plain": [
       "        Trip id        Starttime         Stoptime  Bikeid  Tripduration  \\\n",
       "24418  33295197  6/30/2017 23:38  6/30/2017 23:58   70240          1212   \n",
       "24419  33295206  6/30/2017 23:38  6/30/2017 23:56   70178          1030   \n",
       "24420  33295257  6/30/2017 23:45    7/1/2017 0:07   70490          1351   \n",
       "24421  33295318  6/30/2017 23:55    7/1/2017 0:02   70019           424   \n",
       "24422  33295336  6/30/2017 23:58    7/1/2017 0:15   70400          1008   \n",
       "\n",
       "       From station id                                  From station name  \\\n",
       "24418             1023                            Liberty Ave & Baum Blvd   \n",
       "24419             1023                            Liberty Ave & Baum Blvd   \n",
       "24420             1010  10th St & Penn Ave (David L. Lawrence Conventi...   \n",
       "24421             1049                            S 12th St & E Carson St   \n",
       "24422             1021                            Taylor St & Liberty Ave   \n",
       "\n",
       "       To station id                           To station name  Usertype  \\\n",
       "24418           1028      Penn Ave & Putnam St (Bakery Square)  Customer   \n",
       "24419           1028      Penn Ave & Putnam St (Bakery Square)  Customer   \n",
       "24420           1019                       42nd St & Butler St  Customer   \n",
       "24421           1045  S 27th St & Sidney St. (Southside Works)  Customer   \n",
       "24422           1024                  S Negley Ave & Baum Blvd  Customer   \n",
       "\n",
       "             Starttime_dt         Stoptime_dt  hours  daylight  DayOfTheWeek  \\\n",
       "24418 2017-06-30 23:38:00 2017-06-30 23:58:00     23         0             4   \n",
       "24419 2017-06-30 23:38:00 2017-06-30 23:56:00     23         0             4   \n",
       "24420 2017-06-30 23:45:00 2017-07-01 00:07:00     23         0             4   \n",
       "24421 2017-06-30 23:55:00 2017-07-01 00:02:00     23         0             4   \n",
       "24422 2017-06-30 23:58:00 2017-07-01 00:15:00     23         0             4   \n",
       "\n",
       "       WeekDay  Starttime_cat  Tripduration_mins  \n",
       "24418        1              2          20.200000  \n",
       "24419        1              2          17.166667  \n",
       "24420        1              2          22.516667  \n",
       "24421        1              2           7.066667  \n",
       "24422        1              2          16.800000  "
      ]
     },
     "execution_count": 161,
     "metadata": {},
     "output_type": "execute_result"
    }
   ],
   "source": [
    "rentals_df['Tripduration_mins'] = rentals_df['Tripduration'] / 60\n",
    "\n",
    "rentals_df.tail()"
   ]
  },
  {
   "cell_type": "markdown",
   "metadata": {},
   "source": [
    "Now, we want to create another column that just has the date of the `Starttime` date time column - so that we can see how many rides occur on a given day.\n",
    "\n",
    "To do this, we use the `pd.to_datetime` function, which requires a string column and date time format as parameters. We now have a date time object that we can format into any [string format](https://docs.python.org/3/library/datetime.html#strftime-and-strptime-behavior) we want."
   ]
  },
  {
   "cell_type": "code",
   "execution_count": 7,
   "metadata": {},
   "outputs": [
    {
     "data": {
      "text/html": [
       "<div>\n",
       "<style>\n",
       "    .dataframe thead tr:only-child th {\n",
       "        text-align: right;\n",
       "    }\n",
       "\n",
       "    .dataframe thead th {\n",
       "        text-align: left;\n",
       "    }\n",
       "\n",
       "    .dataframe tbody tr th {\n",
       "        vertical-align: top;\n",
       "    }\n",
       "</style>\n",
       "<table border=\"1\" class=\"dataframe\">\n",
       "  <thead>\n",
       "    <tr style=\"text-align: right;\">\n",
       "      <th></th>\n",
       "      <th>Trip id</th>\n",
       "      <th>Starttime</th>\n",
       "      <th>Stoptime</th>\n",
       "      <th>Bikeid</th>\n",
       "      <th>Tripduration</th>\n",
       "      <th>From station id</th>\n",
       "      <th>From station name</th>\n",
       "      <th>To station id</th>\n",
       "      <th>To station name</th>\n",
       "      <th>Usertype</th>\n",
       "      <th>Tripduration_mins</th>\n",
       "      <th>Starttime_dt</th>\n",
       "      <th>Startdate</th>\n",
       "    </tr>\n",
       "  </thead>\n",
       "  <tbody>\n",
       "    <tr>\n",
       "      <th>0</th>\n",
       "      <td>27193394</td>\n",
       "      <td>4/1/2017 0:59</td>\n",
       "      <td>4/1/2017 1:43</td>\n",
       "      <td>70024</td>\n",
       "      <td>2659</td>\n",
       "      <td>1012</td>\n",
       "      <td>North Shore Trail &amp; Fort Duquesne Bridge</td>\n",
       "      <td>1045</td>\n",
       "      <td>S 27th St &amp; Sidney St. (Southside Works)</td>\n",
       "      <td>Customer</td>\n",
       "      <td>44.316667</td>\n",
       "      <td>2017-04-01 00:59:00</td>\n",
       "      <td>04/01/2017</td>\n",
       "    </tr>\n",
       "    <tr>\n",
       "      <th>1</th>\n",
       "      <td>27193815</td>\n",
       "      <td>4/1/2017 1:43</td>\n",
       "      <td>4/1/2017 1:48</td>\n",
       "      <td>70353</td>\n",
       "      <td>284</td>\n",
       "      <td>1037</td>\n",
       "      <td>Frew St &amp; Schenley Dr</td>\n",
       "      <td>1038</td>\n",
       "      <td>Boulevard of the Allies &amp; Parkview Ave</td>\n",
       "      <td>Subscriber</td>\n",
       "      <td>4.733333</td>\n",
       "      <td>2017-04-01 01:43:00</td>\n",
       "      <td>04/01/2017</td>\n",
       "    </tr>\n",
       "    <tr>\n",
       "      <th>2</th>\n",
       "      <td>27194749</td>\n",
       "      <td>4/1/2017 2:35</td>\n",
       "      <td>4/1/2017 3:01</td>\n",
       "      <td>70067</td>\n",
       "      <td>1576</td>\n",
       "      <td>1010</td>\n",
       "      <td>10th St &amp; Penn Ave (David L. Lawrence Conventi...</td>\n",
       "      <td>1010</td>\n",
       "      <td>10th St &amp; Penn Ave (David L. Lawrence Conventi...</td>\n",
       "      <td>Customer</td>\n",
       "      <td>26.266667</td>\n",
       "      <td>2017-04-01 02:35:00</td>\n",
       "      <td>04/01/2017</td>\n",
       "    </tr>\n",
       "    <tr>\n",
       "      <th>3</th>\n",
       "      <td>27201194</td>\n",
       "      <td>4/1/2017 5:05</td>\n",
       "      <td>4/1/2017 7:46</td>\n",
       "      <td>70191</td>\n",
       "      <td>9695</td>\n",
       "      <td>1005</td>\n",
       "      <td>Forbes Ave &amp; Grant St</td>\n",
       "      <td>1043</td>\n",
       "      <td>Coltart Ave &amp; Forbes Ave</td>\n",
       "      <td>Customer</td>\n",
       "      <td>161.583333</td>\n",
       "      <td>2017-04-01 05:05:00</td>\n",
       "      <td>04/01/2017</td>\n",
       "    </tr>\n",
       "    <tr>\n",
       "      <th>4</th>\n",
       "      <td>27203670</td>\n",
       "      <td>4/1/2017 5:35</td>\n",
       "      <td>4/1/2017 5:54</td>\n",
       "      <td>70353</td>\n",
       "      <td>1164</td>\n",
       "      <td>1038</td>\n",
       "      <td>Boulevard of the Allies &amp; Parkview Ave</td>\n",
       "      <td>1047</td>\n",
       "      <td>S 22nd St &amp; E Carson St</td>\n",
       "      <td>Subscriber</td>\n",
       "      <td>19.400000</td>\n",
       "      <td>2017-04-01 05:35:00</td>\n",
       "      <td>04/01/2017</td>\n",
       "    </tr>\n",
       "  </tbody>\n",
       "</table>\n",
       "</div>"
      ],
      "text/plain": [
       "    Trip id      Starttime       Stoptime  Bikeid  Tripduration  \\\n",
       "0  27193394  4/1/2017 0:59  4/1/2017 1:43   70024          2659   \n",
       "1  27193815  4/1/2017 1:43  4/1/2017 1:48   70353           284   \n",
       "2  27194749  4/1/2017 2:35  4/1/2017 3:01   70067          1576   \n",
       "3  27201194  4/1/2017 5:05  4/1/2017 7:46   70191          9695   \n",
       "4  27203670  4/1/2017 5:35  4/1/2017 5:54   70353          1164   \n",
       "\n",
       "   From station id                                  From station name  \\\n",
       "0             1012           North Shore Trail & Fort Duquesne Bridge   \n",
       "1             1037                              Frew St & Schenley Dr   \n",
       "2             1010  10th St & Penn Ave (David L. Lawrence Conventi...   \n",
       "3             1005                              Forbes Ave & Grant St   \n",
       "4             1038             Boulevard of the Allies & Parkview Ave   \n",
       "\n",
       "   To station id                                    To station name  \\\n",
       "0           1045           S 27th St & Sidney St. (Southside Works)   \n",
       "1           1038             Boulevard of the Allies & Parkview Ave   \n",
       "2           1010  10th St & Penn Ave (David L. Lawrence Conventi...   \n",
       "3           1043                           Coltart Ave & Forbes Ave   \n",
       "4           1047                            S 22nd St & E Carson St   \n",
       "\n",
       "     Usertype  Tripduration_mins        Starttime_dt   Startdate  \n",
       "0    Customer          44.316667 2017-04-01 00:59:00  04/01/2017  \n",
       "1  Subscriber           4.733333 2017-04-01 01:43:00  04/01/2017  \n",
       "2    Customer          26.266667 2017-04-01 02:35:00  04/01/2017  \n",
       "3    Customer         161.583333 2017-04-01 05:05:00  04/01/2017  \n",
       "4  Subscriber          19.400000 2017-04-01 05:35:00  04/01/2017  "
      ]
     },
     "execution_count": 7,
     "metadata": {},
     "output_type": "execute_result"
    }
   ],
   "source": [
    "# Parse the date time object from a string\n",
    "rentals_df['Starttime_dt'] = pd.to_datetime(rentals_df['Starttime'], format='%m/%d/%Y %H:%M')\n",
    "\n",
    "# Format the date time object as a string\n",
    "rentals_df['Startdate'] = rentals_df['Starttime_dt'].dt.strftime('%m/%d/%Y')\n",
    "\n",
    "rentals_df.head()"
   ]
  },
  {
   "cell_type": "markdown",
   "metadata": {},
   "source": [
    "Our data frame is getting a bit crowded. For the purposes of the rest of this analysis, we don't need all of these columns. \n",
    "\n",
    "Let's drop a few of the columns we used in calculations and no longer need."
   ]
  },
  {
   "cell_type": "code",
   "execution_count": 9,
   "metadata": {},
   "outputs": [
    {
     "name": "stdout",
     "output_type": "stream",
     "text": [
      "False\n"
     ]
    }
   ],
   "source": [
    "print(rentals_df['Starttime'][0]>rentals_df['Starttime'][1])"
   ]
  },
  {
   "cell_type": "code",
   "execution_count": null,
   "metadata": {
    "collapsed": true
   },
   "outputs": [],
   "source": [
    "rentals_df.drop(['Trip id', 'Bikeid', 'Starttime', 'Stoptime', 'Tripduration', \\\n",
    "                 'From station id', 'To station id'], \\\n",
    "                axis=1, inplace=True)\n",
    "\n",
    "rentals_df.head()"
   ]
  },
  {
   "cell_type": "markdown",
   "metadata": {},
   "source": [
    "### 3. Aggregating data\n",
    "Here, we will see how to group data in preparation for plotting."
   ]
  },
  {
   "cell_type": "markdown",
   "metadata": {},
   "source": [
    "First, we want to filter the data so that we are only working with rides that occurred in June of 2017.\n",
    "\n",
    "The syntax to make this happens leverages the date time object we created earlier. To break down what's happening here, first we're identifying which date time objects are greater than 2017-06-01 (which is technically June 1st at 00:00:00) using this snippet `rentals_df['Starttime_dt'] > '2017-06-01'`. This creates a boolean value (True/False) for each record, which is then used to select each record, which is stored as a new data frame called `june_rides`."
   ]
  },
  {
   "cell_type": "code",
   "execution_count": null,
   "metadata": {
    "collapsed": true,
    "scrolled": true
   },
   "outputs": [],
   "source": [
    "june_rides = rentals_df[rentals_df['Starttime_dt'] > '2017-06-01']\n",
    "june_rides.head()"
   ]
  },
  {
   "cell_type": "markdown",
   "metadata": {},
   "source": [
    "Because we would like to create a histogram that visualizes the count of rides per day, we select the `Starttime_dt` column from our `june_rides` data frame. Now we have a data frame with a listing of all of the individual date time objects that represent the start time of each ride in June of 2017."
   ]
  },
  {
   "cell_type": "code",
   "execution_count": null,
   "metadata": {
    "collapsed": true
   },
   "outputs": [],
   "source": [
    "june_start_dates = june_rides[['Starttime_dt']]\n",
    "june_start_dates.head()"
   ]
  },
  {
   "cell_type": "markdown",
   "metadata": {},
   "source": [
    "In order to get a count of the number of rides that occurred on each day, we use the combination of a `.groupby()` and `.count()` functions. Let's break it down by individual pieces.\n",
    "\n",
    "First, the snippet \n",
    "```python\n",
    "june_start_dates['Starttime_dt'].dt.date\n",
    "``` \n",
    "parses the date (e.g. 2017-06-01) from the date time object (e.g. 2017-06-01 01:11:00) in the `Starttime_dt` column. This is the value that we will be using to `.groupby()`.\n",
    "\n",
    "Then, the `.count()` will count up all occurrences of the previously calculated values, which will be stored in the `count_of_rides` data frame."
   ]
  },
  {
   "cell_type": "code",
   "execution_count": null,
   "metadata": {
    "collapsed": true,
    "scrolled": false
   },
   "outputs": [],
   "source": [
    "count_of_rides = june_start_dates.groupby(june_start_dates['Starttime_dt'].dt.date).count()\n",
    "count_of_rides.head()"
   ]
  },
  {
   "cell_type": "code",
   "execution_count": null,
   "metadata": {
    "collapsed": true
   },
   "outputs": [],
   "source": [
    "june_start_dates['Starttime_dt'].dt.dayofweek"
   ]
  },
  {
   "cell_type": "markdown",
   "metadata": {},
   "source": [
    "### 4. Plotting data\n",
    "Here, we will see how to plot our prepared data as a histogram."
   ]
  },
  {
   "cell_type": "markdown",
   "metadata": {},
   "source": [
    "First, we tell Python that we want to see the plot `inline` by using the magic `%matplotlib inline`."
   ]
  },
  {
   "cell_type": "code",
   "execution_count": null,
   "metadata": {
    "collapsed": true
   },
   "outputs": [],
   "source": [
    "%matplotlib inline\n",
    "import matplotlib.pyplot as plt"
   ]
  },
  {
   "cell_type": "markdown",
   "metadata": {},
   "source": [
    "We update the index of the `count_of_rides` data frame. Then, by using our aggregated data frame, we simply call the `.plot()` function with the `kind=bar` parameter to visualize the count of rides per date in June of 2017."
   ]
  },
  {
   "cell_type": "code",
   "execution_count": null,
   "metadata": {
    "collapsed": true
   },
   "outputs": [],
   "source": [
    "count_of_rides.index.name = 'Ride Start Date'\n",
    "\n",
    "count_of_rides.plot(kind=\"bar\", title='Frequency of Healthy Rides (June 2017)',figsize=(15,4))"
   ]
  },
  {
   "cell_type": "markdown",
   "metadata": {},
   "source": [
    "### Try it yourself\n",
    "We want to figure out what the most popular rides are from Q2 of 2017.\n",
    "\n",
    "Also, we want to focus on rides which start & stop at ***different*** stations.\n",
    "\n",
    "Lastly, we are only interested in rides that occurred more than 100 times.\n",
    "\n",
    "*Hint: One solution leverages the* `.groupby()` *function, the* `.size()` *function, the* `.reset_index()` *function and some tricky filtering techniques.*\n",
    "\n",
    "**BONUS:** Plot a histogram of each unique from station name in the resulting data frame, with a sum of all originating rides from each station.\n",
    "\n",
    "*Hint: One solution again leverages the* `.groupby()` *function and the* `.sum()` *function.*\n",
    "\n",
    "Look at the \"solution.png\" file in this repository to check your result."
   ]
  },
  {
   "cell_type": "code",
   "execution_count": null,
   "metadata": {
    "collapsed": true
   },
   "outputs": [],
   "source": [
    "diff_station_rides=rentals_df[rentals_df['From station name']!=rentals_df['To station name']]\n",
    "diff_station_rides.head()"
   ]
  },
  {
   "cell_type": "code",
   "execution_count": null,
   "metadata": {
    "collapsed": true
   },
   "outputs": [],
   "source": [
    "diff_station_rides.shape"
   ]
  },
  {
   "cell_type": "code",
   "execution_count": null,
   "metadata": {
    "collapsed": true,
    "scrolled": true
   },
   "outputs": [],
   "source": [
    "morethan100_rides=diff_station_rides.groupby(['From station name', 'To station name']).count()\n",
    "morethan100_rides=morethan100_rides.drop(['Tripduration_mins','Starttime_dt','Startdate'],axis=1)\n",
    "morethan100_rides.columns=['Ride counts']\n",
    "morethan100_rides=morethan100_rides[morethan100_rides['Ride counts']>100]\n",
    "morethan100_rides.head(15)"
   ]
  },
  {
   "cell_type": "code",
   "execution_count": null,
   "metadata": {
    "collapsed": true
   },
   "outputs": [],
   "source": [
    "aggregated_rides=morethan100_rides.groupby(['From station name'])['Ride counts'].sum()\n",
    "aggregated_rides.head()"
   ]
  },
  {
   "cell_type": "code",
   "execution_count": null,
   "metadata": {
    "collapsed": true
   },
   "outputs": [],
   "source": [
    "aggregated_rides.plot(kind='bar',figsize=(12,4))"
   ]
  },
  {
   "cell_type": "markdown",
   "metadata": {
    "collapsed": true
   },
   "source": [
    "### We are trying to use the &lt;BikeID, TripDuration&gt; data to calculate a probability distribution of bike usage in the city, by bike"
   ]
  },
  {
   "cell_type": "code",
   "execution_count": 10,
   "metadata": {
    "collapsed": true
   },
   "outputs": [],
   "source": [
    "import scipy.stats.kde as sckde\n",
    "from scipy.stats.kde import gaussian_kde"
   ]
  },
  {
   "cell_type": "code",
   "execution_count": 11,
   "metadata": {
    "collapsed": true
   },
   "outputs": [],
   "source": [
    "from skimage.measure import shannon_entropy\n",
    "import scipy as sc\n",
    "from scipy.interpolate import UnivariateSpline"
   ]
  },
  {
   "cell_type": "code",
   "execution_count": 17,
   "metadata": {},
   "outputs": [],
   "source": [
    "import matplotlib.pyplot as plt\n",
    "%matplotlib inline"
   ]
  },
  {
   "cell_type": "code",
   "execution_count": 12,
   "metadata": {
    "collapsed": true
   },
   "outputs": [],
   "source": [
    "import seaborn as sns\n",
    "sns.set(color_codes=True)"
   ]
  },
  {
   "cell_type": "code",
   "execution_count": 13,
   "metadata": {
    "collapsed": true
   },
   "outputs": [],
   "source": [
    "# Entropy of Pandas series\n",
    "def ent(data):\n",
    "    \"\"\"\n",
    "    Function that computes the entropy of a Pandas series.\n",
    "    \"\"\"\n",
    "    if isinstance(data, np.ndarray):\n",
    "        _, counts = np.unique(data, return_counts=True)\n",
    "    else:\n",
    "        counts = data.value_counts()\n",
    "    p_data= counts/len(data) # calculates the probabilities\n",
    "    entropy=sc.stats.entropy(p_data,base=2)  # input probabilities to get the entropy \n",
    "    return entropy"
   ]
  },
  {
   "cell_type": "code",
   "execution_count": 14,
   "metadata": {
    "collapsed": true
   },
   "outputs": [],
   "source": [
    "def display_distribution(data, title_, axlabel_):\n",
    "    \"\"\"\n",
    "    Function that takes a Pandas series containing values drawn from a distribution \n",
    "    and plots the probability distribution and rug plot\n",
    "    \"\"\"\n",
    "    plt.figure(figsize=(15,6))\n",
    "    ax=sns.distplot(data, hist=True, rug=True, kde=True, axlabel=axlabel_, \\\n",
    "                 kde_kws={\"color\": \"r\", \"lw\": 3, \"label\": \"KDE\"}, \\\n",
    "                 hist_kws={\"histtype\": \"step\", \"linewidth\": 1, \\\n",
    "                           \"alpha\": 1, \"color\": \"g\", \"label\": \"Histogram\"})\n",
    "    plt.title(title_)\n",
    "    plt.ylabel('Counts')\n",
    "\n",
    "    ax2=ax.twinx()\n",
    "\n",
    "    # Switch so count axis is on right, frequency on left\n",
    "    ax2.yaxis.tick_left()\n",
    "    ax.yaxis.tick_right()\n",
    "    # Also switch the labels over\n",
    "    ax.yaxis.set_label_position('right')\n",
    "    ax2.yaxis.set_label_position('left')\n",
    "\n",
    "    ax2.set_ylabel('Probability')\n",
    "    \n",
    "    summary_text=\"mean=\"+str(np.mean(data))+\"\\nsigma=\"+str(np.std(data))\n",
    "    plt.figtext(0.2,0.8,summary_text)"
   ]
  },
  {
   "cell_type": "code",
   "execution_count": 15,
   "metadata": {
    "collapsed": true
   },
   "outputs": [],
   "source": [
    "rentals_df = pd.read_csv('rentals.csv', encoding='latin-1')"
   ]
  },
  {
   "cell_type": "code",
   "execution_count": 19,
   "metadata": {
    "collapsed": true
   },
   "outputs": [],
   "source": [
    "rentals_df['Starttime_dt'] = pd.to_datetime(rentals_df['Starttime'], format='%m/%d/%Y %H:%M')\n",
    "rentals_df['Stoptime_dt'] = pd.to_datetime(rentals_df['Stoptime'], format='%m/%d/%Y %H:%M')"
   ]
  },
  {
   "cell_type": "code",
   "execution_count": 23,
   "metadata": {},
   "outputs": [],
   "source": [
    "# get unique bikes\n",
    "unique_bikeids=pd.unique(rentals_df['Bikeid']).sort()"
   ]
  },
  {
   "cell_type": "code",
   "execution_count": 53,
   "metadata": {
    "collapsed": true
   },
   "outputs": [],
   "source": [
    "import matplotlib.dates as mdates\n",
    "import matplotlib.patches as mpatches\n",
    "from datetime import datetime\n",
    "from datetime import date"
   ]
  },
  {
   "cell_type": "code",
   "execution_count": 152,
   "metadata": {
    "scrolled": false
   },
   "outputs": [
    {
     "data": {
      "image/png": "[encoded data removed]",
      "text/plain": [
       "<matplotlib.figure.Figure at 0x29005448e80>"
      ]
     },
     "metadata": {},
     "output_type": "display_data"
    }
   ],
   "source": [
    "# look at the bike usage, by bike\n",
    "fig = plt.figure(figsize=(15,8))\n",
    "ax = fig.add_subplot(111)\n",
    "\n",
    "bar_width = 0.8\n",
    "default_color = 'blue'\n",
    "\n",
    "nb_uniquebikeids = len(unique_bikeids)\n",
    "\n",
    "num_bikes_plotted=20\n",
    "plotted_bikeids=unique_bikeids[0:num_bikes_plotted]\n",
    "nb_plottedbikeids = len(plotted_bikeids)\n",
    "\n",
    "# Plot the events\n",
    "for index, uniqueid in enumerate(plotted_bikeids):\n",
    "    mask = rentals_df['Bikeid'] == uniqueid\n",
    "    start_dates = mdates.date2num(rentals_df.loc[mask]['Starttime_dt'].astype(datetime))\n",
    "    end_dates = mdates.date2num(rentals_df.loc[mask]['Stoptime_dt'].astype(datetime))\n",
    "    durations = end_dates - start_dates\n",
    "    xranges = zip(start_dates, durations)\n",
    "    ymin = index - bar_width / 2.0\n",
    "    ywidth = bar_width\n",
    "    yrange = (ymin, ywidth)\n",
    "    facecolors = [default_color] * len(start_dates)\n",
    "    facecolors[-1] = 'red' # mark last trip for this bike in dataset\n",
    "    ax.broken_barh(list(xranges), yrange, facecolors=facecolors, alpha=1.0)\n",
    "    # you can set alpha to 0.6 to check if there are some overlaps\n",
    "\n",
    "# Shrink the x-axis\n",
    "#box = ax.get_position()\n",
    "#ax.set_position([box.x0, box.y0, box.width * 0.8, box.height])\n",
    "\n",
    "# Format the x-ticks\n",
    "#ax.xaxis.set_major_locator(mdates.YearLocator())\n",
    "ax.xaxis.set_major_formatter(mdates.DateFormatter('%Y-%m-%d'))\n",
    "ax.xaxis.set_minor_formatter(mdates.DateFormatter('%m'))\n",
    "#ax.xaxis.set_minor_locator(mdates.MonthLocator())\n",
    "ax.set_xlabel('Time stamp of trips')\n",
    "\n",
    "# Format the y-ticks\n",
    "ax.set_yticks(range(num_bikes_plotted))\n",
    "ax.set_yticklabels(plotted_bikeids)\n",
    "ax.set_ylabel('Bike ID')\n",
    "\n",
    "# Set the limits\n",
    "first_day=rentals_df['Starttime_dt'].min()\n",
    "last_day=rentals_df['Starttime_dt'].max()\n",
    "date_min = date(first_day.year, first_day.month, first_day.day)\n",
    "date_max = date(last_day.year, last_day.month+1, 1)\n",
    "ax.set_xlim(date_min, date_max)\n",
    "\n",
    "# Format the coords message box\n",
    "#ax.format_xdata = mdates.DateFormatter('%Y-%m-%d %H:%M')\n",
    "\n",
    "# Set the title\n",
    "ax.set_title('Bike Usage for {} bikes'.format(num_bikes_plotted))\n",
    "\n",
    "plt.show()"
   ]
  },
  {
   "cell_type": "code",
   "execution_count": 134,
   "metadata": {},
   "outputs": [
    {
     "name": "stdout",
     "output_type": "stream",
     "text": [
      "454\n"
     ]
    }
   ],
   "source": [
    "print(nb_uniquebikeids)"
   ]
  },
  {
   "cell_type": "code",
   "execution_count": null,
   "metadata": {
    "collapsed": true
   },
   "outputs": [],
   "source": [
    "rentals_df.drop(['Trip id', 'Starttime', 'Stoptime', 'From station id', 'To station id', 'From station name', \\\n",
    "                 'To station name', 'Usertype'], axis=1, inplace=True)"
   ]
  },
  {
   "cell_type": "code",
   "execution_count": null,
   "metadata": {},
   "outputs": [],
   "source": [
    "rentals_df.head()"
   ]
  },
  {
   "cell_type": "code",
   "execution_count": null,
   "metadata": {
    "collapsed": true
   },
   "outputs": [],
   "source": [
    "grouped_bikes=rentals_df.groupby(['Bikeid']).sum()\n",
    "grouped_bikes=grouped_bikes.rename(columns={'Tripduration':'TripDurationPerBike'})\n",
    "grouped_bikes['RentalCountPerBike']=rentals_df.groupby(['Bikeid']).count()"
   ]
  },
  {
   "cell_type": "code",
   "execution_count": null,
   "metadata": {
    "collapsed": true,
    "scrolled": true
   },
   "outputs": [],
   "source": [
    "grouped_bikes.head()"
   ]
  },
  {
   "cell_type": "code",
   "execution_count": null,
   "metadata": {
    "collapsed": true
   },
   "outputs": [],
   "source": [
    "num_unique_bikes=rentals_df['Bikeid'].unique().shape[0]"
   ]
  },
  {
   "cell_type": "code",
   "execution_count": null,
   "metadata": {
    "collapsed": true,
    "scrolled": true
   },
   "outputs": [],
   "source": [
    "grouped_bikes.sort_values('TripDurationPerBike',ascending=[False])"
   ]
  },
  {
   "cell_type": "code",
   "execution_count": null,
   "metadata": {
    "collapsed": true
   },
   "outputs": [],
   "source": [
    "p, x = np.histogram(grouped_bikes['TripDurationPerBike'], bins=num_unique_bikes//10)"
   ]
  },
  {
   "cell_type": "markdown",
   "metadata": {},
   "source": [
    "### Plot the probability distributions"
   ]
  },
  {
   "cell_type": "code",
   "execution_count": null,
   "metadata": {
    "collapsed": true
   },
   "outputs": [],
   "source": [
    "x = x[:-1] + (x[1] - x[0])/2   # convert bin edges to centers\n",
    "f = UnivariateSpline(x, p, s=num_unique_bikes//10)\n",
    "plt.plot(x, f(x))\n",
    "plt.show()"
   ]
  },
  {
   "cell_type": "code",
   "execution_count": null,
   "metadata": {
    "collapsed": true,
    "scrolled": true
   },
   "outputs": [],
   "source": [
    "display_distribution(grouped_bikes['TripDurationPerBike'], \\\n",
    "                     title_=\"Probability Distribution of Trip Duration in Q3\", \\\n",
    "                     axlabel_=\"Trip Duration in s\")"
   ]
  },
  {
   "cell_type": "code",
   "execution_count": null,
   "metadata": {
    "collapsed": true
   },
   "outputs": [],
   "source": [
    "display_distribution(grouped_bikes['RentalCountPerBike'], \\\n",
    "                     title_=\"Probability Distribution of Rental Counts in Q3\", \\\n",
    "                     axlabel_=\"Rental Counts\")"
   ]
  },
  {
   "cell_type": "code",
   "execution_count": null,
   "metadata": {
    "collapsed": true
   },
   "outputs": [],
   "source": [
    "## From here forward is the work that we did on 09/1/2017."
   ]
  },
  {
   "cell_type": "code",
   "execution_count": null,
   "metadata": {
    "collapsed": true
   },
   "outputs": [],
   "source": [
    "# from boundingbox.klokantech.com, the coordinates of the Pittsburgh bikeshare space:\n",
    "# With the DublinCore format: westlimit=-80.015745; southlimit=40.414999; \n",
    "#     eastlimit=-79.910774; northlimit=40.465952\n",
    "# With the GEOJSON format: [[[-80.015745163,40.4149990887],[-79.910774231,40.4149990887],\n",
    "#     [-79.910774231,40.4659518383],[-80.015745163,40.4659518383],[-80.015745163,40.4149990887]]]"
   ]
  },
  {
   "cell_type": "code",
   "execution_count": null,
   "metadata": {
    "collapsed": true
   },
   "outputs": [],
   "source": [
    "pgh_w=-80.015745\n",
    "pgh_s=40.414999\n",
    "pgh_e=-79.910774\n",
    "pgh_n=40.465952\n",
    "pgh_midx=(pgh_e+pgh_w)/2\n",
    "pgh_midy=(pgh_n+pgh_s)/2"
   ]
  },
  {
   "cell_type": "code",
   "execution_count": null,
   "metadata": {
    "collapsed": true
   },
   "outputs": [],
   "source": [
    "# DID NOT WORK: First method- use Matplotlib Basemap to generate the map directly"
   ]
  },
  {
   "cell_type": "code",
   "execution_count": null,
   "metadata": {
    "collapsed": true
   },
   "outputs": [],
   "source": [
    "import matplotlib.pyplot as plt\n",
    "%matplotlib inline\n",
    "import matplotlib.cm\n",
    " \n",
    "#import mpl_toolkits\n",
    "from mpl_toolkits.basemap import Basemap\n",
    "from matplotlib.patches import Polygon\n",
    "from matplotlib.collections import PatchCollection\n",
    "from matplotlib.colors import Normalize"
   ]
  },
  {
   "cell_type": "code",
   "execution_count": null,
   "metadata": {
    "collapsed": true
   },
   "outputs": [],
   "source": [
    "m = Basemap(resolution='c', # c, l, i, h, f or None\n",
    "            projection='merc', area_thresh = 0.1,\n",
    "            lat_0=pgh_midy, lon_0=pgh_midx,\n",
    "            llcrnrlon=pgh_w, llcrnrlat=pgh_s, urcrnrlon=pgh_e, urcrnrlat=pgh_n)"
   ]
  },
  {
   "cell_type": "code",
   "execution_count": null,
   "metadata": {},
   "outputs": [],
   "source": [
    "m.drawmapboundary(fill_color='#46bcec')\n",
    "m.fillcontinents(color='#f2f2f2',lake_color='#46bcec')\n",
    "m.drawcoastlines()\n",
    "\n",
    "#m.drawcoastlines()\n",
    "#m.drawcountries()\n",
    "#m.fillcontinents(color = 'coral')\n",
    "#m.drawmapboundary()\n",
    " \n",
    "lon = -135.3318\n",
    "lat = 57.0799\n",
    "x,y = m(pgh_midy, pgh_midx)\n",
    "m.plot(x, y, 'bo', markersize=24)\n",
    " \n",
    "plt.show()"
   ]
  },
  {
   "cell_type": "code",
   "execution_count": null,
   "metadata": {
    "collapsed": true
   },
   "outputs": [],
   "source": [
    "# DID WORK: Second method- use the Google maps API to access the lat/long coordinates for Pittsburgh\n",
    "# Read Station data, setup Google Maps and call API with center of map as a parameter.\n",
    "# Examine output in the .html file."
   ]
  },
  {
   "cell_type": "code",
   "execution_count": null,
   "metadata": {
    "collapsed": true
   },
   "outputs": [],
   "source": [
    "station_df = pd.read_csv('stations.csv', encoding='latin-1')"
   ]
  },
  {
   "cell_type": "code",
   "execution_count": null,
   "metadata": {},
   "outputs": [],
   "source": [
    "station_df.head()"
   ]
  },
  {
   "cell_type": "code",
   "execution_count": null,
   "metadata": {
    "collapsed": true
   },
   "outputs": [],
   "source": [
    "lats=station_df['Latitude']\n",
    "longs=station_df['Longitude']"
   ]
  },
  {
   "cell_type": "code",
   "execution_count": null,
   "metadata": {
    "collapsed": true
   },
   "outputs": [],
   "source": [
    "import gmplot\n",
    "\n",
    "#gmap = gmplot.GoogleMapPlotter(37.428, -122.145, 16)\n",
    "gmap = gmplot.GoogleMapPlotter(pgh_midy, pgh_midx, 13)\n",
    "#gmap = gmplot.from_geocode(\"Pittsburgh\")\n",
    "\n",
    "gmap.scatter(lats, longs, 'cornflowerblue', edge_width=10)\n",
    "gmap.scatter(lats, longs, 'red', size=40, marker=False) # other color values: #3B0B39\n",
    "gmap.heatmap(lats, longs, threshold=20, radius=20, gradient=[(30,30,30,0), (30,30,30,1), (50, 50, 50, 1)])\n",
    "#gmap.heatmap(lats, longs, threshold=10, radius=10, dissipating=False, \\\n",
    "#              gradient=[(30,30,30,0), (30,30,30,1), (50, 50, 50, 1)])\n",
    "#gmap.scatter(marker_lats, marker_lngs, 'k', marker=True)\n",
    "#gmap.heatmap(heat_lats, heat_lngs)\n",
    "\n",
    "gmap.draw(\"mymap.html\")"
   ]
  },
  {
   "cell_type": "code",
   "execution_count": null,
   "metadata": {},
   "outputs": [],
   "source": [
    "station_df.shape"
   ]
  },
  {
   "cell_type": "code",
   "execution_count": null,
   "metadata": {
    "collapsed": true
   },
   "outputs": [],
   "source": [
    "# is there a way to display the HTML \"inline\"? Some sample code from stackexchange"
   ]
  },
  {
   "cell_type": "code",
   "execution_count": null,
   "metadata": {},
   "outputs": [],
   "source": [
    "from IPython.core.display import display, HTML\n",
    "display(HTML('mymap.html'))"
   ]
  },
  {
   "cell_type": "code",
   "execution_count": null,
   "metadata": {},
   "outputs": [],
   "source": [
    "display(HTML(\"<a href='mymap.html' target='_blank'>mymap</a>\"))"
   ]
  },
  {
   "cell_type": "markdown",
   "metadata": {
    "collapsed": true
   },
   "source": [
    "## Now let us look at anomaly detection. The following is adapted from the Kaggle notebook:\n",
    "## https://www.kaggle.com/victorambonati/unsupervised-anomaly-detection/notebook"
   ]
  },
  {
   "cell_type": "code",
   "execution_count": 173,
   "metadata": {
    "collapsed": true
   },
   "outputs": [],
   "source": [
    "from sklearn import preprocessing\n",
    "from sklearn.decomposition import PCA\n",
    "from sklearn.cluster import KMeans\n",
    "from sklearn.covariance import EllipticEnvelope\n",
    "#from pyemma import msm # not available on Kaggle Kernel\n",
    "from sklearn.ensemble import IsolationForest\n",
    "from sklearn.svm import OneClassSVM"
   ]
  },
  {
   "cell_type": "code",
   "execution_count": 189,
   "metadata": {
    "collapsed": true
   },
   "outputs": [],
   "source": [
    "# return Series of distance between each point and his distance with the closest centroid\n",
    "def getDistanceByPoint(data, model):\n",
    "    distance = pd.Series()\n",
    "    for i in range(0,len(data)):\n",
    "        Xa = np.array(data.loc[i])\n",
    "        Xb = model.cluster_centers_[model.labels_[i]-1]\n",
    "        distance.set_value(i, np.linalg.norm(Xa-Xb))\n",
    "    return distance\n",
    "\n",
    "# train markov model to get transition matrix\n",
    "def getTransitionMatrix (df):\n",
    "\tdf = np.array(df)\n",
    "\tmodel = msm.estimate_markov_model(df, 1)\n",
    "\treturn model.transition_matrix\n",
    "\n",
    "def markovAnomaly(df, windows_size, threshold):\n",
    "    transition_matrix = getTransitionMatrix(df)\n",
    "    real_threshold = threshold**windows_size\n",
    "    df_anomaly = []\n",
    "    for j in range(0, len(df)):\n",
    "        if (j < windows_size):\n",
    "            df_anomaly.append(0)\n",
    "        else:\n",
    "            sequence = df[j-windows_size:j]\n",
    "            sequence = sequence.reset_index(drop=True)\n",
    "            df_anomaly.append(anomalyElement(sequence, real_threshold, transition_matrix))\n",
    "    return df_anomaly"
   ]
  },
  {
   "cell_type": "code",
   "execution_count": 154,
   "metadata": {
    "collapsed": true
   },
   "outputs": [],
   "source": [
    "# the hours and if it's night or day (7:00-22:00)\n",
    "rentals_df['hours'] = rentals_df['Starttime_dt'].dt.hour\n",
    "rentals_df['daylight'] = ((rentals_df['hours'] >= 7) & (rentals_df['hours'] <= 22)).astype(int)"
   ]
  },
  {
   "cell_type": "code",
   "execution_count": 155,
   "metadata": {
    "collapsed": true
   },
   "outputs": [],
   "source": [
    "# the day of the week (Monday=0, Sunday=6) and if it's a week end day or week day.\n",
    "rentals_df['DayOfTheWeek'] = rentals_df['Starttime_dt'].dt.dayofweek\n",
    "rentals_df['WeekDay'] = (rentals_df['DayOfTheWeek'] < 5).astype(int)\n",
    "# An estimation of anomly population of the dataset (necessary for several algorithm)\n",
    "outliers_fraction = 0.01"
   ]
  },
  {
   "cell_type": "code",
   "execution_count": 172,
   "metadata": {},
   "outputs": [
    {
     "data": {
      "image/png": "[encoded data removed]",
      "text/plain": [
       "<matplotlib.figure.Figure at 0x290368c3c50>"
      ]
     },
     "metadata": {},
     "output_type": "display_data"
    }
   ],
   "source": [
    "# creation of 4 distinct categories that seem useful (week end/day week & night/day)\n",
    "rentals_df['Starttime_cat'] = rentals_df['WeekDay']*2 + rentals_df['daylight']\n",
    "\n",
    "a = rentals_df.loc[rentals_df['Starttime_cat'] == 0, 'Tripduration_mins']\n",
    "b = rentals_df.loc[rentals_df['Starttime_cat'] == 1, 'Tripduration_mins']\n",
    "c = rentals_df.loc[rentals_df['Starttime_cat'] == 2, 'Tripduration_mins']\n",
    "d = rentals_df.loc[rentals_df['Starttime_cat'] == 3, 'Tripduration_mins']\n",
    "\n",
    "fig, ax = plt.subplots(figsize=(15,8))\n",
    "a_heights, a_bins = np.histogram(a)\n",
    "b_heights, b_bins = np.histogram(b, bins=a_bins)\n",
    "c_heights, c_bins = np.histogram(c, bins=a_bins)\n",
    "d_heights, d_bins = np.histogram(d, bins=a_bins)\n",
    "\n",
    "width = (a_bins[1] - a_bins[0])/6\n",
    "\n",
    "ax.bar(a_bins[:-1], a_heights*100/a.count(), width=width, facecolor='blue', label='WeekEnd Night')\n",
    "ax.bar(b_bins[:-1]+width, (b_heights*100/b.count()), width=width, facecolor='green', label ='WeekEndDayLight')\n",
    "ax.bar(c_bins[:-1]+width*2, (c_heights*100/c.count()), width=width, facecolor='red', label ='WeekDay Night')\n",
    "ax.bar(d_bins[:-1]+width*3, (d_heights*100/d.count()), width=width, facecolor='black', label ='WeekDay DayLight')\n",
    "\n",
    "ax.set_xlabel('Trip Duration in minutes')\n",
    "plt.legend()\n",
    "plt.show()"
   ]
  },
  {
   "cell_type": "code",
   "execution_count": 174,
   "metadata": {
    "collapsed": true
   },
   "outputs": [],
   "source": [
    "### Now we have to be careful in choice of outlier detector. What is the nature of our data? It is partly \n",
    "### unordered (Bike IDs, Trip IDs, Stations) and partly ordered (timestamps of start and stop of trips)"
   ]
  },
  {
   "cell_type": "code",
   "execution_count": 175,
   "metadata": {
    "collapsed": true
   },
   "outputs": [],
   "source": [
    "### Let us start with simple clustering"
   ]
  },
  {
   "cell_type": "code",
   "execution_count": 178,
   "metadata": {
    "collapsed": true
   },
   "outputs": [],
   "source": [
    "rentals_df['Starttime_num']=mdates.date2num(rentals_df['Starttime_dt'].astype(datetime))\n",
    "rentals_df['Stoptime_num']=mdates.date2num(rentals_df['Stoptime_dt'].astype(datetime))"
   ]
  },
  {
   "cell_type": "code",
   "execution_count": 180,
   "metadata": {},
   "outputs": [],
   "source": [
    "data = rentals_df[['Tripduration', 'Starttime_num', 'Stoptime_num', 'From station id', 'From station id', \\\n",
    "                   'hours', 'daylight', 'DayOfTheWeek', 'WeekDay']]\n",
    "min_max_scaler = preprocessing.StandardScaler()\n",
    "np_scaled = min_max_scaler.fit_transform(data)\n",
    "data = pd.DataFrame(np_scaled)\n",
    "# reduce to 2 importants features\n",
    "pca = PCA(n_components=2)\n",
    "data = pca.fit_transform(data)\n",
    "# standardize these 2 new features\n",
    "min_max_scaler = preprocessing.StandardScaler()\n",
    "np_scaled = min_max_scaler.fit_transform(data)\n",
    "data = pd.DataFrame(np_scaled)"
   ]
  },
  {
   "cell_type": "code",
   "execution_count": 181,
   "metadata": {},
   "outputs": [
    {
     "data": {
      "image/png": "[encoded data removed]",
      "text/plain": [
       "<matplotlib.figure.Figure at 0x2900de10940>"
      ]
     },
     "metadata": {},
     "output_type": "display_data"
    }
   ],
   "source": [
    "# calculate with different number of centroids to see the loss plot (elbow method)\n",
    "n_cluster = range(1, 20)\n",
    "kmeans = [KMeans(n_clusters=i).fit(data) for i in n_cluster]\n",
    "scores = [kmeans[i].score(data) for i in range(len(kmeans))]\n",
    "fig, ax = plt.subplots()\n",
    "ax.plot(n_cluster, scores)\n",
    "plt.show()"
   ]
  },
  {
   "cell_type": "code",
   "execution_count": 186,
   "metadata": {},
   "outputs": [
    {
     "data": {
      "text/plain": [
       "8     2654\n",
       "4     2371\n",
       "1     2323\n",
       "3     2198\n",
       "12    1999\n",
       "11    1901\n",
       "0     1894\n",
       "14    1783\n",
       "10    1764\n",
       "5     1642\n",
       "13    1474\n",
       "6     1313\n",
       "9     1040\n",
       "7       63\n",
       "2        4\n",
       "Name: cluster, dtype: int64"
      ]
     },
     "execution_count": 186,
     "metadata": {},
     "output_type": "execute_result"
    }
   ],
   "source": [
    "# choose 15 centroids arbitrarily and add these data to the central dataframe\n",
    "rentals_df['cluster'] = kmeans[14].predict(data)\n",
    "rentals_df['principal_feature1'] = data[0]\n",
    "rentals_df['principal_feature2'] = data[1]\n",
    "rentals_df['cluster'].value_counts()"
   ]
  },
  {
   "cell_type": "code",
   "execution_count": 187,
   "metadata": {},
   "outputs": [
    {
     "data": {
      "image/png": "[encoded data removed]",
      "text/plain": [
       "<matplotlib.figure.Figure at 0x2901203e9e8>"
      ]
     },
     "metadata": {},
     "output_type": "display_data"
    }
   ],
   "source": [
    "#plot the different clusters with the 2 main features\n",
    "fig, ax = plt.subplots()\n",
    "colors = {0:'red', 1:'blue', 2:'green', 3:'pink', 4:'black', 5:'orange', 6:'cyan', 7:'yellow', 8:'brown', \\\n",
    "          9:'purple', 10:'white', 11: 'grey', 12:'lightblue', 13:'lightgreen', 14: 'darkgrey'}\n",
    "ax.scatter(rentals_df['principal_feature1'], rentals_df['principal_feature2'], \n",
    "           c=rentals_df[\"cluster\"].apply(lambda x: colors[x]))\n",
    "plt.show()"
   ]
  },
  {
   "cell_type": "code",
   "execution_count": 202,
   "metadata": {},
   "outputs": [
    {
     "data": {
      "image/png": "[encoded data removed]",
      "text/plain": [
       "<matplotlib.figure.Figure at 0x2905e52fe80>"
      ]
     },
     "metadata": {},
     "output_type": "display_data"
    }
   ],
   "source": [
    "# lets zoom in separately to see clearer\n",
    "fig, ax = plt.subplots(1,2,figsize=(15,8))\n",
    "colors = {0:'red', 1:'blue', 2:'green', 3:'pink', 4:'black', 5:'orange', 6:'cyan', 7:'yellow', 8:'brown', \\\n",
    "          9:'purple', 10:'white', 11: 'grey', 12:'lightblue', 13:'lightgreen', 14: 'darkgrey'}\n",
    "ax[0].scatter(rentals_df['principal_feature1'], rentals_df['principal_feature2'], \n",
    "           c=rentals_df[\"cluster\"].apply(lambda x: colors[x]))\n",
    "ax[0].set_xlim(-2,4.1)\n",
    "ax[0].set_ylim(-2,5)\n",
    "ax[0].set_title('PCA Analysis (Lower quadrant)')\n",
    "ax[1].scatter(rentals_df['principal_feature1'], rentals_df['principal_feature2'], \n",
    "           c=rentals_df[\"cluster\"].apply(lambda x: colors[x]))\n",
    "ax[1].set_xlim(40,55)\n",
    "ax[1].set_ylim(50,65)\n",
    "ax[1].set_title('PCA Analysis (Upper quadrant)')\n",
    "plt.show()"
   ]
  },
  {
   "cell_type": "code",
   "execution_count": 191,
   "metadata": {},
   "outputs": [],
   "source": [
    "# get the distance between each point and its nearest centroid. \n",
    "# The biggest distances are considered as anomalies\n",
    "distance = getDistanceByPoint(data, kmeans[14])\n",
    "number_of_outliers = int(outliers_fraction*len(distance))\n",
    "threshold = distance.nlargest(number_of_outliers).min()\n",
    "rentals_df['anomaly21'] = (distance >= threshold).astype(int)"
   ]
  },
  {
   "cell_type": "code",
   "execution_count": 192,
   "metadata": {},
   "outputs": [
    {
     "data": {
      "image/png": "[encoded data removed]",
      "text/plain": [
       "<matplotlib.figure.Figure at 0x290368e5668>"
      ]
     },
     "metadata": {},
     "output_type": "display_data"
    }
   ],
   "source": [
    "# visualisation of anomaly with cluster view\n",
    "fig, ax = plt.subplots()\n",
    "colors = {0:'blue', 1:'red'}\n",
    "ax.scatter(rentals_df['principal_feature1'], rentals_df['principal_feature2'], \\\n",
    "           c=rentals_df[\"anomaly21\"].apply(lambda x: colors[x]))\n",
    "ax.set_title('Outlier PCA Analysis')\n",
    "plt.show()"
   ]
  },
  {
   "cell_type": "code",
   "execution_count": 203,
   "metadata": {},
   "outputs": [
    {
     "data": {
      "image/png": "[encoded data removed]",
      "text/plain": [
       "<matplotlib.figure.Figure at 0x290604ff400>"
      ]
     },
     "metadata": {},
     "output_type": "display_data"
    }
   ],
   "source": [
    "# repeat visualization with zooms, as before\n",
    "fig, ax = plt.subplots(1,2,figsize=(15,8))\n",
    "colors = {0:'blue', 1:'red'}\n",
    "ax[0].scatter(rentals_df['principal_feature1'], rentals_df['principal_feature2'], \n",
    "           c=rentals_df[\"anomaly21\"].apply(lambda x: colors[x]))\n",
    "ax[0].set_xlim(-2,4.1)\n",
    "ax[0].set_ylim(-2,5)\n",
    "ax[0].set_title('Outlier PCA Analysis (Lower quadrant)')\n",
    "ax[1].scatter(rentals_df['principal_feature1'], rentals_df['principal_feature2'], \n",
    "           c=rentals_df[\"anomaly21\"].apply(lambda x: colors[x]))\n",
    "ax[1].set_xlim(40,55)\n",
    "ax[1].set_ylim(50,65)\n",
    "ax[1].set_title('Outlier PCA Analysis (Upper quadrant)')\n",
    "\n",
    "plt.show()\n"
   ]
  },
  {
   "cell_type": "code",
   "execution_count": 206,
   "metadata": {},
   "outputs": [],
   "source": [
    "anomalous_rides=rentals_df[rentals_df['anomaly21']==1]"
   ]
  },
  {
   "cell_type": "code",
   "execution_count": 207,
   "metadata": {},
   "outputs": [
    {
     "data": {
      "text/html": [
       "<div>\n",
       "<style>\n",
       "    .dataframe thead tr:only-child th {\n",
       "        text-align: right;\n",
       "    }\n",
       "\n",
       "    .dataframe thead th {\n",
       "        text-align: left;\n",
       "    }\n",
       "\n",
       "    .dataframe tbody tr th {\n",
       "        vertical-align: top;\n",
       "    }\n",
       "</style>\n",
       "<table border=\"1\" class=\"dataframe\">\n",
       "  <thead>\n",
       "    <tr style=\"text-align: right;\">\n",
       "      <th></th>\n",
       "      <th>Trip id</th>\n",
       "      <th>Starttime</th>\n",
       "      <th>Stoptime</th>\n",
       "      <th>Bikeid</th>\n",
       "      <th>Tripduration</th>\n",
       "      <th>From station id</th>\n",
       "      <th>From station name</th>\n",
       "      <th>To station id</th>\n",
       "      <th>To station name</th>\n",
       "      <th>Usertype</th>\n",
       "      <th>...</th>\n",
       "      <th>DayOfTheWeek</th>\n",
       "      <th>WeekDay</th>\n",
       "      <th>Starttime_cat</th>\n",
       "      <th>Tripduration_mins</th>\n",
       "      <th>Starttime_num</th>\n",
       "      <th>Stoptime_num</th>\n",
       "      <th>cluster</th>\n",
       "      <th>principal_feature1</th>\n",
       "      <th>principal_feature2</th>\n",
       "      <th>anomaly21</th>\n",
       "    </tr>\n",
       "  </thead>\n",
       "  <tbody>\n",
       "    <tr>\n",
       "      <th>18924</th>\n",
       "      <td>31905519</td>\n",
       "      <td>6/12/2017 22:35</td>\n",
       "      <td>6/13/2017 21:19</td>\n",
       "      <td>70181</td>\n",
       "      <td>81876</td>\n",
       "      <td>1007</td>\n",
       "      <td>Stevenson St &amp; Forbes Ave</td>\n",
       "      <td>1049</td>\n",
       "      <td>S 12th St &amp; E Carson St</td>\n",
       "      <td>Customer</td>\n",
       "      <td>...</td>\n",
       "      <td>0</td>\n",
       "      <td>1</td>\n",
       "      <td>3</td>\n",
       "      <td>1364.600000</td>\n",
       "      <td>736492.940972</td>\n",
       "      <td>736493.888194</td>\n",
       "      <td>3</td>\n",
       "      <td>1.027232</td>\n",
       "      <td>-1.008246</td>\n",
       "      <td>1</td>\n",
       "    </tr>\n",
       "    <tr>\n",
       "      <th>19117</th>\n",
       "      <td>31982384</td>\n",
       "      <td>6/13/2017 22:43</td>\n",
       "      <td>6/15/2017 1:08</td>\n",
       "      <td>70301</td>\n",
       "      <td>95153</td>\n",
       "      <td>1001</td>\n",
       "      <td>Forbes Ave &amp; Market Square</td>\n",
       "      <td>1044</td>\n",
       "      <td>Zulema St &amp; Coltart Ave</td>\n",
       "      <td>Customer</td>\n",
       "      <td>...</td>\n",
       "      <td>1</td>\n",
       "      <td>1</td>\n",
       "      <td>3</td>\n",
       "      <td>1585.883333</td>\n",
       "      <td>736493.946528</td>\n",
       "      <td>736495.047222</td>\n",
       "      <td>3</td>\n",
       "      <td>1.035255</td>\n",
       "      <td>-1.006518</td>\n",
       "      <td>1</td>\n",
       "    </tr>\n",
       "    <tr>\n",
       "      <th>20659</th>\n",
       "      <td>32444987</td>\n",
       "      <td>6/19/2017 18:02</td>\n",
       "      <td>6/19/2017 18:11</td>\n",
       "      <td>70325</td>\n",
       "      <td>540</td>\n",
       "      <td>1003</td>\n",
       "      <td>First Ave &amp; Smithfield St (Art Institute)</td>\n",
       "      <td>1048</td>\n",
       "      <td>S 18th St &amp; Sidney St</td>\n",
       "      <td>Subscriber</td>\n",
       "      <td>...</td>\n",
       "      <td>0</td>\n",
       "      <td>1</td>\n",
       "      <td>3</td>\n",
       "      <td>9.000000</td>\n",
       "      <td>736499.751389</td>\n",
       "      <td>736499.757639</td>\n",
       "      <td>3</td>\n",
       "      <td>1.030732</td>\n",
       "      <td>-1.001922</td>\n",
       "      <td>1</td>\n",
       "    </tr>\n",
       "    <tr>\n",
       "      <th>20663</th>\n",
       "      <td>32445400</td>\n",
       "      <td>6/19/2017 18:14</td>\n",
       "      <td>6/19/2017 18:17</td>\n",
       "      <td>70374</td>\n",
       "      <td>195</td>\n",
       "      <td>1002</td>\n",
       "      <td>Third Ave &amp; Wood St</td>\n",
       "      <td>1000</td>\n",
       "      <td>Liberty Ave &amp; Stanwix St</td>\n",
       "      <td>Subscriber</td>\n",
       "      <td>...</td>\n",
       "      <td>0</td>\n",
       "      <td>1</td>\n",
       "      <td>3</td>\n",
       "      <td>3.250000</td>\n",
       "      <td>736499.759722</td>\n",
       "      <td>736499.761806</td>\n",
       "      <td>3</td>\n",
       "      <td>1.029561</td>\n",
       "      <td>-1.002174</td>\n",
       "      <td>1</td>\n",
       "    </tr>\n",
       "    <tr>\n",
       "      <th>20664</th>\n",
       "      <td>32445520</td>\n",
       "      <td>6/19/2017 18:19</td>\n",
       "      <td>6/19/2017 18:32</td>\n",
       "      <td>70000</td>\n",
       "      <td>758</td>\n",
       "      <td>1004</td>\n",
       "      <td>First Ave &amp; B St (T Station)</td>\n",
       "      <td>1045</td>\n",
       "      <td>S 27th St &amp; Sidney St. (Southside Works)</td>\n",
       "      <td>Subscriber</td>\n",
       "      <td>...</td>\n",
       "      <td>0</td>\n",
       "      <td>1</td>\n",
       "      <td>3</td>\n",
       "      <td>12.633333</td>\n",
       "      <td>736499.763194</td>\n",
       "      <td>736499.772222</td>\n",
       "      <td>3</td>\n",
       "      <td>1.032139</td>\n",
       "      <td>-1.001932</td>\n",
       "      <td>1</td>\n",
       "    </tr>\n",
       "  </tbody>\n",
       "</table>\n",
       "<p>5 rows × 24 columns</p>\n",
       "</div>"
      ],
      "text/plain": [
       "        Trip id        Starttime         Stoptime  Bikeid  Tripduration  \\\n",
       "18924  31905519  6/12/2017 22:35  6/13/2017 21:19   70181         81876   \n",
       "19117  31982384  6/13/2017 22:43   6/15/2017 1:08   70301         95153   \n",
       "20659  32444987  6/19/2017 18:02  6/19/2017 18:11   70325           540   \n",
       "20663  32445400  6/19/2017 18:14  6/19/2017 18:17   70374           195   \n",
       "20664  32445520  6/19/2017 18:19  6/19/2017 18:32   70000           758   \n",
       "\n",
       "       From station id                          From station name  \\\n",
       "18924             1007                  Stevenson St & Forbes Ave   \n",
       "19117             1001                 Forbes Ave & Market Square   \n",
       "20659             1003  First Ave & Smithfield St (Art Institute)   \n",
       "20663             1002                        Third Ave & Wood St   \n",
       "20664             1004               First Ave & B St (T Station)   \n",
       "\n",
       "       To station id                           To station name    Usertype  \\\n",
       "18924           1049                   S 12th St & E Carson St    Customer   \n",
       "19117           1044                   Zulema St & Coltart Ave    Customer   \n",
       "20659           1048                     S 18th St & Sidney St  Subscriber   \n",
       "20663           1000                  Liberty Ave & Stanwix St  Subscriber   \n",
       "20664           1045  S 27th St & Sidney St. (Southside Works)  Subscriber   \n",
       "\n",
       "         ...     DayOfTheWeek WeekDay  Starttime_cat  Tripduration_mins  \\\n",
       "18924    ...                0       1              3        1364.600000   \n",
       "19117    ...                1       1              3        1585.883333   \n",
       "20659    ...                0       1              3           9.000000   \n",
       "20663    ...                0       1              3           3.250000   \n",
       "20664    ...                0       1              3          12.633333   \n",
       "\n",
       "       Starttime_num   Stoptime_num  cluster  principal_feature1  \\\n",
       "18924  736492.940972  736493.888194        3            1.027232   \n",
       "19117  736493.946528  736495.047222        3            1.035255   \n",
       "20659  736499.751389  736499.757639        3            1.030732   \n",
       "20663  736499.759722  736499.761806        3            1.029561   \n",
       "20664  736499.763194  736499.772222        3            1.032139   \n",
       "\n",
       "       principal_feature2  anomaly21  \n",
       "18924           -1.008246          1  \n",
       "19117           -1.006518          1  \n",
       "20659           -1.001922          1  \n",
       "20663           -1.002174          1  \n",
       "20664           -1.001932          1  \n",
       "\n",
       "[5 rows x 24 columns]"
      ]
     },
     "execution_count": 207,
     "metadata": {},
     "output_type": "execute_result"
    }
   ],
   "source": [
    "anomalous_rides.head()"
   ]
  },
  {
   "cell_type": "code",
   "execution_count": null,
   "metadata": {
    "collapsed": true
   },
   "outputs": [],
   "source": []
  }
 ],
 "metadata": {
  "anaconda-cloud": {},
  "kernelspec": {
   "display_name": "Python 3",
   "language": "python",
   "name": "python3"
  },
  "language_info": {
   "codemirror_mode": {
    "name": "ipython",
    "version": 3
   },
   "file_extension": ".py",
   "mimetype": "text/x-python",
   "name": "python",
   "nbconvert_exporter": "python",
   "pygments_lexer": "ipython3",
   "version": "3.5.3"
  }
 },
 "nbformat": 4,
 "nbformat_minor": 1
}
