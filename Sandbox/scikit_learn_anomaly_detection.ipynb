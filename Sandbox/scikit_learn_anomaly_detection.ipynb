{
 "cells": [
  {
   "cell_type": "markdown",
   "metadata": {},
   "source": [
    "# Hands-On With Python"
   ]
  },
  {
   "cell_type": "markdown",
   "metadata": {},
   "source": [
    "## B-J-R-V: The objective of our group is...TBD"
   ]
  },
  {
   "cell_type": "markdown",
   "metadata": {},
   "source": [
    "*In this walk-through, we will be covering four main techniques to get you comfortable manipulating data with Python.*\n",
    "\n",
    "#### Background\n",
    "I'm sure many of you are familiar with the blue and white bikes throughout Pittsburgh which are known to some as \"Healthy Rides\". Pittsburgh Bike Share, a non-profit located in the Strip District, works to maintain the Healthy Ride bike stations and bikes. The hardware and software is provided by nextbike, which allows Pittsburgh Bike Share to post the data publicly. The dataset can be obtained [here](https://healthyridepgh.com/data/). We will be focusing on the Q2 2017 data, which is already downloaded to this repository. There are two files: `rentals.csv` which provides information on individual rides and `stations.csv` which provides additional information about each bike station.\n",
    "\n",
    "#### Overview\n",
    "1. Reading data into a data frame (and previewing it)\n",
    "2. Selecting/manipulating data\n",
    "3. Aggregating data\n",
    "4. Plotting data\n",
    "\n",
    "At the end, you can try your hand at aggregating and plotting the healthy ride data on your own."
   ]
  },
  {
   "cell_type": "markdown",
   "metadata": {},
   "source": [
    "### 1. Reading data into a data frame\n",
    "Here, we import the pandas package (commonly referred to as \"pd\")."
   ]
  },
  {
   "cell_type": "code",
   "execution_count": 1,
   "metadata": {
    "collapsed": true
   },
   "outputs": [],
   "source": [
    "import pandas as pd\n",
    "import numpy as np"
   ]
  },
  {
   "cell_type": "markdown",
   "metadata": {},
   "source": [
    "Next, we read in the rentals.csv file (with the `encoding='latin-1'` parameter) and preview the data using `rentals_df.head()`"
   ]
  },
  {
   "cell_type": "code",
   "execution_count": null,
   "metadata": {
    "collapsed": true
   },
   "outputs": [],
   "source": [
    "rentals_df = pd.read_csv('rentals.csv', encoding='latin-1')\n",
    "\n",
    "rentals_df.head()"
   ]
  },
  {
   "cell_type": "markdown",
   "metadata": {},
   "source": [
    "We can use the `.shape` attribute of the data frame to see the count of records and number of columns."
   ]
  },
  {
   "cell_type": "code",
   "execution_count": null,
   "metadata": {
    "collapsed": true
   },
   "outputs": [],
   "source": [
    "rentals_df.shape"
   ]
  },
  {
   "cell_type": "code",
   "execution_count": null,
   "metadata": {
    "collapsed": true
   },
   "outputs": [],
   "source": [
    "print(\"There are {} records and {} columns in the rentals.csv file.\".format(rentals_df.shape[0], rentals_df.shape[1]))"
   ]
  },
  {
   "cell_type": "markdown",
   "metadata": {},
   "source": [
    "Also, we can see what data types Python assigned to each column using `rentals_df.dtypes`"
   ]
  },
  {
   "cell_type": "code",
   "execution_count": null,
   "metadata": {
    "collapsed": true
   },
   "outputs": [],
   "source": [
    "rentals_df.dtypes"
   ]
  },
  {
   "cell_type": "markdown",
   "metadata": {},
   "source": [
    "### 2. Selecting and manipulating data\n",
    "Here, we will see how to select, rename and do some basic calculations with data frames."
   ]
  },
  {
   "cell_type": "markdown",
   "metadata": {},
   "source": [
    "The data set shows us the trip duration (in seconds), but we would like to see the duration in minutes.\n",
    "\n",
    "To convert the trip duration from seconds to minutes, we create a new column `Tripduration_mins` by taking the value in `Tripduration` and dividing it by 60. Then we use the `.tail()` method to check the results.\n",
    "\n",
    "It is important to note that we are **not** looping through each element - the operation of \"divide by 60\" is applied to each element automatically."
   ]
  },
  {
   "cell_type": "code",
   "execution_count": null,
   "metadata": {
    "collapsed": true
   },
   "outputs": [],
   "source": [
    "rentals_df['Tripduration_mins'] = rentals_df['Tripduration'] / 60\n",
    "\n",
    "rentals_df.tail()"
   ]
  },
  {
   "cell_type": "markdown",
   "metadata": {},
   "source": [
    "Now, we want to create another column that just has the date of the `Starttime` date time column - so that we can see how many rides occur on a given day.\n",
    "\n",
    "To do this, we use the `pd.to_datetime` function, which requires a string column and date time format as parameters. We now have a date time object that we can format into any [string format](https://docs.python.org/3/library/datetime.html#strftime-and-strptime-behavior) we want."
   ]
  },
  {
   "cell_type": "code",
   "execution_count": null,
   "metadata": {
    "collapsed": true
   },
   "outputs": [],
   "source": [
    "# Parse the date time object from a string\n",
    "rentals_df['Starttime_dt'] = pd.to_datetime(rentals_df['Starttime'], format='%m/%d/%Y %H:%M')\n",
    "\n",
    "# Format the date time object as a string\n",
    "rentals_df['Startdate'] = rentals_df['Starttime_dt'].dt.strftime('%m/%d/%Y')\n",
    "\n",
    "rentals_df.head()"
   ]
  },
  {
   "cell_type": "markdown",
   "metadata": {},
   "source": [
    "Our data frame is getting a bit crowded. For the purposes of the rest of this analysis, we don't need all of these columns. \n",
    "\n",
    "Let's drop a few of the columns we used in calculations and no longer need."
   ]
  },
  {
   "cell_type": "code",
   "execution_count": null,
   "metadata": {
    "collapsed": true
   },
   "outputs": [],
   "source": [
    "rentals_df.drop(['Trip id', 'Bikeid', 'Starttime', 'Stoptime', 'Tripduration', 'From station id', 'To station id'], \\\n",
    "                axis=1, inplace=True)\n",
    "\n",
    "rentals_df.head()"
   ]
  },
  {
   "cell_type": "markdown",
   "metadata": {},
   "source": [
    "### 3. Aggregating data\n",
    "Here, we will see how to group data in preparation for plotting."
   ]
  },
  {
   "cell_type": "markdown",
   "metadata": {},
   "source": [
    "First, we want to filter the data so that we are only working with rides that occurred in June of 2017.\n",
    "\n",
    "The syntax to make this happens leverages the date time object we created earlier. To break down what's happening here, first we're identifying which date time objects are greater than 2017-06-01 (which is technically June 1st at 00:00:00) using this snippet `rentals_df['Starttime_dt'] > '2017-06-01'`. This creates a boolean value (True/False) for each record, which is then used to select each record, which is stored as a new data frame called `june_rides`."
   ]
  },
  {
   "cell_type": "code",
   "execution_count": null,
   "metadata": {
    "collapsed": true,
    "scrolled": true
   },
   "outputs": [],
   "source": [
    "june_rides = rentals_df[rentals_df['Starttime_dt'] > '2017-06-01']\n",
    "june_rides.head()"
   ]
  },
  {
   "cell_type": "markdown",
   "metadata": {},
   "source": [
    "Because we would like to create a histogram that visualizes the count of rides per day, we select the `Starttime_dt` column from our `june_rides` data frame. Now we have a data frame with a listing of all of the individual date time objects that represent the start time of each ride in June of 2017."
   ]
  },
  {
   "cell_type": "code",
   "execution_count": null,
   "metadata": {
    "collapsed": true
   },
   "outputs": [],
   "source": [
    "june_start_dates = june_rides[['Starttime_dt']]\n",
    "june_start_dates.head()"
   ]
  },
  {
   "cell_type": "markdown",
   "metadata": {},
   "source": [
    "In order to get a count of the number of rides that occurred on each day, we use the combination of a `.groupby()` and `.count()` functions. Let's break it down by individual pieces.\n",
    "\n",
    "First, the snippet \n",
    "```python\n",
    "june_start_dates['Starttime_dt'].dt.date\n",
    "``` \n",
    "parses the date (e.g. 2017-06-01) from the date time object (e.g. 2017-06-01 01:11:00) in the `Starttime_dt` column. This is the value that we will be using to `.groupby()`.\n",
    "\n",
    "Then, the `.count()` will count up all occurrences of the previously calculated values, which will be stored in the `count_of_rides` data frame."
   ]
  },
  {
   "cell_type": "code",
   "execution_count": null,
   "metadata": {
    "collapsed": true,
    "scrolled": false
   },
   "outputs": [],
   "source": [
    "count_of_rides = june_start_dates.groupby(june_start_dates['Starttime_dt'].dt.date).count()\n",
    "count_of_rides.head()"
   ]
  },
  {
   "cell_type": "code",
   "execution_count": null,
   "metadata": {
    "collapsed": true
   },
   "outputs": [],
   "source": [
    "june_start_dates['Starttime_dt'].dt.dayofweek"
   ]
  },
  {
   "cell_type": "markdown",
   "metadata": {},
   "source": [
    "### 4. Plotting data\n",
    "Here, we will see how to plot our prepared data as a histogram."
   ]
  },
  {
   "cell_type": "markdown",
   "metadata": {},
   "source": [
    "First, we tell Python that we want to see the plot `inline` by using the magic `%matplotlib inline`."
   ]
  },
  {
   "cell_type": "code",
   "execution_count": null,
   "metadata": {
    "collapsed": true
   },
   "outputs": [],
   "source": [
    "%matplotlib inline\n",
    "import matplotlib.pyplot as plt"
   ]
  },
  {
   "cell_type": "markdown",
   "metadata": {},
   "source": [
    "We update the index of the `count_of_rides` data frame. Then, by using our aggregated data frame, we simply call the `.plot()` function with the `kind=bar` parameter to visualize the count of rides per date in June of 2017."
   ]
  },
  {
   "cell_type": "code",
   "execution_count": null,
   "metadata": {
    "collapsed": true
   },
   "outputs": [],
   "source": [
    "count_of_rides.index.name = 'Ride Start Date'\n",
    "\n",
    "count_of_rides.plot(kind=\"bar\", title='Frequency of Healthy Rides (June 2017)',figsize=(15,4))"
   ]
  },
  {
   "cell_type": "markdown",
   "metadata": {},
   "source": [
    "### Try it yourself\n",
    "We want to figure out what the most popular rides are from Q2 of 2017.\n",
    "\n",
    "Also, we want to focus on rides which start & stop at ***different*** stations.\n",
    "\n",
    "Lastly, we are only interested in rides that occurred more than 100 times.\n",
    "\n",
    "*Hint: One solution leverages the* `.groupby()` *function, the* `.size()` *function, the* `.reset_index()` *function and some tricky filtering techniques.*\n",
    "\n",
    "**BONUS:** Plot a histogram of each unique from station name in the resulting data frame, with a sum of all originating rides from each station.\n",
    "\n",
    "*Hint: One solution again leverages the* `.groupby()` *function and the* `.sum()` *function.*\n",
    "\n",
    "Look at the \"solution.png\" file in this repository to check your result."
   ]
  },
  {
   "cell_type": "code",
   "execution_count": null,
   "metadata": {
    "collapsed": true
   },
   "outputs": [],
   "source": [
    "diff_station_rides=rentals_df[rentals_df['From station name']!=rentals_df['To station name']]\n",
    "diff_station_rides.head()"
   ]
  },
  {
   "cell_type": "code",
   "execution_count": null,
   "metadata": {
    "collapsed": true
   },
   "outputs": [],
   "source": [
    "diff_station_rides.shape"
   ]
  },
  {
   "cell_type": "code",
   "execution_count": null,
   "metadata": {
    "collapsed": true,
    "scrolled": true
   },
   "outputs": [],
   "source": [
    "morethan100_rides=diff_station_rides.groupby(['From station name', 'To station name']).count()\n",
    "morethan100_rides=morethan100_rides.drop(['Tripduration_mins','Starttime_dt','Startdate'],axis=1)\n",
    "morethan100_rides.columns=['Ride counts']\n",
    "morethan100_rides=morethan100_rides[morethan100_rides['Ride counts']>100]\n",
    "morethan100_rides.head(15)"
   ]
  },
  {
   "cell_type": "code",
   "execution_count": null,
   "metadata": {
    "collapsed": true
   },
   "outputs": [],
   "source": [
    "aggregated_rides=morethan100_rides.groupby(['From station name'])['Ride counts'].sum()\n",
    "aggregated_rides.head()"
   ]
  },
  {
   "cell_type": "code",
   "execution_count": null,
   "metadata": {
    "collapsed": true
   },
   "outputs": [],
   "source": [
    "aggregated_rides.plot(kind='bar',figsize=(12,4))"
   ]
  },
  {
   "cell_type": "markdown",
   "metadata": {
    "collapsed": true
   },
   "source": [
    "### We are trying to use the &lt;BikeID, TripDuration&gt; data to calculate a probability distribution of bike usage in the city, by bike"
   ]
  },
  {
   "cell_type": "code",
   "execution_count": null,
   "metadata": {
    "collapsed": true
   },
   "outputs": [],
   "source": [
    "import scipy.stats.kde as sckde\n",
    "from scipy.stats.kde import gaussian_kde"
   ]
  },
  {
   "cell_type": "code",
   "execution_count": null,
   "metadata": {
    "collapsed": true
   },
   "outputs": [],
   "source": [
    "from skimage.measure import shannon_entropy\n",
    "import scipy as sc\n",
    "from scipy.interpolate import UnivariateSpline"
   ]
  },
  {
   "cell_type": "code",
   "execution_count": null,
   "metadata": {
    "collapsed": true
   },
   "outputs": [],
   "source": [
    "import seaborn as sns\n",
    "sns.set(color_codes=True)"
   ]
  },
  {
   "cell_type": "code",
   "execution_count": null,
   "metadata": {
    "collapsed": true
   },
   "outputs": [],
   "source": [
    "# Entropy of Pandas series\n",
    "def ent(data):\n",
    "    \"\"\"\n",
    "    Function that computes the entropy of a Pandas series.\n",
    "    \"\"\"\n",
    "    if isinstance(data, np.ndarray):\n",
    "        _, counts = np.unique(data, return_counts=True)\n",
    "    else:\n",
    "        counts = data.value_counts()\n",
    "    p_data= counts/len(data) # calculates the probabilities\n",
    "    entropy=sc.stats.entropy(p_data,base=2)  # input probabilities to get the entropy \n",
    "    return entropy"
   ]
  },
  {
   "cell_type": "code",
   "execution_count": null,
   "metadata": {
    "collapsed": true
   },
   "outputs": [],
   "source": [
    "def display_distribution(data, title_, axlabel_):\n",
    "    \"\"\"\n",
    "    Function that takes a Pandas series containing values drawn from a distribution \n",
    "    and plots the probability distribution and rug plot\n",
    "    \"\"\"\n",
    "    plt.figure(figsize=(15,6))\n",
    "    ax=sns.distplot(data, hist=True, rug=True, kde=True, axlabel=axlabel_, \\\n",
    "                 kde_kws={\"color\": \"r\", \"lw\": 3, \"label\": \"KDE\"}, \\\n",
    "                 hist_kws={\"histtype\": \"step\", \"linewidth\": 1, \\\n",
    "                           \"alpha\": 1, \"color\": \"g\", \"label\": \"Histogram\"})\n",
    "    plt.title(title_)\n",
    "    plt.ylabel('Counts')\n",
    "\n",
    "    ax2=ax.twinx()\n",
    "\n",
    "    # Switch so count axis is on right, frequency on left\n",
    "    ax2.yaxis.tick_left()\n",
    "    ax.yaxis.tick_right()\n",
    "    # Also switch the labels over\n",
    "    ax.yaxis.set_label_position('right')\n",
    "    ax2.yaxis.set_label_position('left')\n",
    "\n",
    "    ax2.set_ylabel('Probability')\n",
    "    \n",
    "    summary_text=\"mean=\"+str(np.mean(data))+\"\\nsigma=\"+str(np.std(data))\n",
    "    plt.figtext(0.2,0.8,summary_text)"
   ]
  },
  {
   "cell_type": "code",
   "execution_count": 20,
   "metadata": {
    "collapsed": true
   },
   "outputs": [],
   "source": [
    "rentals_df = pd.read_csv('rentals.csv', encoding='latin-1')"
   ]
  },
  {
   "cell_type": "code",
   "execution_count": null,
   "metadata": {
    "collapsed": true
   },
   "outputs": [],
   "source": [
    "rentals_df.drop(['Trip id', 'Starttime', 'Stoptime', 'From station id', 'To station id', 'From station name', \\\n",
    "                 'To station name', 'Usertype'], axis=1, inplace=True)"
   ]
  },
  {
   "cell_type": "code",
   "execution_count": 30,
   "metadata": {},
   "outputs": [
    {
     "data": {
      "text/html": [
       "<div>\n",
       "<style>\n",
       "    .dataframe thead tr:only-child th {\n",
       "        text-align: right;\n",
       "    }\n",
       "\n",
       "    .dataframe thead th {\n",
       "        text-align: left;\n",
       "    }\n",
       "\n",
       "    .dataframe tbody tr th {\n",
       "        vertical-align: top;\n",
       "    }\n",
       "</style>\n",
       "<table border=\"1\" class=\"dataframe\">\n",
       "  <thead>\n",
       "    <tr style=\"text-align: right;\">\n",
       "      <th></th>\n",
       "      <th>Trip id</th>\n",
       "      <th>Starttime</th>\n",
       "      <th>Stoptime</th>\n",
       "      <th>Bikeid</th>\n",
       "      <th>Tripduration</th>\n",
       "      <th>From station id</th>\n",
       "      <th>From station name</th>\n",
       "      <th>To station id</th>\n",
       "      <th>To station name</th>\n",
       "      <th>Usertype</th>\n",
       "    </tr>\n",
       "  </thead>\n",
       "  <tbody>\n",
       "    <tr>\n",
       "      <th>0</th>\n",
       "      <td>27193394</td>\n",
       "      <td>4/1/2017 0:59</td>\n",
       "      <td>4/1/2017 1:43</td>\n",
       "      <td>70024</td>\n",
       "      <td>2659</td>\n",
       "      <td>1012</td>\n",
       "      <td>North Shore Trail &amp; Fort Duquesne Bridge</td>\n",
       "      <td>1045</td>\n",
       "      <td>S 27th St &amp; Sidney St. (Southside Works)</td>\n",
       "      <td>Customer</td>\n",
       "    </tr>\n",
       "    <tr>\n",
       "      <th>1</th>\n",
       "      <td>27193815</td>\n",
       "      <td>4/1/2017 1:43</td>\n",
       "      <td>4/1/2017 1:48</td>\n",
       "      <td>70353</td>\n",
       "      <td>284</td>\n",
       "      <td>1037</td>\n",
       "      <td>Frew St &amp; Schenley Dr</td>\n",
       "      <td>1038</td>\n",
       "      <td>Boulevard of the Allies &amp; Parkview Ave</td>\n",
       "      <td>Subscriber</td>\n",
       "    </tr>\n",
       "    <tr>\n",
       "      <th>2</th>\n",
       "      <td>27194749</td>\n",
       "      <td>4/1/2017 2:35</td>\n",
       "      <td>4/1/2017 3:01</td>\n",
       "      <td>70067</td>\n",
       "      <td>1576</td>\n",
       "      <td>1010</td>\n",
       "      <td>10th St &amp; Penn Ave (David L. Lawrence Conventi...</td>\n",
       "      <td>1010</td>\n",
       "      <td>10th St &amp; Penn Ave (David L. Lawrence Conventi...</td>\n",
       "      <td>Customer</td>\n",
       "    </tr>\n",
       "    <tr>\n",
       "      <th>3</th>\n",
       "      <td>27201194</td>\n",
       "      <td>4/1/2017 5:05</td>\n",
       "      <td>4/1/2017 7:46</td>\n",
       "      <td>70191</td>\n",
       "      <td>9695</td>\n",
       "      <td>1005</td>\n",
       "      <td>Forbes Ave &amp; Grant St</td>\n",
       "      <td>1043</td>\n",
       "      <td>Coltart Ave &amp; Forbes Ave</td>\n",
       "      <td>Customer</td>\n",
       "    </tr>\n",
       "    <tr>\n",
       "      <th>4</th>\n",
       "      <td>27203670</td>\n",
       "      <td>4/1/2017 5:35</td>\n",
       "      <td>4/1/2017 5:54</td>\n",
       "      <td>70353</td>\n",
       "      <td>1164</td>\n",
       "      <td>1038</td>\n",
       "      <td>Boulevard of the Allies &amp; Parkview Ave</td>\n",
       "      <td>1047</td>\n",
       "      <td>S 22nd St &amp; E Carson St</td>\n",
       "      <td>Subscriber</td>\n",
       "    </tr>\n",
       "  </tbody>\n",
       "</table>\n",
       "</div>"
      ],
      "text/plain": [
       "    Trip id      Starttime       Stoptime  Bikeid  Tripduration  \\\n",
       "0  27193394  4/1/2017 0:59  4/1/2017 1:43   70024          2659   \n",
       "1  27193815  4/1/2017 1:43  4/1/2017 1:48   70353           284   \n",
       "2  27194749  4/1/2017 2:35  4/1/2017 3:01   70067          1576   \n",
       "3  27201194  4/1/2017 5:05  4/1/2017 7:46   70191          9695   \n",
       "4  27203670  4/1/2017 5:35  4/1/2017 5:54   70353          1164   \n",
       "\n",
       "   From station id                                  From station name  \\\n",
       "0             1012           North Shore Trail & Fort Duquesne Bridge   \n",
       "1             1037                              Frew St & Schenley Dr   \n",
       "2             1010  10th St & Penn Ave (David L. Lawrence Conventi...   \n",
       "3             1005                              Forbes Ave & Grant St   \n",
       "4             1038             Boulevard of the Allies & Parkview Ave   \n",
       "\n",
       "   To station id                                    To station name  \\\n",
       "0           1045           S 27th St & Sidney St. (Southside Works)   \n",
       "1           1038             Boulevard of the Allies & Parkview Ave   \n",
       "2           1010  10th St & Penn Ave (David L. Lawrence Conventi...   \n",
       "3           1043                           Coltart Ave & Forbes Ave   \n",
       "4           1047                            S 22nd St & E Carson St   \n",
       "\n",
       "     Usertype  \n",
       "0    Customer  \n",
       "1  Subscriber  \n",
       "2    Customer  \n",
       "3    Customer  \n",
       "4  Subscriber  "
      ]
     },
     "execution_count": 30,
     "metadata": {},
     "output_type": "execute_result"
    }
   ],
   "source": [
    "rentals_df.head()"
   ]
  },
  {
   "cell_type": "code",
   "execution_count": null,
   "metadata": {
    "collapsed": true
   },
   "outputs": [],
   "source": [
    "grouped_bikes=rentals_df.groupby(['Bikeid']).sum()\n",
    "grouped_bikes=grouped_bikes.rename(columns={'Tripduration':'TripDurationPerBike'})\n",
    "grouped_bikes['RentalCountPerBike']=rentals_df.groupby(['Bikeid']).count()"
   ]
  },
  {
   "cell_type": "code",
   "execution_count": null,
   "metadata": {
    "collapsed": true,
    "scrolled": true
   },
   "outputs": [],
   "source": [
    "grouped_bikes.head()"
   ]
  },
  {
   "cell_type": "code",
   "execution_count": null,
   "metadata": {
    "collapsed": true
   },
   "outputs": [],
   "source": [
    "num_unique_bikes=rentals_df['Bikeid'].unique().shape[0]"
   ]
  },
  {
   "cell_type": "code",
   "execution_count": null,
   "metadata": {
    "collapsed": true,
    "scrolled": true
   },
   "outputs": [],
   "source": [
    "grouped_bikes.sort_values('TripDurationPerBike',ascending=[False])"
   ]
  },
  {
   "cell_type": "code",
   "execution_count": null,
   "metadata": {
    "collapsed": true
   },
   "outputs": [],
   "source": [
    "p, x = np.histogram(grouped_bikes['TripDurationPerBike'], bins=num_unique_bikes//10)"
   ]
  },
  {
   "cell_type": "markdown",
   "metadata": {},
   "source": [
    "### Plot the probaboility distributions"
   ]
  },
  {
   "cell_type": "code",
   "execution_count": null,
   "metadata": {
    "collapsed": true
   },
   "outputs": [],
   "source": [
    "x = x[:-1] + (x[1] - x[0])/2   # convert bin edges to centers\n",
    "f = UnivariateSpline(x, p, s=num_unique_bikes//10)\n",
    "plt.plot(x, f(x))\n",
    "plt.show()"
   ]
  },
  {
   "cell_type": "code",
   "execution_count": null,
   "metadata": {
    "collapsed": true,
    "scrolled": true
   },
   "outputs": [],
   "source": [
    "display_distribution(grouped_bikes['TripDurationPerBike'], \\\n",
    "                     title_=\"Probability Distribution of Trip Duration in Q3\", \\\n",
    "                     axlabel_=\"Trip Duration in s\")"
   ]
  },
  {
   "cell_type": "code",
   "execution_count": null,
   "metadata": {
    "collapsed": true
   },
   "outputs": [],
   "source": [
    "display_distribution(grouped_bikes['RentalCountPerBike'], \\\n",
    "                     title_=\"Probability Distribution of Rental Counts in Q3\", \\\n",
    "                     axlabel_=\"Rental Counts\")"
   ]
  },
  {
   "cell_type": "code",
   "execution_count": null,
   "metadata": {
    "collapsed": true
   },
   "outputs": [],
   "source": [
    "## From here forward is the work that we did on 09/1/2017."
   ]
  },
  {
   "cell_type": "code",
   "execution_count": null,
   "metadata": {
    "collapsed": true
   },
   "outputs": [],
   "source": [
    "# from boundingbox.klokantech.com, the coordinates of the Pittsburgh bikeshare space:\n",
    "# With the DublinCore format: westlimit=-80.015745; southlimit=40.414999; \n",
    "#     eastlimit=-79.910774; northlimit=40.465952\n",
    "# With the GEOJSON format: [[[-80.015745163,40.4149990887],[-79.910774231,40.4149990887],\n",
    "#     [-79.910774231,40.4659518383],[-80.015745163,40.4659518383],[-80.015745163,40.4149990887]]]"
   ]
  },
  {
   "cell_type": "code",
   "execution_count": 8,
   "metadata": {
    "collapsed": true
   },
   "outputs": [],
   "source": [
    "pgh_w=-80.015745\n",
    "pgh_s=40.414999\n",
    "pgh_e=-79.910774\n",
    "pgh_n=40.465952\n",
    "pgh_midx=(pgh_e+pgh_w)/2\n",
    "pgh_midy=(pgh_n+pgh_s)/2"
   ]
  },
  {
   "cell_type": "code",
   "execution_count": null,
   "metadata": {
    "collapsed": true
   },
   "outputs": [],
   "source": [
    "# DID NOT WORK: First method- use Matplotlib Basemap to generate the map directly"
   ]
  },
  {
   "cell_type": "code",
   "execution_count": 1,
   "metadata": {
    "collapsed": true
   },
   "outputs": [],
   "source": [
    "import matplotlib.pyplot as plt\n",
    "%matplotlib inline\n",
    "import matplotlib.cm\n",
    " \n",
    "#import mpl_toolkits\n",
    "from mpl_toolkits.basemap import Basemap\n",
    "from matplotlib.patches import Polygon\n",
    "from matplotlib.collections import PatchCollection\n",
    "from matplotlib.colors import Normalize"
   ]
  },
  {
   "cell_type": "code",
   "execution_count": 15,
   "metadata": {
    "collapsed": true
   },
   "outputs": [],
   "source": [
    "m = Basemap(resolution='c', # c, l, i, h, f or None\n",
    "            projection='merc', area_thresh = 0.1,\n",
    "            lat_0=pgh_midy, lon_0=pgh_midx,\n",
    "            llcrnrlon=pgh_w, llcrnrlat=pgh_s, urcrnrlon=pgh_e, urcrnrlat=pgh_n)"
   ]
  },
  {
   "cell_type": "code",
   "execution_count": 16,
   "metadata": {},
   "outputs": [
    {
     "data": {
      "image/png": "[encoded data removed]",
      "text/plain": [
       "<matplotlib.figure.Figure at 0x117520950>"
      ]
     },
     "metadata": {},
     "output_type": "display_data"
    }
   ],
   "source": [
    "m.drawmapboundary(fill_color='#46bcec')\n",
    "m.fillcontinents(color='#f2f2f2',lake_color='#46bcec')\n",
    "m.drawcoastlines()\n",
    "\n",
    "#m.drawcoastlines()\n",
    "#m.drawcountries()\n",
    "#m.fillcontinents(color = 'coral')\n",
    "#m.drawmapboundary()\n",
    " \n",
    "lon = -135.3318\n",
    "lat = 57.0799\n",
    "x,y = m(pgh_midy, pgh_midx)\n",
    "m.plot(x, y, 'bo', markersize=24)\n",
    " \n",
    "plt.show()"
   ]
  },
  {
   "cell_type": "code",
   "execution_count": null,
   "metadata": {
    "collapsed": true
   },
   "outputs": [],
   "source": [
    "# DID WORK: Second method- use the Google maps API to access the lat/long coordinates for Pittsburgh\n",
    "# Read Station data, setup Google Maps and call API with center of map as a parameter.\n",
    "# Examine output in the .html file."
   ]
  },
  {
   "cell_type": "code",
   "execution_count": 2,
   "metadata": {
    "collapsed": true
   },
   "outputs": [],
   "source": [
    "station_df = pd.read_csv('stations.csv', encoding='latin-1')"
   ]
  },
  {
   "cell_type": "code",
   "execution_count": 3,
   "metadata": {},
   "outputs": [
    {
     "data": {
      "text/html": [
       "<div>\n",
       "<style>\n",
       "    .dataframe thead tr:only-child th {\n",
       "        text-align: right;\n",
       "    }\n",
       "\n",
       "    .dataframe thead th {\n",
       "        text-align: left;\n",
       "    }\n",
       "\n",
       "    .dataframe tbody tr th {\n",
       "        vertical-align: top;\n",
       "    }\n",
       "</style>\n",
       "<table border=\"1\" class=\"dataframe\">\n",
       "  <thead>\n",
       "    <tr style=\"text-align: right;\">\n",
       "      <th></th>\n",
       "      <th>Station #</th>\n",
       "      <th>Station Name</th>\n",
       "      <th># of Racks</th>\n",
       "      <th>Latitude</th>\n",
       "      <th>Longitude</th>\n",
       "    </tr>\n",
       "  </thead>\n",
       "  <tbody>\n",
       "    <tr>\n",
       "      <th>0</th>\n",
       "      <td>1000</td>\n",
       "      <td>Liberty Ave &amp; Stanwix St</td>\n",
       "      <td>16</td>\n",
       "      <td>40.441326</td>\n",
       "      <td>-80.004679</td>\n",
       "    </tr>\n",
       "    <tr>\n",
       "      <th>1</th>\n",
       "      <td>1001</td>\n",
       "      <td>Forbes Ave &amp; Market Square</td>\n",
       "      <td>19</td>\n",
       "      <td>40.440877</td>\n",
       "      <td>-80.003080</td>\n",
       "    </tr>\n",
       "    <tr>\n",
       "      <th>2</th>\n",
       "      <td>1002</td>\n",
       "      <td>Third Ave &amp; Wood St</td>\n",
       "      <td>15</td>\n",
       "      <td>40.439030</td>\n",
       "      <td>-80.001860</td>\n",
       "    </tr>\n",
       "    <tr>\n",
       "      <th>3</th>\n",
       "      <td>1003</td>\n",
       "      <td>First Ave &amp; Smithfield St (Art Institute)</td>\n",
       "      <td>15</td>\n",
       "      <td>40.437200</td>\n",
       "      <td>-80.000375</td>\n",
       "    </tr>\n",
       "    <tr>\n",
       "      <th>4</th>\n",
       "      <td>1004</td>\n",
       "      <td>First Ave &amp; B St (T Station)</td>\n",
       "      <td>15</td>\n",
       "      <td>40.435887</td>\n",
       "      <td>-79.997102</td>\n",
       "    </tr>\n",
       "  </tbody>\n",
       "</table>\n",
       "</div>"
      ],
      "text/plain": [
       "   Station #                               Station Name  # of Racks  \\\n",
       "0       1000                   Liberty Ave & Stanwix St          16   \n",
       "1       1001                 Forbes Ave & Market Square          19   \n",
       "2       1002                        Third Ave & Wood St          15   \n",
       "3       1003  First Ave & Smithfield St (Art Institute)          15   \n",
       "4       1004               First Ave & B St (T Station)          15   \n",
       "\n",
       "    Latitude  Longitude  \n",
       "0  40.441326 -80.004679  \n",
       "1  40.440877 -80.003080  \n",
       "2  40.439030 -80.001860  \n",
       "3  40.437200 -80.000375  \n",
       "4  40.435887 -79.997102  "
      ]
     },
     "execution_count": 3,
     "metadata": {},
     "output_type": "execute_result"
    }
   ],
   "source": [
    "station_df.head()"
   ]
  },
  {
   "cell_type": "code",
   "execution_count": 14,
   "metadata": {
    "collapsed": true
   },
   "outputs": [],
   "source": [
    "lats=station_df['Latitude']\n",
    "longs=station_df['Longitude']"
   ]
  },
  {
   "cell_type": "code",
   "execution_count": 29,
   "metadata": {},
   "outputs": [],
   "source": [
    "import gmplot\n",
    "\n",
    "#gmap = gmplot.GoogleMapPlotter(37.428, -122.145, 16)\n",
    "gmap = gmplot.GoogleMapPlotter(pgh_midy, pgh_midx, 13)\n",
    "#gmap = gmplot.from_geocode(\"Pittsburgh\")\n",
    "\n",
    "gmap.scatter(lats, longs, 'cornflowerblue', edge_width=10)\n",
    "gmap.scatter(lats, longs, 'red', size=40, marker=False) # other color values: #3B0B39\n",
    "gmap.heatmap(lats, longs, threshold=20, radius=20, gradient=[(30,30,30,0), (30,30,30,1), (50, 50, 50, 1)])\n",
    "#gmap.heatmap(lats, longs, threshold=10, radius=10, dissipating=False, \\\n",
    "#              gradient=[(30,30,30,0), (30,30,30,1), (50, 50, 50, 1)])\n",
    "#gmap.scatter(marker_lats, marker_lngs, 'k', marker=True)\n",
    "#gmap.heatmap(heat_lats, heat_lngs)\n",
    "\n",
    "gmap.draw(\"mymap.html\")"
   ]
  },
  {
   "cell_type": "code",
   "execution_count": 16,
   "metadata": {},
   "outputs": [
    {
     "data": {
      "text/plain": [
       "(52, 5)"
      ]
     },
     "execution_count": 16,
     "metadata": {},
     "output_type": "execute_result"
    }
   ],
   "source": [
    "station_df.shape"
   ]
  },
  {
   "cell_type": "code",
   "execution_count": null,
   "metadata": {
    "collapsed": true
   },
   "outputs": [],
   "source": [
    "# is there a way to display the HTML \"inline\"? Some sample code from stackexchange"
   ]
  },
  {
   "cell_type": "code",
   "execution_count": 11,
   "metadata": {},
   "outputs": [
    {
     "data": {
      "text/html": [
       "<html>\n",
       "<head>\n",
       "<meta name=\"viewport\" content=\"initial-scale=1.0, user-scalable=no\" />\n",
       "<meta http-equiv=\"content-type\" content=\"text/html; charset=UTF-8\"/>\n",
       "<title>Google Maps - pygmaps </title>\n",
       "<script type=\"text/javascript\" src=\"https://maps.googleapis.com/maps/api/js?libraries=visualization&sensor=true_or_false\"></script>\n",
       "<script type=\"text/javascript\">\n",
       "\tfunction initialize() {\n",
       "\t\tvar centerlatlng = new google.maps.LatLng(40.440476, -79.963259);\n",
       "\t\tvar myOptions = {\n",
       "\t\t\tzoom: 13,\n",
       "\t\t\tcenter: centerlatlng,\n",
       "\t\t\tmapTypeId: google.maps.MapTypeId.ROADMAP\n",
       "\t\t};\n",
       "\t\tvar map = new google.maps.Map(document.getElementById(\"map_canvas\"), myOptions);\n",
       "\n",
       "\t\tvar latlng = new google.maps.LatLng(40.441326, -80.004679);\n",
       "\t\tvar img = new google.maps.MarkerImage('E:\\UserData\\Raj\\Anaconda2\\envs\\tensorflow\\lib\\site-packages\\gmplot\\markers/6495ED.png');\n",
       "\t\tvar marker = new google.maps.Marker({\n",
       "\t\ttitle: \"no implementation\",\n",
       "\t\ticon: img,\n",
       "\t\tposition: latlng\n",
       "\t\t});\n",
       "\t\tmarker.setMap(map);\n",
       "\n",
       "\t\tvar latlng = new google.maps.LatLng(40.440877, -80.003080);\n",
       "\t\tvar img = new google.maps.MarkerImage('E:\\UserData\\Raj\\Anaconda2\\envs\\tensorflow\\lib\\site-packages\\gmplot\\markers/6495ED.png');\n",
       "\t\tvar marker = new google.maps.Marker({\n",
       "\t\ttitle: \"no implementation\",\n",
       "\t\ticon: img,\n",
       "\t\tposition: latlng\n",
       "\t\t});\n",
       "\t\tmarker.setMap(map);\n",
       "\n",
       "\t\tvar latlng = new google.maps.LatLng(40.439030, -80.001860);\n",
       "\t\tvar img = new google.maps.MarkerImage('E:\\UserData\\Raj\\Anaconda2\\envs\\tensorflow\\lib\\site-packages\\gmplot\\markers/6495ED.png');\n",
       "\t\tvar marker = new google.maps.Marker({\n",
       "\t\ttitle: \"no implementation\",\n",
       "\t\ticon: img,\n",
       "\t\tposition: latlng\n",
       "\t\t});\n",
       "\t\tmarker.setMap(map);\n",
       "\n",
       "\t\tvar latlng = new google.maps.LatLng(40.437200, -80.000375);\n",
       "\t\tvar img = new google.maps.MarkerImage('E:\\UserData\\Raj\\Anaconda2\\envs\\tensorflow\\lib\\site-packages\\gmplot\\markers/6495ED.png');\n",
       "\t\tvar marker = new google.maps.Marker({\n",
       "\t\ttitle: \"no implementation\",\n",
       "\t\ticon: img,\n",
       "\t\tposition: latlng\n",
       "\t\t});\n",
       "\t\tmarker.setMap(map);\n",
       "\n",
       "\t\tvar latlng = new google.maps.LatLng(40.435887, -79.997102);\n",
       "\t\tvar img = new google.maps.MarkerImage('E:\\UserData\\Raj\\Anaconda2\\envs\\tensorflow\\lib\\site-packages\\gmplot\\markers/6495ED.png');\n",
       "\t\tvar marker = new google.maps.Marker({\n",
       "\t\ttitle: \"no implementation\",\n",
       "\t\ticon: img,\n",
       "\t\tposition: latlng\n",
       "\t\t});\n",
       "\t\tmarker.setMap(map);\n",
       "\n",
       "\t\tvar latlng = new google.maps.LatLng(40.438882, -79.997592);\n",
       "\t\tvar img = new google.maps.MarkerImage('E:\\UserData\\Raj\\Anaconda2\\envs\\tensorflow\\lib\\site-packages\\gmplot\\markers/6495ED.png');\n",
       "\t\tvar marker = new google.maps.Marker({\n",
       "\t\ttitle: \"no implementation\",\n",
       "\t\ticon: img,\n",
       "\t\tposition: latlng\n",
       "\t\t});\n",
       "\t\tmarker.setMap(map);\n",
       "\n",
       "\t\tvar latlng = new google.maps.LatLng(40.440193, -79.995084);\n",
       "\t\tvar img = new google.maps.MarkerImage('E:\\UserData\\Raj\\Anaconda2\\envs\\tensorflow\\lib\\site-packages\\gmplot\\markers/6495ED.png');\n",
       "\t\tvar marker = new google.maps.Marker({\n",
       "\t\ttitle: \"no implementation\",\n",
       "\t\ticon: img,\n",
       "\t\tposition: latlng\n",
       "\t\t});\n",
       "\t\tmarker.setMap(map);\n",
       "\n",
       "\t\tvar latlng = new google.maps.LatLng(40.437643, -79.986695);\n",
       "\t\tvar img = new google.maps.MarkerImage('E:\\UserData\\Raj\\Anaconda2\\envs\\tensorflow\\lib\\site-packages\\gmplot\\markers/6495ED.png');\n",
       "\t\tvar marker = new google.maps.Marker({\n",
       "\t\ttitle: \"no implementation\",\n",
       "\t\ticon: img,\n",
       "\t\tposition: latlng\n",
       "\t\t});\n",
       "\t\tmarker.setMap(map);\n",
       "\n",
       "\t\tvar latlng = new google.maps.LatLng(40.440368, -79.988636);\n",
       "\t\tvar img = new google.maps.MarkerImage('E:\\UserData\\Raj\\Anaconda2\\envs\\tensorflow\\lib\\site-packages\\gmplot\\markers/6495ED.png');\n",
       "\t\tvar marker = new google.maps.Marker({\n",
       "\t\ttitle: \"no implementation\",\n",
       "\t\ticon: img,\n",
       "\t\tposition: latlng\n",
       "\t\t});\n",
       "\t\tmarker.setMap(map);\n",
       "\n",
       "\t\tvar latlng = new google.maps.LatLng(40.445844, -79.992380);\n",
       "\t\tvar img = new google.maps.MarkerImage('E:\\UserData\\Raj\\Anaconda2\\envs\\tensorflow\\lib\\site-packages\\gmplot\\markers/6495ED.png');\n",
       "\t\tvar marker = new google.maps.Marker({\n",
       "\t\ttitle: \"no implementation\",\n",
       "\t\ticon: img,\n",
       "\t\tposition: latlng\n",
       "\t\t});\n",
       "\t\tmarker.setMap(map);\n",
       "\n",
       "\t\tvar latlng = new google.maps.LatLng(40.444665, -79.995798);\n",
       "\t\tvar img = new google.maps.MarkerImage('E:\\UserData\\Raj\\Anaconda2\\envs\\tensorflow\\lib\\site-packages\\gmplot\\markers/6495ED.png');\n",
       "\t\tvar marker = new google.maps.Marker({\n",
       "\t\ttitle: \"no implementation\",\n",
       "\t\ticon: img,\n",
       "\t\tposition: latlng\n",
       "\t\t});\n",
       "\t\tmarker.setMap(map);\n",
       "\n",
       "\t\tvar latlng = new google.maps.LatLng(40.444777, -80.000831);\n",
       "\t\tvar img = new google.maps.MarkerImage('E:\\UserData\\Raj\\Anaconda2\\envs\\tensorflow\\lib\\site-packages\\gmplot\\markers/6495ED.png');\n",
       "\t\tvar marker = new google.maps.Marker({\n",
       "\t\ttitle: \"no implementation\",\n",
       "\t\ticon: img,\n",
       "\t\tposition: latlng\n",
       "\t\t});\n",
       "\t\tmarker.setMap(map);\n",
       "\n",
       "\t\tvar latlng = new google.maps.LatLng(40.445834, -80.008882);\n",
       "\t\tvar img = new google.maps.MarkerImage('E:\\UserData\\Raj\\Anaconda2\\envs\\tensorflow\\lib\\site-packages\\gmplot\\markers/6495ED.png');\n",
       "\t\tvar marker = new google.maps.Marker({\n",
       "\t\ttitle: \"no implementation\",\n",
       "\t\ticon: img,\n",
       "\t\tposition: latlng\n",
       "\t\t});\n",
       "\t\tmarker.setMap(map);\n",
       "\n",
       "\t\tvar latlng = new google.maps.LatLng(40.447166, -80.003566);\n",
       "\t\tvar img = new google.maps.MarkerImage('E:\\UserData\\Raj\\Anaconda2\\envs\\tensorflow\\lib\\site-packages\\gmplot\\markers/6495ED.png');\n",
       "\t\tvar marker = new google.maps.Marker({\n",
       "\t\ttitle: \"no implementation\",\n",
       "\t\ticon: img,\n",
       "\t\tposition: latlng\n",
       "\t\t});\n",
       "\t\tmarker.setMap(map);\n",
       "\n",
       "\t\tvar latlng = new google.maps.LatLng(40.450595, -80.013204);\n",
       "\t\tvar img = new google.maps.MarkerImage('E:\\UserData\\Raj\\Anaconda2\\envs\\tensorflow\\lib\\site-packages\\gmplot\\markers/6495ED.png');\n",
       "\t\tvar marker = new google.maps.Marker({\n",
       "\t\ttitle: \"no implementation\",\n",
       "\t\ticon: img,\n",
       "\t\tposition: latlng\n",
       "\t\t});\n",
       "\t\tmarker.setMap(map);\n",
       "\n",
       "\t\tvar latlng = new google.maps.LatLng(40.455091, -80.006347);\n",
       "\t\tvar img = new google.maps.MarkerImage('E:\\UserData\\Raj\\Anaconda2\\envs\\tensorflow\\lib\\site-packages\\gmplot\\markers/6495ED.png');\n",
       "\t\tvar marker = new google.maps.Marker({\n",
       "\t\ttitle: \"no implementation\",\n",
       "\t\ticon: img,\n",
       "\t\tposition: latlng\n",
       "\t\t});\n",
       "\t\tmarker.setMap(map);\n",
       "\n",
       "\t\tvar latlng = new google.maps.LatLng(40.449631, -79.985893);\n",
       "\t\tvar img = new google.maps.MarkerImage('E:\\UserData\\Raj\\Anaconda2\\envs\\tensorflow\\lib\\site-packages\\gmplot\\markers/6495ED.png');\n",
       "\t\tvar marker = new google.maps.Marker({\n",
       "\t\ttitle: \"no implementation\",\n",
       "\t\ticon: img,\n",
       "\t\tposition: latlng\n",
       "\t\t});\n",
       "\t\tmarker.setMap(map);\n",
       "\n",
       "\t\tvar latlng = new google.maps.LatLng(40.451742, -79.983217);\n",
       "\t\tvar img = new google.maps.MarkerImage('E:\\UserData\\Raj\\Anaconda2\\envs\\tensorflow\\lib\\site-packages\\gmplot\\markers/6495ED.png');\n",
       "\t\tvar marker = new google.maps.Marker({\n",
       "\t\ttitle: \"no implementation\",\n",
       "\t\ticon: img,\n",
       "\t\tposition: latlng\n",
       "\t\t});\n",
       "\t\tmarker.setMap(map);\n",
       "\n",
       "\t\tvar latlng = new google.maps.LatLng(40.466103, -79.964628);\n",
       "\t\tvar img = new google.maps.MarkerImage('E:\\UserData\\Raj\\Anaconda2\\envs\\tensorflow\\lib\\site-packages\\gmplot\\markers/6495ED.png');\n",
       "\t\tvar marker = new google.maps.Marker({\n",
       "\t\ttitle: \"no implementation\",\n",
       "\t\ticon: img,\n",
       "\t\tposition: latlng\n",
       "\t\t});\n",
       "\t\tmarker.setMap(map);\n",
       "\n",
       "\t\tvar latlng = new google.maps.LatLng(40.470212, -79.960663);\n",
       "\t\tvar img = new google.maps.MarkerImage('E:\\UserData\\Raj\\Anaconda2\\envs\\tensorflow\\lib\\site-packages\\gmplot\\markers/6495ED.png');\n",
       "\t\tvar marker = new google.maps.Marker({\n",
       "\t\ttitle: \"no implementation\",\n",
       "\t\ticon: img,\n",
       "\t\tposition: latlng\n",
       "\t\t});\n",
       "\t\tmarker.setMap(map);\n",
       "\n",
       "\t\tvar latlng = new google.maps.LatLng(40.465893, -79.954417);\n",
       "\t\tvar img = new google.maps.MarkerImage('E:\\UserData\\Raj\\Anaconda2\\envs\\tensorflow\\lib\\site-packages\\gmplot\\markers/6495ED.png');\n",
       "\t\tvar marker = new google.maps.Marker({\n",
       "\t\ttitle: \"no implementation\",\n",
       "\t\ticon: img,\n",
       "\t\tposition: latlng\n",
       "\t\t});\n",
       "\t\tmarker.setMap(map);\n",
       "\n",
       "\t\tvar latlng = new google.maps.LatLng(40.462769, -79.950867);\n",
       "\t\tvar img = new google.maps.MarkerImage('E:\\UserData\\Raj\\Anaconda2\\envs\\tensorflow\\lib\\site-packages\\gmplot\\markers/6495ED.png');\n",
       "\t\tvar marker = new google.maps.Marker({\n",
       "\t\ttitle: \"no implementation\",\n",
       "\t\ticon: img,\n",
       "\t\tposition: latlng\n",
       "\t\t});\n",
       "\t\tmarker.setMap(map);\n",
       "\n",
       "\t\tvar latlng = new google.maps.LatLng(40.459812, -79.945548);\n",
       "\t\tvar img = new google.maps.MarkerImage('E:\\UserData\\Raj\\Anaconda2\\envs\\tensorflow\\lib\\site-packages\\gmplot\\markers/6495ED.png');\n",
       "\t\tvar marker = new google.maps.Marker({\n",
       "\t\ttitle: \"no implementation\",\n",
       "\t\ticon: img,\n",
       "\t\tposition: latlng\n",
       "\t\t});\n",
       "\t\tmarker.setMap(map);\n",
       "\n",
       "\t\tvar latlng = new google.maps.LatLng(40.456505, -79.939362);\n",
       "\t\tvar img = new google.maps.MarkerImage('E:\\UserData\\Raj\\Anaconda2\\envs\\tensorflow\\lib\\site-packages\\gmplot\\markers/6495ED.png');\n",
       "\t\tvar marker = new google.maps.Marker({\n",
       "\t\ttitle: \"no implementation\",\n",
       "\t\ticon: img,\n",
       "\t\tposition: latlng\n",
       "\t\t});\n",
       "\t\tmarker.setMap(map);\n",
       "\n",
       "\t\tvar latlng = new google.maps.LatLng(40.458714, -79.933483);\n",
       "\t\tvar img = new google.maps.MarkerImage('E:\\UserData\\Raj\\Anaconda2\\envs\\tensorflow\\lib\\site-packages\\gmplot\\markers/6495ED.png');\n",
       "\t\tvar marker = new google.maps.Marker({\n",
       "\t\ttitle: \"no implementation\",\n",
       "\t\ticon: img,\n",
       "\t\tposition: latlng\n",
       "\t\t});\n",
       "\t\tmarker.setMap(map);\n",
       "\n",
       "\t\tvar latlng = new google.maps.LatLng(40.464443, -79.933188);\n",
       "\t\tvar img = new google.maps.MarkerImage('E:\\UserData\\Raj\\Anaconda2\\envs\\tensorflow\\lib\\site-packages\\gmplot\\markers/6495ED.png');\n",
       "\t\tvar marker = new google.maps.Marker({\n",
       "\t\ttitle: \"no implementation\",\n",
       "\t\ticon: img,\n",
       "\t\tposition: latlng\n",
       "\t\t});\n",
       "\t\tmarker.setMap(map);\n",
       "\n",
       "\t\tvar latlng = new google.maps.LatLng(40.461603, -79.925624);\n",
       "\t\tvar img = new google.maps.MarkerImage('E:\\UserData\\Raj\\Anaconda2\\envs\\tensorflow\\lib\\site-packages\\gmplot\\markers/6495ED.png');\n",
       "\t\tvar marker = new google.maps.Marker({\n",
       "\t\ttitle: \"no implementation\",\n",
       "\t\ticon: img,\n",
       "\t\tposition: latlng\n",
       "\t\t});\n",
       "\t\tmarker.setMap(map);\n",
       "\n",
       "\t\tvar latlng = new google.maps.LatLng(40.458972, -79.922023);\n",
       "\t\tvar img = new google.maps.MarkerImage('E:\\UserData\\Raj\\Anaconda2\\envs\\tensorflow\\lib\\site-packages\\gmplot\\markers/6495ED.png');\n",
       "\t\tvar marker = new google.maps.Marker({\n",
       "\t\ttitle: \"no implementation\",\n",
       "\t\ticon: img,\n",
       "\t\tposition: latlng\n",
       "\t\t});\n",
       "\t\tmarker.setMap(map);\n",
       "\n",
       "\t\tvar latlng = new google.maps.LatLng(40.455821, -79.915248);\n",
       "\t\tvar img = new google.maps.MarkerImage('E:\\UserData\\Raj\\Anaconda2\\envs\\tensorflow\\lib\\site-packages\\gmplot\\markers/6495ED.png');\n",
       "\t\tvar marker = new google.maps.Marker({\n",
       "\t\ttitle: \"no implementation\",\n",
       "\t\ticon: img,\n",
       "\t\tposition: latlng\n",
       "\t\t});\n",
       "\t\tmarker.setMap(map);\n",
       "\n",
       "\t\tvar latlng = new google.maps.LatLng(40.457415, -79.924920);\n",
       "\t\tvar img = new google.maps.MarkerImage('E:\\UserData\\Raj\\Anaconda2\\envs\\tensorflow\\lib\\site-packages\\gmplot\\markers/6495ED.png');\n",
       "\t\tvar marker = new google.maps.Marker({\n",
       "\t\ttitle: \"no implementation\",\n",
       "\t\ticon: img,\n",
       "\t\tposition: latlng\n",
       "\t\t});\n",
       "\t\tmarker.setMap(map);\n",
       "\n",
       "\t\tvar latlng = new google.maps.LatLng(40.458933, -79.929123);\n",
       "\t\tvar img = new google.maps.MarkerImage('E:\\UserData\\Raj\\Anaconda2\\envs\\tensorflow\\lib\\site-packages\\gmplot\\markers/6495ED.png');\n",
       "\t\tvar marker = new google.maps.Marker({\n",
       "\t\ttitle: \"no implementation\",\n",
       "\t\ticon: img,\n",
       "\t\tposition: latlng\n",
       "\t\t});\n",
       "\t\tmarker.setMap(map);\n",
       "\n",
       "\t\tvar latlng = new google.maps.LatLng(40.456280, -79.930962);\n",
       "\t\tvar img = new google.maps.MarkerImage('E:\\UserData\\Raj\\Anaconda2\\envs\\tensorflow\\lib\\site-packages\\gmplot\\markers/6495ED.png');\n",
       "\t\tvar marker = new google.maps.Marker({\n",
       "\t\ttitle: \"no implementation\",\n",
       "\t\ticon: img,\n",
       "\t\tposition: latlng\n",
       "\t\t});\n",
       "\t\tmarker.setMap(map);\n",
       "\n",
       "\t\tvar latlng = new google.maps.LatLng(40.453382, -79.927310);\n",
       "\t\tvar img = new google.maps.MarkerImage('E:\\UserData\\Raj\\Anaconda2\\envs\\tensorflow\\lib\\site-packages\\gmplot\\markers/6495ED.png');\n",
       "\t\tvar marker = new google.maps.Marker({\n",
       "\t\ttitle: \"no implementation\",\n",
       "\t\ticon: img,\n",
       "\t\tposition: latlng\n",
       "\t\t});\n",
       "\t\tmarker.setMap(map);\n",
       "\n",
       "\t\tvar latlng = new google.maps.LatLng(40.451770, -79.932324);\n",
       "\t\tvar img = new google.maps.MarkerImage('E:\\UserData\\Raj\\Anaconda2\\envs\\tensorflow\\lib\\site-packages\\gmplot\\markers/6495ED.png');\n",
       "\t\tvar marker = new google.maps.Marker({\n",
       "\t\ttitle: \"no implementation\",\n",
       "\t\ticon: img,\n",
       "\t\tposition: latlng\n",
       "\t\t});\n",
       "\t\tmarker.setMap(map);\n",
       "\n",
       "\t\tvar latlng = new google.maps.LatLng(40.448419, -79.947401);\n",
       "\t\tvar img = new google.maps.MarkerImage('E:\\UserData\\Raj\\Anaconda2\\envs\\tensorflow\\lib\\site-packages\\gmplot\\markers/6495ED.png');\n",
       "\t\tvar marker = new google.maps.Marker({\n",
       "\t\ttitle: \"no implementation\",\n",
       "\t\ticon: img,\n",
       "\t\tposition: latlng\n",
       "\t\t});\n",
       "\t\tmarker.setMap(map);\n",
       "\n",
       "\t\tvar latlng = new google.maps.LatLng(40.446744, -79.950881);\n",
       "\t\tvar img = new google.maps.MarkerImage('E:\\UserData\\Raj\\Anaconda2\\envs\\tensorflow\\lib\\site-packages\\gmplot\\markers/6495ED.png');\n",
       "\t\tvar marker = new google.maps.Marker({\n",
       "\t\ttitle: \"no implementation\",\n",
       "\t\ticon: img,\n",
       "\t\tposition: latlng\n",
       "\t\t});\n",
       "\t\tmarker.setMap(map);\n",
       "\n",
       "\t\tvar latlng = new google.maps.LatLng(40.442398, -79.951479);\n",
       "\t\tvar img = new google.maps.MarkerImage('E:\\UserData\\Raj\\Anaconda2\\envs\\tensorflow\\lib\\site-packages\\gmplot\\markers/6495ED.png');\n",
       "\t\tvar marker = new google.maps.Marker({\n",
       "\t\ttitle: \"no implementation\",\n",
       "\t\ticon: img,\n",
       "\t\tposition: latlng\n",
       "\t\t});\n",
       "\t\tmarker.setMap(map);\n",
       "\n",
       "\t\tvar latlng = new google.maps.LatLng(40.441032, -79.948042);\n",
       "\t\tvar img = new google.maps.MarkerImage('E:\\UserData\\Raj\\Anaconda2\\envs\\tensorflow\\lib\\site-packages\\gmplot\\markers/6495ED.png');\n",
       "\t\tvar marker = new google.maps.Marker({\n",
       "\t\ttitle: \"no implementation\",\n",
       "\t\ticon: img,\n",
       "\t\tposition: latlng\n",
       "\t\t});\n",
       "\t\tmarker.setMap(map);\n",
       "\n",
       "\t\tvar latlng = new google.maps.LatLng(40.434338, -79.951877);\n",
       "\t\tvar img = new google.maps.MarkerImage('E:\\UserData\\Raj\\Anaconda2\\envs\\tensorflow\\lib\\site-packages\\gmplot\\markers/6495ED.png');\n",
       "\t\tvar marker = new google.maps.Marker({\n",
       "\t\ttitle: \"no implementation\",\n",
       "\t\ticon: img,\n",
       "\t\tposition: latlng\n",
       "\t\t});\n",
       "\t\tmarker.setMap(map);\n",
       "\n",
       "\t\tvar latlng = new google.maps.LatLng(40.437987, -79.953670);\n",
       "\t\tvar img = new google.maps.MarkerImage('E:\\UserData\\Raj\\Anaconda2\\envs\\tensorflow\\lib\\site-packages\\gmplot\\markers/6495ED.png');\n",
       "\t\tvar marker = new google.maps.Marker({\n",
       "\t\ttitle: \"no implementation\",\n",
       "\t\ticon: img,\n",
       "\t\tposition: latlng\n",
       "\t\t});\n",
       "\t\tmarker.setMap(map);\n",
       "\n",
       "\t\tvar latlng = new google.maps.LatLng(40.445128, -79.957102);\n",
       "\t\tvar img = new google.maps.MarkerImage('E:\\UserData\\Raj\\Anaconda2\\envs\\tensorflow\\lib\\site-packages\\gmplot\\markers/6495ED.png');\n",
       "\t\tvar marker = new google.maps.Marker({\n",
       "\t\ttitle: \"no implementation\",\n",
       "\t\ticon: img,\n",
       "\t\tposition: latlng\n",
       "\t\t});\n",
       "\t\tmarker.setMap(map);\n",
       "\n",
       "\t\tvar latlng = new google.maps.LatLng(40.442325, -79.957604);\n",
       "\t\tvar img = new google.maps.MarkerImage('E:\\UserData\\Raj\\Anaconda2\\envs\\tensorflow\\lib\\site-packages\\gmplot\\markers/6495ED.png');\n",
       "\t\tvar marker = new google.maps.Marker({\n",
       "\t\ttitle: \"no implementation\",\n",
       "\t\ticon: img,\n",
       "\t\tposition: latlng\n",
       "\t\t});\n",
       "\t\tmarker.setMap(map);\n",
       "\n",
       "\t\tvar latlng = new google.maps.LatLng(40.445236, -79.976911);\n",
       "\t\tvar img = new google.maps.MarkerImage('E:\\UserData\\Raj\\Anaconda2\\envs\\tensorflow\\lib\\site-packages\\gmplot\\markers/6495ED.png');\n",
       "\t\tvar marker = new google.maps.Marker({\n",
       "\t\ttitle: \"no implementation\",\n",
       "\t\ticon: img,\n",
       "\t\tposition: latlng\n",
       "\t\t});\n",
       "\t\tmarker.setMap(map);\n",
       "\n",
       "\t\tvar latlng = new google.maps.LatLng(40.438876, -79.960179);\n",
       "\t\tvar img = new google.maps.MarkerImage('E:\\UserData\\Raj\\Anaconda2\\envs\\tensorflow\\lib\\site-packages\\gmplot\\markers/6495ED.png');\n",
       "\t\tvar marker = new google.maps.Marker({\n",
       "\t\ttitle: \"no implementation\",\n",
       "\t\ticon: img,\n",
       "\t\tposition: latlng\n",
       "\t\t});\n",
       "\t\tmarker.setMap(map);\n",
       "\n",
       "\t\tvar latlng = new google.maps.LatLng(40.435986, -79.956942);\n",
       "\t\tvar img = new google.maps.MarkerImage('E:\\UserData\\Raj\\Anaconda2\\envs\\tensorflow\\lib\\site-packages\\gmplot\\markers/6495ED.png');\n",
       "\t\tvar marker = new google.maps.Marker({\n",
       "\t\ttitle: \"no implementation\",\n",
       "\t\ticon: img,\n",
       "\t\tposition: latlng\n",
       "\t\t});\n",
       "\t\tmarker.setMap(map);\n",
       "\n",
       "\t\tvar latlng = new google.maps.LatLng(40.427899, -79.966112);\n",
       "\t\tvar img = new google.maps.MarkerImage('E:\\UserData\\Raj\\Anaconda2\\envs\\tensorflow\\lib\\site-packages\\gmplot\\markers/6495ED.png');\n",
       "\t\tvar marker = new google.maps.Marker({\n",
       "\t\ttitle: \"no implementation\",\n",
       "\t\ticon: img,\n",
       "\t\tposition: latlng\n",
       "\t\t});\n",
       "\t\tmarker.setMap(map);\n",
       "\n",
       "\t\tvar latlng = new google.maps.LatLng(40.428020, -79.969799);\n",
       "\t\tvar img = new google.maps.MarkerImage('E:\\UserData\\Raj\\Anaconda2\\envs\\tensorflow\\lib\\site-packages\\gmplot\\markers/6495ED.png');\n",
       "\t\tvar marker = new google.maps.Marker({\n",
       "\t\ttitle: \"no implementation\",\n",
       "\t\ticon: img,\n",
       "\t\tposition: latlng\n",
       "\t\t});\n",
       "\t\tmarker.setMap(map);\n",
       "\n",
       "\t\tvar latlng = new google.maps.LatLng(40.428576, -79.974559);\n",
       "\t\tvar img = new google.maps.MarkerImage('E:\\UserData\\Raj\\Anaconda2\\envs\\tensorflow\\lib\\site-packages\\gmplot\\markers/6495ED.png');\n",
       "\t\tvar marker = new google.maps.Marker({\n",
       "\t\ttitle: \"no implementation\",\n",
       "\t\ticon: img,\n",
       "\t\tposition: latlng\n",
       "\t\t});\n",
       "\t\tmarker.setMap(map);\n",
       "\n",
       "\t\tvar latlng = new google.maps.LatLng(40.429338, -79.980684);\n",
       "\t\tvar img = new google.maps.MarkerImage('E:\\UserData\\Raj\\Anaconda2\\envs\\tensorflow\\lib\\site-packages\\gmplot\\markers/6495ED.png');\n",
       "\t\tvar marker = new google.maps.Marker({\n",
       "\t\ttitle: \"no implementation\",\n",
       "\t\ticon: img,\n",
       "\t\tposition: latlng\n",
       "\t\t});\n",
       "\t\tmarker.setMap(map);\n",
       "\n",
       "\t\tvar latlng = new google.maps.LatLng(40.428661, -79.986358);\n",
       "\t\tvar img = new google.maps.MarkerImage('E:\\UserData\\Raj\\Anaconda2\\envs\\tensorflow\\lib\\site-packages\\gmplot\\markers/6495ED.png');\n",
       "\t\tvar marker = new google.maps.Marker({\n",
       "\t\ttitle: \"no implementation\",\n",
       "\t\ticon: img,\n",
       "\t\tposition: latlng\n",
       "\t\t});\n",
       "\t\tmarker.setMap(map);\n",
       "\n",
       "\t\tvar latlng = new google.maps.LatLng(40.461817, -79.968002);\n",
       "\t\tvar img = new google.maps.MarkerImage('E:\\UserData\\Raj\\Anaconda2\\envs\\tensorflow\\lib\\site-packages\\gmplot\\markers/6495ED.png');\n",
       "\t\tvar marker = new google.maps.Marker({\n",
       "\t\ttitle: \"no implementation\",\n",
       "\t\ticon: img,\n",
       "\t\tposition: latlng\n",
       "\t\t});\n",
       "\t\tmarker.setMap(map);\n",
       "\n",
       "\t\tvar latlng = new google.maps.LatLng(40.462026, -79.968114);\n",
       "\t\tvar img = new google.maps.MarkerImage('E:\\UserData\\Raj\\Anaconda2\\envs\\tensorflow\\lib\\site-packages\\gmplot\\markers/6495ED.png');\n",
       "\t\tvar marker = new google.maps.Marker({\n",
       "\t\ttitle: \"no implementation\",\n",
       "\t\ticon: img,\n",
       "\t\tposition: latlng\n",
       "\t\t});\n",
       "\t\tmarker.setMap(map);\n",
       "\n",
       "\t}\n",
       "</script>\n",
       "</head>\n",
       "<body style=\"margin:0px; padding:0px;\" onload=\"initialize()\">\n",
       "\t<div id=\"map_canvas\" style=\"width: 100%; height: 100%;\"></div>\n",
       "</body>\n",
       "</html>\n"
      ],
      "text/plain": [
       "<IPython.core.display.HTML object>"
      ]
     },
     "metadata": {},
     "output_type": "display_data"
    }
   ],
   "source": [
    "from IPython.core.display import display, HTML\n",
    "display(HTML('mymap.html'))"
   ]
  },
  {
   "cell_type": "code",
   "execution_count": 12,
   "metadata": {},
   "outputs": [
    {
     "data": {
      "text/html": [
       "<a href='mymap.html' target='_blank'>mymap</a>"
      ],
      "text/plain": [
       "<IPython.core.display.HTML object>"
      ]
     },
     "metadata": {},
     "output_type": "display_data"
    }
   ],
   "source": [
    "display(HTML(\"<a href='mymap.html' target='_blank'>mymap</a>\"))"
   ]
  },
  {
   "cell_type": "code",
   "execution_count": null,
   "metadata": {
    "collapsed": true
   },
   "outputs": [],
   "source": []
  }
 ],
 "metadata": {
  "anaconda-cloud": {},
  "kernelspec": {
   "display_name": "Python 3",
   "language": "python",
   "name": "python3"
  },
  "language_info": {
   "codemirror_mode": {
    "name": "ipython",
    "version": 3
   },
   "file_extension": ".py",
   "mimetype": "text/x-python",
   "name": "python",
   "nbconvert_exporter": "python",
   "pygments_lexer": "ipython3",
   "version": "3.5.3"
  }
 },
 "nbformat": 4,
 "nbformat_minor": 1
}